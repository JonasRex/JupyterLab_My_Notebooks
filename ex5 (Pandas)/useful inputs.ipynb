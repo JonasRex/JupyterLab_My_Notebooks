{
 "cells": [
  {
   "cell_type": "markdown",
   "id": "b9f41dea",
   "metadata": {},
   "source": [
    "## A few useful pandas methods\n",
    "1. `df.set_index('Col name here')` set index of a data frame to be one of the columns (must be unique values)\n",
    "2. `df.sort_values(ascending=False)`\n",
    "3. `pd.read_csv('../../../data/country_codes.csv', sep='\\t', header=None)` \n",
    "4. `df['col'].str.strip()` use ds.str.some_method to do string operations on all values in dataframe column (data series)\n",
    "5. `data[data['Column Name'].isin(some_list)]` Filters all rows to only those where the value in specified column exists in a specified list\n",
    "6. `filter = as_and_bs[as_and_bs > 0]` Create a filter where all non-validate values is replaced with NaN\n",
    "7. `filter_na = filter.notna()` create a boolean mask to remove all NaN values\n",
    "8. `filter_na.any(axis=1)` any() includes all rows where a single True is present\n",
    "9. `filter_na.all(axis=1)` all() includes only those rows where all cells are True\n",
    "10. `ds.replace(val1,val2)` replaces all instances of val1 with val2\n",
    "11. `data[['col1','col2']].apply(pd.to_numeric)` convert all values of collumn 1 and 2 from string to numeric\n",
    "12. `df['col 3'] = df['col1']/df['col2']` creates a new column in the data frame with the result of dividing each value in column 1 with the equivilent value in column 2\n",
    "13. `df.groupby(['col1','col3']).sum().reset_index()`\n",
    "14. `df[df['col name']==some_value]` filter rows based on value\n",
    "15. merge\n",
    "16. When data is on different is on different rows for same entity"
   ]
  },
  {
   "cell_type": "code",
   "execution_count": null,
   "id": "f8dd17ee",
   "metadata": {},
   "outputs": [],
   "source": []
  }
 ],
 "metadata": {
  "kernelspec": {
   "display_name": "Python 3 (ipykernel)",
   "language": "python",
   "name": "python3"
  },
  "language_info": {
   "codemirror_mode": {
    "name": "ipython",
    "version": 3
   },
   "file_extension": ".py",
   "mimetype": "text/x-python",
   "name": "python",
   "nbconvert_exporter": "python",
   "pygments_lexer": "ipython3",
   "version": "3.10.6"
  }
 },
 "nbformat": 4,
 "nbformat_minor": 5
}
