{
 "cells": [
  {
   "cell_type": "markdown",
   "id": "31a73fa1",
   "metadata": {},
   "source": [
    "# Exercises\n",
    "\n",
    "  1. Create a Python module, which consists of a class TextContainer. The class must have a constructor which allow objects to be initialized with a text ala: `tc = TextContainer(my_text)`. The class must implement the following methods for computing statistics on texts.\n",
    "    * Counting the amount of words used in a text.\n",
    "    * Counting the amount of chars used in a text.\n",
    "    * Counting the amount of letters, where letters are all ASCII letter characters, see \n",
    "    ```python\n",
    "    import string\n",
    "    string.ascii_letters  # returns 'abcdefghijklmnopqrstuvwxyzABCDEFGHIJKLMNOPQRSTUVWXYZ'\n",
    "    ```\n",
    "    * Remove all punctuation characters, see\n",
    "    ```python\n",
    "    import string\n",
    "    string.punctuation  # returns '!\"#$%&\\'()*+,-./:;<=>?@[\\\\]^_`{|}~'\n",
    "    ```"
   ]
  },
  {
   "cell_type": "code",
   "execution_count": 1,
   "id": "a450d5c2",
   "metadata": {},
   "outputs": [
    {
     "name": "stdout",
     "output_type": "stream",
     "text": [
      "Words:  3\n"
     ]
    }
   ],
   "source": [
    "from my_modules.lesson3.text_container import TextContainer\n",
    "\n",
    "obj = TextContainer(\"Hej med dig\")\n",
    "\n",
    "\n",
    "\n",
    "print(\"Words: \", obj.words_amount())"
   ]
  },
  {
   "cell_type": "code",
   "execution_count": 4,
   "id": "726e7267",
   "metadata": {},
   "outputs": [
    {
     "name": "stdout",
     "output_type": "stream",
     "text": [
      "Chars:  47\n",
      "Letters (v1):  30\n",
      "Letters (v2):  30\n",
      "Letters (v3):  30\n"
     ]
    }
   ],
   "source": [
    "from my_modules.lesson3.text_container import TextContainer\n",
    "\n",
    "obj2 = TextContainer(\"Anders har 300 venner... Men kun 1 bedste ven!?\")\n",
    "\n",
    "print(\"Chars: \", obj2.chars_amount())\n",
    "print(\"Letters (v1): \", obj2.letters_amount())\n",
    "# Made a new version with list comprehension instead of double for loop.\n",
    "print(\"Letters (v2): \", obj2.letters_amount_v2())\n",
    "print(\"Letters (v3): \", obj2.letters_amount_v3())"
   ]
  },
  {
   "cell_type": "code",
   "execution_count": 2,
   "id": "4763a26c",
   "metadata": {},
   "outputs": [
    {
     "name": "stdout",
     "output_type": "stream",
     "text": [
      "Anders har 300 venner Men kun 1 bedste ven\n"
     ]
    }
   ],
   "source": [
    "from my_modules.lesson3.text_container import TextContainer\n",
    "\n",
    "obj3 = TextContainer(\"Anders har 300 venner... Men kun 1 bedste ven!?\")\n",
    "\n",
    "print(obj3.remove_punctuation())"
   ]
  }
 ],
 "metadata": {
  "kernelspec": {
   "display_name": "Python 3 (ipykernel)",
   "language": "python",
   "name": "python3"
  },
  "language_info": {
   "codemirror_mode": {
    "name": "ipython",
    "version": 3
   },
   "file_extension": ".py",
   "mimetype": "text/x-python",
   "name": "python",
   "nbconvert_exporter": "python",
   "pygments_lexer": "ipython3",
   "version": "3.10.6"
  }
 },
 "nbformat": 4,
 "nbformat_minor": 5
}
