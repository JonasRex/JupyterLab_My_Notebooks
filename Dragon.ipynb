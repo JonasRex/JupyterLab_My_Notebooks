{
 "cells": [
  {
   "cell_type": "code",
   "execution_count": 1,
   "id": "81a69877",
   "metadata": {},
   "outputs": [],
   "source": [
    "def get_price(price, amount):\n",
    "    total_price = 0\n",
    "    for i in range(amount):\n",
    "        total_price += price\n",
    "        price += 5\n",
    "    #print(price)\n",
    "    return total_price\n",
    "        \n",
    "#get_price(200,5)"
   ]
  },
  {
   "cell_type": "code",
   "execution_count": 2,
   "id": "7dd716d6",
   "metadata": {},
   "outputs": [],
   "source": [
    "import math\n",
    "\n",
    "def get_amount_of_eggs(dragons):\n",
    "    need = [0,0,0,0,0]\n",
    "    need[4] = 3 - dragons[4]\n",
    "    for i in reversed(range(4)):\n",
    "        need[i] = math.ceil(need[i+1] * 2.5) - dragons[i]\n",
    "    \n",
    "    return need"
   ]
  },
  {
   "cell_type": "code",
   "execution_count": 10,
   "id": "4af84258",
   "metadata": {
    "scrolled": true
   },
   "outputs": [
    {
     "name": "stdout",
     "output_type": "stream",
     "text": [
      "crimson: 33 eggs for: 12540 avg price: 380.0\n",
      "grass: 108 eggs for: 74250 avg price: 687.5\n",
      "rock: 23 eggs for: 7130 avg price: 310.0\n",
      "green: 125 eggs for: 114375 avg price: 915.0\n",
      "spotted: 55 eggs for: 24200 avg price: 440.0\n",
      "sharp: 63 eggs for: 25830 avg price: 410.0\n",
      "golem: 77 eggs for: 38500 avg price: 500.0\n",
      "toadstool: 95 eggs for: 40375 avg price: 425.0\n"
     ]
    }
   ],
   "source": [
    "crimson = [0,2,2,2,1]\n",
    "grass = [0,0,3,0,0]\n",
    "rock = [0,4,0,1,2]\n",
    "green = [0,0,0,0,0]\n",
    "spotted = [0,1,4,0,1]\n",
    "sharp = [0,0,0,4,0]\n",
    "golem = [1,2,0,0,1]\n",
    "toadstool = [0,2,2,1,0]\n",
    "\n",
    "labels = [\"crimson\", \"grass\", \"rock\", \"green\", \"spotted\", \"sharp\", \"golem\", \"toadstool\"]\n",
    "price = [300,420,255,605,305,255,310,190]\n",
    "all_dragons = [crimson, grass, rock, green, spotted, sharp, golem, toadstool]\n",
    "\n",
    "new_dict = dict()\n",
    "\n",
    "for i in range(len(all_dragons)):\n",
    "    \n",
    "    need = get_amount_of_eggs(all_dragons[i])\n",
    "    total_price = get_price(price[i], need[0])\n",
    "    avg = total_price / need[0]\n",
    "    new_dict[labels[i]] = need[0], total_price\n",
    "    print(f'{labels[i]}: {need[0]} eggs for: {total_price} avg price: {avg}')\n"
   ]
  },
  {
   "cell_type": "code",
   "execution_count": 15,
   "id": "83947655",
   "metadata": {
    "scrolled": true
   },
   "outputs": [
    {
     "data": {
      "text/plain": [
       "{'crimson': (33, 12540),\n",
       " 'grass': (108, 74250),\n",
       " 'rock': (23, 7130),\n",
       " 'green': (125, 114375),\n",
       " 'spotted': (55, 24200),\n",
       " 'sharp': (63, 25830),\n",
       " 'golem': (77, 38500),\n",
       " 'toadstool': (95, 40375)}"
      ]
     },
     "execution_count": 15,
     "metadata": {},
     "output_type": "execute_result"
    }
   ],
   "source": [
    "new_dict"
   ]
  },
  {
   "cell_type": "code",
   "execution_count": 16,
   "id": "11988a65",
   "metadata": {},
   "outputs": [
    {
     "data": {
      "text/plain": [
       "{'rock': (23, 7130),\n",
       " 'crimson': (33, 12540),\n",
       " 'spotted': (55, 24200),\n",
       " 'sharp': (63, 25830),\n",
       " 'golem': (77, 38500),\n",
       " 'toadstool': (95, 40375),\n",
       " 'grass': (108, 74250),\n",
       " 'green': (125, 114375)}"
      ]
     },
     "execution_count": 16,
     "metadata": {},
     "output_type": "execute_result"
    }
   ],
   "source": [
    "dict(sorted(new_dict.items(), key=lambda item: item[1]))"
   ]
  },
  {
   "cell_type": "code",
   "execution_count": null,
   "id": "783105cf",
   "metadata": {},
   "outputs": [],
   "source": [
    "23430 + 2500 + 25000\n",
    "\n",
    "8 + 7 = 15      58\n",
    "\n",
    "\n",
    "\n",
    "600\n",
    "\n",
    "\n",
    "\n",
    "20995 + 1902"
   ]
  },
  {
   "cell_type": "code",
   "execution_count": 34,
   "id": "d79f6604",
   "metadata": {},
   "outputs": [
    {
     "name": "stdout",
     "output_type": "stream",
     "text": [
      "605\n"
     ]
    },
    {
     "data": {
      "text/plain": [
       "28035"
      ]
     },
     "execution_count": 34,
     "metadata": {},
     "output_type": "execute_result"
    }
   ],
   "source": [
    "get_price(290, 63)"
   ]
  },
  {
   "cell_type": "code",
   "execution_count": 37,
   "id": "27842b50",
   "metadata": {},
   "outputs": [
    {
     "name": "stdout",
     "output_type": "stream",
     "text": [
      "22895\n",
      "50930\n"
     ]
    }
   ],
   "source": [
    "coins = 50930\n",
    "price = 28035\n",
    "print(coins - price)\n",
    "print(23430 + 2500 + 25000)"
   ]
  },
  {
   "cell_type": "code",
   "execution_count": 38,
   "id": "d5e4d428",
   "metadata": {},
   "outputs": [
    {
     "name": "stdout",
     "output_type": "stream",
     "text": [
      "22897\n"
     ]
    }
   ],
   "source": [
    "print(20995 + 1902)"
   ]
  },
  {
   "cell_type": "code",
   "execution_count": 39,
   "id": "a2dc44bd",
   "metadata": {},
   "outputs": [
    {
     "name": "stdout",
     "output_type": "stream",
     "text": [
      "crimson: 33 eggs for: 13200\n"
     ]
    },
    {
     "data": {
      "text/plain": [
       "320"
      ]
     },
     "execution_count": 39,
     "metadata": {},
     "output_type": "execute_result"
    }
   ],
   "source": [
    "crimson = [0,0,0,1,2]\n",
    "\n",
    "labels = [\"crimson\"]\n",
    "price = [320]\n",
    "all_dragons = [crimson]\n",
    "\n",
    "for i in range(len(all_dragons)):\n",
    "    need = get_amount_of_eggs(all_dragons[i])\n",
    "    total_price = get_price(price[i], need[0])\n",
    "    print(f'{labels[i]}: {need[0]} eggs for: {total_price}')\n",
    "\n",
    "\n",
    "320"
   ]
  },
  {
   "cell_type": "markdown",
   "id": "a73f5829",
   "metadata": {},
   "source": [
    "# Maddy"
   ]
  },
  {
   "cell_type": "code",
   "execution_count": 5,
   "id": "3ecf82ee",
   "metadata": {},
   "outputs": [
    {
     "name": "stdout",
     "output_type": "stream",
     "text": [
      "crimson: 20 eggs for: 8550 avg price: 427.5\n",
      "grass: 28 eggs for: 11270 avg price: 402.5\n",
      "rock: 48 eggs for: 19320 avg price: 402.5\n",
      "green: 35 eggs for: 14700 avg price: 420.0\n",
      "spotted: 49 eggs for: 21805 avg price: 445.0\n",
      "sharp: 42 eggs for: 18165 avg price: 432.5\n",
      "golem: 77 eggs for: 40425 avg price: 525.0\n",
      "rocs: 49 eggs for: 21560 avg price: 440.0\n",
      "toadstool: 70 eggs for: 34125 avg price: 487.5\n",
      "garge: 87 eggs for: 40455 avg price: 465.0\n"
     ]
    }
   ],
   "source": [
    "crimson = [0,2,1,1,2]\n",
    "grass = [0,2,0,1,2]\n",
    "rock = [0,1,0,2,1]\n",
    "green = [0,4,3,1,1]\n",
    "spotted = [1,0,0,2,1]\n",
    "sharp = [1,1,1,2,1]\n",
    "golem = [1,2,0,0,1]\n",
    "rocs = [1,0,0,0,2]\n",
    "toadstool = [0,2,1,0,1]\n",
    "garge = [1,0,1,2,0]\n",
    "\n",
    "labels = [\"crimson\", \"grass\", \"rock\", \"green\", \"spotted\", \"sharp\", \"golem\", \"rocs\", \"toadstool\", \"garge\"]\n",
    "price = [380,335,285,335,325,330,335,320,315,250]\n",
    "all_dragons = [crimson, grass, rock, green, spotted, sharp, golem, rocs, toadstool, garge]\n",
    "\n",
    "new_dict = dict()\n",
    "\n",
    "for i in range(len(all_dragons)):\n",
    "    \n",
    "    need = get_amount_of_eggs(all_dragons[i])\n",
    "    total_price = get_price(price[i], need[0])\n",
    "    avg = total_price / need[0]\n",
    "    new_dict[labels[i]] = need[0], total_price\n",
    "    print(f'{labels[i]}: {need[0]} eggs for: {total_price} avg price: {avg}')\n"
   ]
  },
  {
   "cell_type": "code",
   "execution_count": 6,
   "id": "9816df31",
   "metadata": {},
   "outputs": [
    {
     "data": {
      "text/plain": [
       "{'crimson': (20, 8550),\n",
       " 'grass': (28, 11270),\n",
       " 'green': (35, 14700),\n",
       " 'sharp': (42, 18165),\n",
       " 'rock': (48, 19320),\n",
       " 'rocs': (49, 21560),\n",
       " 'spotted': (49, 21805),\n",
       " 'toadstool': (70, 34125),\n",
       " 'golem': (77, 40425),\n",
       " 'garge': (87, 40455)}"
      ]
     },
     "execution_count": 6,
     "metadata": {},
     "output_type": "execute_result"
    }
   ],
   "source": [
    "dict(sorted(new_dict.items(), key=lambda item: item[1]))"
   ]
  },
  {
   "cell_type": "markdown",
   "id": "eb9b7513",
   "metadata": {},
   "source": [
    "# Stone"
   ]
  },
  {
   "cell_type": "code",
   "execution_count": 5,
   "id": "7b01cf84",
   "metadata": {},
   "outputs": [],
   "source": [
    "import math\n",
    "\n",
    "def get_amount_of_stone(stones):\n",
    "    need = [0,0,0,0,0,0]\n",
    "    need[5] = 3 - stones[5]\n",
    "    for i in reversed(range(5)):\n",
    "        need[i] = math.ceil(need[i+1] * 2.5) - stones[i]\n",
    "    \n",
    "    return need\n",
    "\n"
   ]
  },
  {
   "cell_type": "code",
   "execution_count": 6,
   "id": "b7b4ec5e",
   "metadata": {},
   "outputs": [
    {
     "data": {
      "text/plain": [
       "[173, 69, 29, 12, 5, 2]"
      ]
     },
     "execution_count": 6,
     "metadata": {},
     "output_type": "execute_result"
    }
   ],
   "source": [
    "t = [0,4,1,1,0,1]\n",
    "\n",
    "get_amount_of_stone(t)"
   ]
  },
  {
   "cell_type": "code",
   "execution_count": 7,
   "id": "366ab72b",
   "metadata": {},
   "outputs": [
    {
     "data": {
      "text/plain": [
       "51208"
      ]
     },
     "execution_count": 7,
     "metadata": {},
     "output_type": "execute_result"
    }
   ],
   "source": [
    "173*296"
   ]
  },
  {
   "cell_type": "code",
   "execution_count": null,
   "id": "2a2eabe4",
   "metadata": {},
   "outputs": [],
   "source": []
  }
 ],
 "metadata": {
  "kernelspec": {
   "display_name": "Python 3 (ipykernel)",
   "language": "python",
   "name": "python3"
  },
  "language_info": {
   "codemirror_mode": {
    "name": "ipython",
    "version": 3
   },
   "file_extension": ".py",
   "mimetype": "text/x-python",
   "name": "python",
   "nbconvert_exporter": "python",
   "pygments_lexer": "ipython3",
   "version": "3.10.6"
  }
 },
 "nbformat": 4,
 "nbformat_minor": 5
}
