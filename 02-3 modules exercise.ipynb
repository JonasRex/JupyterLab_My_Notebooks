{
 "cells": [
  {
   "cell_type": "markdown",
   "id": "1998c68e",
   "metadata": {},
   "source": [
    "# Exercises\n",
    "\n",
    "  1. Create a small program with 2 modules. First module contains a list of names. Second module has a function that can take a list of names and print each name with the word \"hello\" in front. Let the second module import the first module and use the list of names from it. Run the second module from a notebook cell.\n"
   ]
  },
  {
   "cell_type": "code",
   "execution_count": null,
   "id": "5823de3b",
   "metadata": {},
   "outputs": [],
   "source": []
  }
 ],
 "metadata": {
  "kernelspec": {
   "display_name": "Python 3 (ipykernel)",
   "language": "python",
   "name": "python3"
  },
  "language_info": {
   "codemirror_mode": {
    "name": "ipython",
    "version": 3
   },
   "file_extension": ".py",
   "mimetype": "text/x-python",
   "name": "python",
   "nbconvert_exporter": "python",
   "pygments_lexer": "ipython3",
   "version": "3.10.6"
  }
 },
 "nbformat": 4,
 "nbformat_minor": 5
}
