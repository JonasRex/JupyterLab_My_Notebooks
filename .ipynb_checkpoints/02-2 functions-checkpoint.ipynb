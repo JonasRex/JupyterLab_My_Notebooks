{
 "cells": [
  {
   "cell_type": "markdown",
   "id": "ba52810a",
   "metadata": {},
   "source": [
    "## Exercise\n",
    "\n",
    "1. Write a function that iterates through a list and prints each value **without using a loop**.  \n",
    "That is, write a recursive function to print the values of a list.\n",
    "2. Write a function that can take any number of arguments and return all arguments concatenated or summed depending on the data type"
   ]
  },
  {
   "cell_type": "code",
   "execution_count": 6,
   "id": "d51a2172",
   "metadata": {},
   "outputs": [
    {
     "name": "stdout",
     "output_type": "stream",
     "text": [
      "Allan\n",
      "Bo\n",
      "Connie\n",
      "Dan\n",
      "Else\n"
     ]
    }
   ],
   "source": [
    "list_names = [\"Allan\", \"Bo\", \"Connie\",\"Dan\",\"Else\"]\n",
    "\n",
    "def recursive_function(names):\n",
    "    if len(names) < 1:\n",
    "        return\n",
    "    print(names[0])\n",
    "    names.remove(names[0])\n",
    "    return recursive_function(names)\n",
    "\n",
    "recursive_function(list_names)"
   ]
  },
  {
   "cell_type": "code",
   "execution_count": 24,
   "id": "1aca1411",
   "metadata": {},
   "outputs": [
    {
     "name": "stdout",
     "output_type": "stream",
     "text": [
      "Hello my friend\n",
      "4812\n"
     ]
    }
   ],
   "source": [
    "list_strings = [\"Hello\", \"my\",\"friend\"];\n",
    "list_numbers = [111, 53, 4648];\n",
    "\n",
    "def analyze_arguments(args):\n",
    "    if type(args[0]) == str:\n",
    "        return ' '.join(args)\n",
    "    elif type(args[0]) == int:\n",
    "        return sum(args)\n",
    "    else:\n",
    "        return 'wrong types!'\n",
    "    \n",
    "print(analyze_arguments(list_strings))\n",
    "print(analyze_arguments(list_numbers))"
   ]
  },
  {
   "cell_type": "code",
   "execution_count": null,
   "id": "e3f05b2c",
   "metadata": {},
   "outputs": [],
   "source": []
  }
 ],
 "metadata": {
  "kernelspec": {
   "display_name": "Python 3 (ipykernel)",
   "language": "python",
   "name": "python3"
  },
  "language_info": {
   "codemirror_mode": {
    "name": "ipython",
    "version": 3
   },
   "file_extension": ".py",
   "mimetype": "text/x-python",
   "name": "python",
   "nbconvert_exporter": "python",
   "pygments_lexer": "ipython3",
   "version": "3.10.6"
  }
 },
 "nbformat": 4,
 "nbformat_minor": 5
}
