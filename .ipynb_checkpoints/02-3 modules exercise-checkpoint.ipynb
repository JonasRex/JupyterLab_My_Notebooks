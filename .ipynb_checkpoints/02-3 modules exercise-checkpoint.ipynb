{
 "cells": [
  {
   "cell_type": "markdown",
   "id": "1998c68e",
   "metadata": {},
   "source": [
    "# Exercises\n",
    "\n",
    "  1. Create a small program with 2 modules. First module contains a list of names. Second module has a function that can take a list of names and print each name with the word \"hello\" in front. Let the second module import the first module and use the list of names from it. Run the second module from a notebook cell.\n",
    "  \n",
    "   \n",
    "  "
   ]
  },
  {
   "cell_type": "code",
   "execution_count": 10,
   "id": "52c7afca",
   "metadata": {},
   "outputs": [
    {
     "name": "stdout",
     "output_type": "stream",
     "text": [
      "['Allan', 'Bo', 'Connie', 'David', 'Eva']\n"
     ]
    }
   ],
   "source": [
    "from my_modules import names_list as nl\n",
    "\n",
    "print(nl.names)"
   ]
  },
  {
   "cell_type": "markdown",
   "id": "0416a6d2",
   "metadata": {},
   "source": [
    "2. Write a module `webget.py` that exposes a function to download a file from the web in case it does not exist locally already. The function shall have the following signature `download(url, to=None)` where the keyword argument `to` specifies where to save a file locally and with which name. If `to == None` then the file shall be saved in the current working directory `./` with the same name as it has at its origin. For example, calling your program as in the following\n",
    "\n",
    "  ```python\n",
    "  import webget\n",
    "\n",
    "  url = 'http://data.kk.dk/dataset/76ecf368-bf2d-46a2-bcf8-adaf37662528/resource/9286af17-f74e-46c9-a428-9fb707542189/download/befkbhalderstatkode.csv'\n",
    "  webget.download(url)\n",
    "  ```\n",
    "\n",
    "  will download the remote file to `./befkbhalderstatkode.csv`.\n",
    "\n",
    "  Likely, you will need functions from the standard library modules `os`, and `urllib`. For example, read the doc strings for the following functions and implement the given function stub with help of them.\n",
    "\n",
    "    * `os.path.isfile?`\n",
    "    * `os.path.join?`\n",
    "    * `os.path.basename?`\n",
    "    * `urllib.parse?` \n",
    "    * `urllib.request.urlretrieve?`\n",
    "  \n",
    "  \n",
    "  ```python\n",
    "  import os\n",
    "  import urllib.request as req\n",
    "  from urllib.parse import urlparse\n",
    "  \n",
    "  \n",
    "  def download(url, to=None):\n",
    "      \"\"\"Download a remote file specified by a URL to a \n",
    "      local directory.\n",
    "  \n",
    "      :param url: str\n",
    "          URL pointing to a remote file.\n",
    "          \n",
    "      :param to: str\n",
    "          Local path, absolute or relative, with a filename \n",
    "          to the file storing the contents of the remote file.\n",
    "      \"\"\"\n",
    "    \n",
    "      # TODO: Implement me!\n",
    "      pass\n",
    "  ```\n",
    "  \n"
   ]
  },
  {
   "cell_type": "code",
   "execution_count": 6,
   "id": "9dca124a",
   "metadata": {},
   "outputs": [
    {
     "data": {
      "text/plain": [
       "'testing.csv'"
      ]
     },
     "execution_count": 6,
     "metadata": {},
     "output_type": "execute_result"
    }
   ],
   "source": [
    "from my_libs import webget\n",
    "\n",
    "# Couldnt get it to work correct, so I copy pasted it from notebooks/modules\n",
    "\n",
    "url = 'http://data.kk.dk/dataset/76ecf368-bf2d-46a2-bcf8-adaf37662528/resource/9286af17-f74e-46c9-a428-9fb707542189/download/befkbhalderstatkode.csv'\n",
    "# url = 'https://www.opendata.dk/city-of-copenhagen/afstemningsomrader-i-kobenhavn#resource-afstemningsomraader.csv'\n",
    "webget.download(url, \"testing.csv\")"
   ]
  },
  {
   "cell_type": "markdown",
   "id": "28c2408d",
   "metadata": {},
   "source": [
    "## Exercise continued\n",
    "#### Import from a sibling folder\n",
    "1. Create a folder called my_libs and put your webget.py file inside.\n",
    "2. Create another folder next to my_libs with a file: test.py\n",
    "3. Let test.py import webget and run the download function to get some data from the net"
   ]
  },
  {
   "cell_type": "code",
   "execution_count": 5,
   "id": "601aad60",
   "metadata": {},
   "outputs": [
    {
     "data": {
      "text/plain": [
       "'testing.csv'"
      ]
     },
     "execution_count": 5,
     "metadata": {},
     "output_type": "execute_result"
    }
   ],
   "source": [
    "from my_libs import webget\n",
    "\n",
    "url = 'http://data.kk.dk/dataset/76ecf368-bf2d-46a2-bcf8-adaf37662528/resource/9286af17-f74e-46c9-a428-9fb707542189/download/befkbhalderstatkode.csv'\n",
    "# url = 'https://www.opendata.dk/city-of-copenhagen/afstemningsomrader-i-kobenhavn#resource-afstemningsomraader.csv'\n",
    "webget.download(url, \"testing.csv\")"
   ]
  },
  {
   "cell_type": "code",
   "execution_count": 1,
   "id": "7fa8369f",
   "metadata": {},
   "outputs": [
    {
     "name": "stdout",
     "output_type": "stream",
     "text": [
      "./befkbhalderstatkode.csv\n"
     ]
    }
   ],
   "source": [
    "from delete_me import test\n",
    "\n",
    "print(test.dl)"
   ]
  },
  {
   "cell_type": "code",
   "execution_count": null,
   "id": "a8225861",
   "metadata": {},
   "outputs": [],
   "source": []
  }
 ],
 "metadata": {
  "kernelspec": {
   "display_name": "Python 3 (ipykernel)",
   "language": "python",
   "name": "python3"
  },
  "language_info": {
   "codemirror_mode": {
    "name": "ipython",
    "version": 3
   },
   "file_extension": ".py",
   "mimetype": "text/x-python",
   "name": "python",
   "nbconvert_exporter": "python",
   "pygments_lexer": "ipython3",
   "version": "3.10.6"
  }
 },
 "nbformat": 4,
 "nbformat_minor": 5
}
