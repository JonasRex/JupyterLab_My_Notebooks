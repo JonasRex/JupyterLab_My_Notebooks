{
 "cells": [
  {
   "cell_type": "raw",
   "metadata": {},
   "source": [
    "## Exercise"
   ]
  },
  {
   "cell_type": "markdown",
   "metadata": {},
   "source": [
    "1. Create 5 list comprehensions to solve the following 5 problems:\n",
    "  1. Iterate a list of names to return a list of the names starting with H\n",
    "  2. In one line create a list of the numbers 1-100 to the power of 3\n",
    "  3. Iterate a list of names to create a list of tuples where the tuples first value is the length of the name and the second is the name\n",
    "  4. Iterate over each character in a string and get only those that are nummeric\n",
    "  5. Using only a list comprehension wrapped in set() get all possible combinations from throwing 2 dice (hint use 2 for loops in a single list comprehension). Result should look like: [2,3,4,5,6,7,8,...] or a more complex/accurate solution: [(1,1),(1,2)...] in a way that (1,2) is equal to (2,1). \n",
    "\n",
    "2. Create 2 dictionary comprehensions to solve the following:\n",
    "  1. Iterate a list of names and create a dictionary where key is the name and value is the length of the name\n",
    "  2. Iterate a list of numbers and create a dictionary with {key:value} being {number:squareroot_of_number}\n",
    "\n",
    "3. Extra assignment (This one goes beyond what is covered in the course notebooks. So only do it if you want an extra challenge).\n",
    "  - Progammatically using loops create a small program to produce a dictionary with all the 2 dice throw combinations as keys (eg: 2,3,4...etc) and their likelyhood in percent as values"
   ]
  },
  {
   "cell_type": "markdown",
   "metadata": {},
   "source": [
    "## 1."
   ]
  },
  {
   "cell_type": "markdown",
   "metadata": {},
   "source": [
    "A) Iterate a list of names to return a list of the names starting with H"
   ]
  },
  {
   "cell_type": "code",
   "execution_count": 6,
   "metadata": {},
   "outputs": [
    {
     "name": "stdout",
     "output_type": "stream",
     "text": [
      "['Henning', 'Hanne']\n"
     ]
    }
   ],
   "source": [
    "my_list = [\"Allan\", \"Henning\", \"Ida\", \"Hanne\"]\n",
    "\n",
    "matches = [name for name in my_list if name.lower().startswith(\"h\")]\n",
    "  \n",
    "print(matches)"
   ]
  },
  {
   "cell_type": "markdown",
   "metadata": {},
   "source": [
    "B) In one line create a list of the numbers 1-100 to the power of 3"
   ]
  },
  {
   "cell_type": "code",
   "execution_count": 8,
   "metadata": {},
   "outputs": [
    {
     "name": "stdout",
     "output_type": "stream",
     "text": [
      "[1, 8, 27, 64, 125, 216, 343, 512, 729, 1000, 1331, 1728, 2197, 2744, 3375, 4096, 4913, 5832, 6859, 8000, 9261, 10648, 12167, 13824, 15625, 17576, 19683, 21952, 24389, 27000, 29791, 32768, 35937, 39304, 42875, 46656, 50653, 54872, 59319, 64000, 68921, 74088, 79507, 85184, 91125, 97336, 103823, 110592, 117649, 125000, 132651, 140608, 148877, 157464, 166375, 175616, 185193, 195112, 205379, 216000, 226981, 238328, 250047, 262144, 274625, 287496, 300763, 314432, 328509, 343000, 357911, 373248, 389017, 405224, 421875, 438976, 456533, 474552, 493039, 512000, 531441, 551368, 571787, 592704, 614125, 636056, 658503, 681472, 704969, 729000, 753571, 778688, 804357, 830584, 857375, 884736, 912673, 941192, 970299, 1000000]\n"
     ]
    }
   ],
   "source": [
    "my_numbers = [i**3 for i in range(1,101)]\n",
    "\n",
    "print(my_numbers)"
   ]
  },
  {
   "cell_type": "markdown",
   "metadata": {},
   "source": [
    "C) Iterate a list of names to create a list of tuples where the tuples first value is the length of the name and the second is the name"
   ]
  },
  {
   "cell_type": "code",
   "execution_count": 9,
   "metadata": {},
   "outputs": [
    {
     "name": "stdout",
     "output_type": "stream",
     "text": [
      "(6, 'Anders')\n",
      "(3, 'Ida')\n",
      "(5, 'Jonas')\n",
      "(5, 'Peter')\n",
      "(5, 'Søren')\n"
     ]
    }
   ],
   "source": [
    "names = [\"Ida\", \"Søren\", \"Jonas\",\"Peter\",\"Anders\"]\n",
    "\n",
    "names.sort() # Just for fun\n",
    "\n",
    "tubled_names = [ print(tuple([int(length), name])) for name in names for length in str(len(name))]"
   ]
  },
  {
   "cell_type": "markdown",
   "metadata": {},
   "source": [
    "D) Iterate over each character in a string and get only those that are nummeric"
   ]
  },
  {
   "cell_type": "code",
   "execution_count": 11,
   "metadata": {
    "scrolled": true
   },
   "outputs": [
    {
     "name": "stdout",
     "output_type": "stream",
     "text": [
      "[1, 2, 3, 1, 2, 3]\n"
     ]
    }
   ],
   "source": [
    "def analyse_string(string):\n",
    "    my_string = list(string)\n",
    "    numbers = [int(character) for character in my_string if character.isdigit() ]\n",
    "\n",
    "    return numbers\n",
    "    \n",
    "        \n",
    "string = \"abc123abc123\"  \n",
    "\n",
    "\n",
    "\n",
    "print(analyse_string(string))"
   ]
  },
  {
   "cell_type": "markdown",
   "metadata": {},
   "source": [
    "E) Using only a list comprehension wrapped in set() get all possible combinations from throwing 2 dice (hint use 2 for loops in a single list comprehension). Result should look like: [2,3,4,5,6,7,8,...] or a more complex/accurate solution: [(1,1),(1,2)...] in a way that (1,2) is equal to (2,1)."
   ]
  },
  {
   "cell_type": "code",
   "execution_count": 1,
   "metadata": {},
   "outputs": [
    {
     "name": "stdout",
     "output_type": "stream",
     "text": [
      "Combinations: (3 Dices)\n",
      "Different combinations:  216\n",
      "{(5, 1, 6), (5, 3, 3), (5, 4, 2), (2, 1, 6), (1, 6, 6), (2, 2, 5), (6, 6, 4), (3, 2, 1), (2, 6, 5), (5, 2, 4), (5, 5, 3), (3, 1, 5), (3, 3, 2), (3, 6, 1), (4, 1, 2), (2, 4, 5), (6, 4, 6), (5, 3, 5), (5, 4, 4), (5, 6, 1), (3, 5, 2), (6, 1, 1), (4, 4, 3), (5, 2, 6), (1, 3, 2), (5, 5, 5), (3, 3, 4), (3, 6, 3), (4, 1, 4), (4, 3, 1), (6, 2, 2), (1, 1, 2), (5, 1, 1), (5, 4, 6), (1, 5, 2), (5, 6, 3), (1, 6, 1), (3, 5, 4), (6, 1, 3), (4, 2, 2), (4, 4, 5), (4, 6, 2), (6, 5, 3), (1, 3, 4), (1, 4, 3), (3, 3, 6), (3, 4, 5), (4, 1, 6), (6, 2, 4), (6, 4, 4), (1, 1, 4), (5, 1, 3), (1, 5, 4), (5, 6, 5), (1, 6, 3), (2, 2, 2), (3, 5, 6), (4, 2, 4), (6, 1, 5), (2, 6, 2), (2, 5, 4), (5, 2, 1), (4, 6, 4), (3, 1, 2), (4, 5, 6), (6, 5, 5), (1, 3, 6), (1, 4, 5), (2, 4, 2), (6, 2, 6), (2, 3, 6), (5, 1, 5), (5, 3, 2), (5, 4, 1), (1, 5, 6), (1, 6, 5), (2, 2, 4), (4, 2, 6), (6, 3, 1), (2, 6, 4), (2, 5, 6), (5, 2, 3), (1, 2, 1), (3, 1, 4), (3, 3, 1), (3, 2, 3), (4, 6, 6), (6, 6, 6), (5, 4, 3), (3, 5, 1), (2, 1, 1), (6, 3, 3), (4, 4, 2), (4, 5, 1), (2, 6, 6), (5, 2, 5), (1, 3, 1), (1, 2, 3), (3, 1, 6), (3, 3, 3), (3, 2, 5), (3, 4, 2), (2, 3, 1), (3, 6, 5), (4, 3, 3), (6, 4, 1), (5, 4, 5), (1, 5, 1), (3, 5, 3), (6, 1, 2), (2, 1, 3), (2, 5, 1), (4, 4, 4), (4, 6, 1), (4, 5, 3), (6, 3, 5), (6, 5, 2), (1, 3, 3), (1, 2, 5), (1, 4, 2), (3, 3, 5), (6, 6, 1), (3, 4, 4), (2, 3, 3), (4, 3, 5), (6, 4, 3), (1, 1, 6), (1, 6, 2), (6, 1, 4), (2, 1, 5), (2, 5, 3), (4, 4, 6), (4, 6, 3), (3, 1, 1), (4, 5, 5), (6, 5, 4), (6, 6, 3), (1, 4, 4), (3, 4, 6), (5, 5, 2), (4, 1, 1), (2, 3, 5), (2, 4, 4), (6, 4, 5), (1, 6, 4), (5, 3, 4), (2, 2, 6), (2, 5, 5), (5, 2, 2), (6, 5, 6), (3, 1, 3), (6, 6, 5), (3, 2, 2), (1, 4, 6), (5, 5, 4), (3, 6, 2), (4, 1, 3), (6, 2, 1), (2, 4, 6), (1, 1, 1), (5, 3, 6), (5, 6, 2), (6, 3, 2), (4, 4, 1), (4, 2, 1), (1, 2, 2), (3, 2, 4), (3, 4, 1), (5, 5, 6), (3, 6, 4), (4, 1, 5), (4, 3, 2), (6, 2, 3), (1, 1, 3), (5, 1, 2), (1, 5, 3), (2, 1, 2), (2, 2, 1), (3, 5, 5), (5, 6, 4), (4, 2, 3), (4, 5, 2), (6, 3, 4), (6, 5, 1), (1, 2, 4), (1, 4, 1), (2, 6, 1), (3, 2, 6), (3, 4, 3), (1, 3, 5), (2, 3, 2), (3, 6, 6), (2, 4, 1), (4, 3, 4), (6, 2, 5), (6, 4, 2), (1, 1, 5), (5, 1, 4), (5, 3, 1), (1, 5, 5), (2, 1, 4), (2, 2, 3), (2, 5, 2), (5, 6, 6), (4, 2, 5), (4, 5, 4), (6, 1, 6), (6, 3, 6), (6, 6, 2), (1, 2, 6), (2, 6, 3), (5, 5, 1), (4, 6, 5), (2, 3, 4), (2, 4, 3), (4, 3, 6)}\n"
     ]
    }
   ],
   "source": [
    "dice = [1,2,3,4,5,6]\n",
    "\n",
    "# results = [d1 + d2 for d1 in dice for d2 in dice]\n",
    "# results = [tuple([d1, d2]) for d1 in dice for d2 in dice]\n",
    "results = set([tuple([d1, d2, d3]) for d1 in dice for d2 in dice for d3 in dice])\n",
    "\n",
    "print(\"Combinations: (3 Dices)\")\n",
    "print(\"Different combinations: \", len(results))\n",
    "print(results)\n"
   ]
  },
  {
   "cell_type": "markdown",
   "metadata": {},
   "source": [
    "## 2."
   ]
  },
  {
   "cell_type": "markdown",
   "metadata": {},
   "source": [
    "A) Iterate a list of names and create a dictionary where key is the name and value is the length of the name"
   ]
  },
  {
   "cell_type": "code",
   "execution_count": 27,
   "metadata": {},
   "outputs": [
    {
     "name": "stdout",
     "output_type": "stream",
     "text": [
      "{5: 'Allan', 2: 'Bo', 6: 'Connie', 9: 'Donatello'}\n"
     ]
    }
   ],
   "source": [
    "my_list = ['Allan','Bo','Connie','Donatello']\n",
    "dict_comp = {len(name):name for name in my_list}\n",
    "print(dict_comp)"
   ]
  },
  {
   "cell_type": "markdown",
   "metadata": {},
   "source": [
    "B) Iterate a list of numbers and create a dictionary with {key:value} being {number:squareroot_of_number}"
   ]
  },
  {
   "cell_type": "code",
   "execution_count": 26,
   "metadata": {},
   "outputs": [
    {
     "name": "stdout",
     "output_type": "stream",
     "text": [
      "{112: 10.583005244258363, 237: 15.394804318340652, 788: 28.071337695236398, 900: 30.0, 2667: 51.64300533470143}\n"
     ]
    }
   ],
   "source": [
    "my_list = [112,237,788,900,2667]\n",
    "dict_comp = {number:number**0.5 for number in my_list}\n",
    "print(dict_comp)"
   ]
  },
  {
   "cell_type": "markdown",
   "metadata": {},
   "source": [
    "## 3. Progammatically using loops create a small program to produce a dictionary with all the 2 dice throw combinations as keys (eg: 2,3,4...etc) and their likelyhood in percent as values"
   ]
  },
  {
   "cell_type": "code",
   "execution_count": 14,
   "metadata": {},
   "outputs": [
    {
     "name": "stdout",
     "output_type": "stream",
     "text": [
      "2:  Chance in %: 2.78\n",
      "3:  Chance in %: 5.56\n",
      "4:  Chance in %: 8.33\n",
      "5:  Chance in %: 11.11\n",
      "6:  Chance in %: 13.89\n",
      "7:  Chance in %: 16.67\n",
      "8:  Chance in %: 13.89\n",
      "9:  Chance in %: 11.11\n",
      "10:  Chance in %: 8.33\n",
      "11:  Chance in %: 5.56\n",
      "12:  Chance in %: 2.78\n"
     ]
    }
   ],
   "source": [
    "from my_modules import dict_comprehension as dc\n",
    "\n",
    "dice = [1,2,3,4,5,6]\n",
    "combinations = [d1 + d2 for d1 in dice for d2 in dice]\n",
    "\n",
    "keys = [i for i in range(2,13)]\n",
    "values = [0 for i in range(2,13)]\n",
    "\n",
    "for key in keys:\n",
    "    for combi in combinations:\n",
    "        if combi == key:\n",
    "            values[key - 2] += 1\n",
    "            \n",
    "my_dict = dc.create_dict_from_lists(keys, values)\n",
    "\n",
    "\n",
    "for key, value in my_dict.items() :\n",
    "    print (f'{key}: ', \"Chance in %: {:.2f}\".format(round((value/len(combinations)*100), 2)))\n",
    "\n",
    "\n",
    "\n",
    "\n"
   ]
  },
  {
   "cell_type": "code",
   "execution_count": 16,
   "metadata": {},
   "outputs": [
    {
     "data": {
      "image/png": "[encoded data removed]",
      "text/plain": [
       "<Figure size 640x480 with 1 Axes>"
      ]
     },
     "metadata": {},
     "output_type": "display_data"
    }
   ],
   "source": [
    "import matplotlib.pyplot as plt\n",
    "\n",
    "plt.figure()\n",
    "\n",
    "\n",
    "plt.plot(keys, values, linewidth=5)\n",
    "\n",
    "# Set chart title and label axes. \n",
    "plt.title(\"Square Numbers\", fontsize=24)\n",
    "plt.xlabel(\"Value\", fontsize=14)\n",
    "plt.ylabel(\"Square of Value\", fontsize=14)\n",
    "# Set size of tick labels.\n",
    "\n",
    "plt.tick_params(axis='both', labelsize=14)"
   ]
  },
  {
   "cell_type": "code",
   "execution_count": null,
   "metadata": {},
   "outputs": [],
   "source": []
  }
 ],
 "metadata": {
  "kernelspec": {
   "display_name": "Python 3 (ipykernel)",
   "language": "python",
   "name": "python3"
  },
  "language_info": {
   "codemirror_mode": {
    "name": "ipython",
    "version": 3
   },
   "file_extension": ".py",
   "mimetype": "text/x-python",
   "name": "python",
   "nbconvert_exporter": "python",
   "pygments_lexer": "ipython3",
   "version": "3.10.6"
  }
 },
 "nbformat": 4,
 "nbformat_minor": 2
}
