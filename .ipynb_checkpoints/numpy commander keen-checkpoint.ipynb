{
 "cells": [
  {
   "cell_type": "code",
   "execution_count": 1,
   "id": "fa4d3898",
   "metadata": {},
   "outputs": [
    {
     "name": "stdout",
     "output_type": "stream",
     "text": [
      "--2022-09-13 11:57:19--  https://16couleurs.files.wordpress.com/2014/01/commander_keen_sprite_run.gif?w=611\n",
      "Resolving 16couleurs.files.wordpress.com (16couleurs.files.wordpress.com)... 192.0.72.23, 192.0.72.22\n",
      "Connecting to 16couleurs.files.wordpress.com (16couleurs.files.wordpress.com)|192.0.72.23|:443... connected.\n",
      "HTTP request sent, awaiting response... 200 OK\n",
      "Length: 609 [image/gif]\n",
      "Saving to: ‘data/commander_keen_sprite_run.gif’\n",
      "\n",
      "data/commander_keen 100%[===================>]     609  --.-KB/s    in 0s      \n",
      "\n",
      "utime(data/commander_keen_sprite_run.gif): Operation not permitted\n",
      "2022-09-13 11:57:19 (91.1 MB/s) - ‘data/commander_keen_sprite_run.gif’ saved [609/609]\n",
      "\n"
     ]
    }
   ],
   "source": [
    "!wget -O data/commander_keen_sprite_run.gif https://16couleurs.files.wordpress.com/2014/01/commander_keen_sprite_run.gif?w=611"
   ]
  },
  {
   "cell_type": "code",
   "execution_count": null,
   "id": "76ab4081",
   "metadata": {},
   "outputs": [],
   "source": []
  }
 ],
 "metadata": {
  "kernelspec": {
   "display_name": "Python 3 (ipykernel)",
   "language": "python",
   "name": "python3"
  },
  "language_info": {
   "codemirror_mode": {
    "name": "ipython",
    "version": 3
   },
   "file_extension": ".py",
   "mimetype": "text/x-python",
   "name": "python",
   "nbconvert_exporter": "python",
   "pygments_lexer": "ipython3",
   "version": "3.10.6"
  }
 },
 "nbformat": 4,
 "nbformat_minor": 5
}
