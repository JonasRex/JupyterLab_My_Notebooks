{
 "cells": [
  {
   "cell_type": "markdown",
   "id": "116c7324",
   "metadata": {},
   "source": [
    "# Class exercise 1:"
   ]
  },
  {
   "cell_type": "markdown",
   "id": "9aa41d6e",
   "metadata": {},
   "source": [
    "![](https://miro.medium.com/max/1266/1*Pb8oEA1nGIONsSJk7QSVzg.png)"
   ]
  },
  {
   "cell_type": "code",
   "execution_count": 1,
   "id": "436a1188",
   "metadata": {},
   "outputs": [
    {
     "name": "stdout",
     "output_type": "stream",
     "text": [
      "Enter username:Jonas\n",
      "Username is: Jonas\n"
     ]
    }
   ],
   "source": [
    "username = input(\"Enter username:\")\n",
    "print(\"Username is: \" + username)"
   ]
  },
  {
   "cell_type": "code",
   "execution_count": 12,
   "id": "96339878",
   "metadata": {},
   "outputs": [
    {
     "name": "stdout",
     "output_type": "stream",
     "text": [
      "Multiply two integers\n",
      "First number:5\n",
      "Second number:5\n",
      "The result: 25\n"
     ]
    }
   ],
   "source": [
    "print(\"Multiply two integers\")\n",
    "num1 = int(input(\"First number:\"))\n",
    "num2 = int(input(\"Second number:\"))\n",
    "sum = num1 * num2\n",
    "print(\"The result: \" + str(sum))"
   ]
  }
 ],
 "metadata": {
  "kernelspec": {
   "display_name": "Python 3 (ipykernel)",
   "language": "python",
   "name": "python3"
  },
  "language_info": {
   "codemirror_mode": {
    "name": "ipython",
    "version": 3
   },
   "file_extension": ".py",
   "mimetype": "text/x-python",
   "name": "python",
   "nbconvert_exporter": "python",
   "pygments_lexer": "ipython3",
   "version": "3.10.6"
  }
 },
 "nbformat": 4,
 "nbformat_minor": 5
}
