{
 "cells": [
  {
   "cell_type": "markdown",
   "id": "665ef907",
   "metadata": {},
   "source": [
    "# Exercise for the 3rd course week\n",
    "\n",
    "## Ex 1 Classes\n",
    "1. Create 3 classes: Student, DataSheet and Course\n",
    "2. A student has a data_sheet and a data_sheet has multiple courses in particular order\n",
    "3. Each course has name, classroom, teacher, ETCS and optional grade if course is taken.\n",
    "4. In Student update `__init__()` so that a Student can be initiated with name, gender, data_sheet and image_url\n",
    "5. In DataSheet create a method to get_grades_as_list()\n",
    "6. In student create a method: get_avg_grade()\n",
    "7. Create a function that can generate n number of students with random: name, gender, courses (from a fixed list of course names), grades, img_url\n",
    "   1. Let the function write the result to a csv file with format stud_name, course_name, teacher, ,gender, ects, classroom, grade, img_url\n",
    "7. Read student data into a list of Students from a csv file (Each student can appear on multiple lines): \n",
    "   1. loop through the list and print each student with name, img_url and avg_grade.\n",
    "   2. sort the list by avg_grade\n",
    "   3. create a bar chart with student_name on x and avg_grade on y-axis\n",
    "8. Make a method on Student class that can show progression of the study in % (add up ECTS from all passed courses divided by total of 150 total points (equivalent to 5 semesters))\n",
    "9. Show a bar chart of distribution of study progression on x-axis and number of students in each category on y-axis. (e.g. make 10 categories from 0-100%)\n",
    "\n",
    "Extra: Make the Datasheet class iterable so that next(data_sheet) will return the next course in the list\n",
    "\n",
    "## Ex 2 Exceptions (extra)\n",
    "1. Create a function that can take a list of students and return the 3 students closest to completing their study.\n",
    "2. If list is shorter than 3 raise your own custom exception (NotEnoughStudentsException)\n",
    "3. Create another function that can create a csv file with 3 students closest to completion\n",
    "   1. If an exception is raised write an appropriate message to the file\n",
    "\n",
    "## Ex 3 Plotting (extra)\n",
    "1. Create a function that can take a list of students and show a pie chart of how students are distributed in ECTS percentage categories (10%, 20%, ...)\n",
    "2. create a function that can take a list of students and show how many students have taken each course (bar chart)\n",
    "   1. create a method on student that can return a list of courses\n",
    "3. make the figure show males and females in different colors for each course (display 2 datasets in same figure)\n"
   ]
  },
  {
   "cell_type": "code",
   "execution_count": 1,
   "id": "d90335fa",
   "metadata": {},
   "outputs": [],
   "source": [
    "from my_modules.ex3 import assignment1 as a1\n",
    "\n",
    "courses = []\n",
    "courses.append(a1.Course(\"Math\", \"101\", \"Johnson, B\", \"200\", 10))\n",
    "courses.append(a1.Course(\"English\", \"505\", \"Bidden, J\", \"250\", 7))\n",
    "courses.append(a1.Course(\"Biology\", \"331\", \"Frederiksen, M\", \"150\", 12))\n",
    "courses.append(a1.Course(\"German\", \"222\", \"Schultz, M\", \"200\", 6))\n",
    "\n",
    "ds = a1.DataSheet(courses)\n",
    "\n",
    "student = a1.Student(\"Mads Mikkelsen\", \"male\", ds, \"https://thumbs.dreamstime.com/z/happy-university-college-student-thumbs-up-15010463.jpg\" )\n"
   ]
  },
  {
   "cell_type": "markdown",
   "id": "edf20a81",
   "metadata": {},
   "source": [
    "## 5) In DataSheet create a method to get_grades_as_list()"
   ]
  },
  {
   "cell_type": "code",
   "execution_count": 2,
   "id": "15eeb749",
   "metadata": {},
   "outputs": [
    {
     "name": "stdout",
     "output_type": "stream",
     "text": [
      "Grades:  [10, 7, 12, 6]\n"
     ]
    }
   ],
   "source": [
    "print(\"Grades: \", student.data_sheet.get_grades_as_list())"
   ]
  },
  {
   "cell_type": "markdown",
   "id": "7b5b971e",
   "metadata": {},
   "source": [
    "## 6) In student create a method: get_avg_grade()"
   ]
  },
  {
   "cell_type": "code",
   "execution_count": 5,
   "id": "6468bf8b",
   "metadata": {},
   "outputs": [
    {
     "name": "stdout",
     "output_type": "stream",
     "text": [
      "Average grade:  8.75\n"
     ]
    }
   ],
   "source": [
    "print(\"Average grade: \", student.get_avg_grade())"
   ]
  },
  {
   "cell_type": "markdown",
   "id": "7b80fd25",
   "metadata": {},
   "source": [
    "## 7) Create a function that can generate n number of students with random: name, gender, courses (from a fixed list of course names), grades, img_url\n",
    "- Let the function write the result to a csv file with format stud_name, course_name, teacher, ,gender, ects, classroom, grade, img_url"
   ]
  },
  {
   "cell_type": "code",
   "execution_count": 3,
   "id": "9b6d80fd",
   "metadata": {},
   "outputs": [
    {
     "name": "stdout",
     "output_type": "stream",
     "text": [
      "['Allan', 'Bo', 'Charlie', 'Demetri', 'Eric', 'Freddy', 'George', 'Henry', 'Igor', 'Jerry', 'Kaleb', 'Larry', 'Manny', 'Nicholas', 'Obie', 'Peter', 'Quay', 'Rudy', 'Steve', 'Timmy', 'Umar', 'Victor', 'Woody', 'Xander', 'Yannis', 'Zasou']\n",
      "[['Math', '111', 'John Watkins', 10, 0], ['English', '505', 'Jane Foster', 8, 0], ['Biology', '331', 'Liz Johnson', 8, 0], ['German', '222', 'Michael Schultze', 6, 0], ['Chemistry', '325', 'Reese Witherspoon', 8, 0], ['French', '225', 'Lina Jenkins', 6, 0], ['Spanish', '200', 'Jerry Larson', 6, 0]]\n",
      "[-3, 0, 2, 4, 7, 10, 12]\n",
      "['https://img.freepik.com/free-photo/front-view-male-student-dark-t-shirt-yellow-backpack-holding-files-books-smiling-light-blue-wall_140725-46715.jpg?w=2000', 'https://image.shutterstock.com/image-photo/portrait-smiling-young-college-student-260nw-1192615495.jpg', 'https://st.depositphotos.com/1199142/1784/i/600/depositphotos_17840989-stock-photo-young-happy-student-carrying-books.jpg', 'https://www.kindpng.com/picc/m/57-574905_black-college-student-png-transparent-png.png', 'https://media.istockphoto.com/photos/happy-smiling-student-with-his-notebook-and-backpack-picture-id452257843?k=20&m=452257843&s=612x612&w=0&h=CO5tQouEz8Gwo0t0A4AK3EGss0TDDFFB4oahJHqjRqs=', 'https://thumbs.dreamstime.com/b/photo-image-portrait-funny-attractive-cute-young-asian-student-white-shirt-smiling-pointing-forward-side-view-isolated-104697224.jpg']\n"
     ]
    }
   ],
   "source": [
    "from my_modules.ex3.ex3_data import *\n",
    "\n",
    "print(MALE_NAMES)\n",
    "print(COURSES)\n",
    "print(GRADES)\n",
    "print(PIC_URLS_MALES)"
   ]
  },
  {
   "cell_type": "markdown",
   "id": "fbbde133",
   "metadata": {},
   "source": [
    "### my_modules/ex3/tools.py \n",
    "```python\n",
    "from random import randint\n",
    "from my_modules.ex3.ex3_data import *\n",
    "from my_modules.ex3.assignment1 import *\n",
    "\n",
    "\n",
    "def get_rand(lst):\n",
    "    \"\"\"Return random item from attached list\"\"\"\n",
    "    return lst[randint(1, len(lst)) - 1]\n",
    "\n",
    "\n",
    "def get_rand_datasheet():\n",
    "    \"\"\"Generates a datasheet with minimum 3 courses (max 5)\"\"\"\n",
    "    courses = []\n",
    "    # Finding 3 - 5 unique courses\n",
    "    while len(courses) <= randint(3, 5) - 1:\n",
    "        c = get_rand(COURSES)\n",
    "        # Check if course already has been selected\n",
    "        if not c in courses:\n",
    "            courses.append(c)\n",
    "            \n",
    "    # Convert to Course objects and apply random grade for each.    \n",
    "    courses = [Course(c[0], c[1], c[2], c[3], assign_random_grades()) for c in courses]\n",
    "    # Convert to DataSheet object \n",
    "    new_ds = DataSheet(courses)    \n",
    "    return new_ds\n",
    "\n",
    "\n",
    "def create_n_number_of_students(n):\n",
    "    students = []\n",
    "    for i in range(n):\n",
    "        name = f'{get_rand(MALE_NAMES)} {get_rand(MALE_NAMES)}'\n",
    "        datasheet = get_rand_datasheet()\n",
    "        student = Student(name, \"male\", datasheet, get_rand(PIC_URLS_MALES))\n",
    "        students.append(student)\n",
    "    return students\n",
    "\n",
    "\n",
    "def assign_random_grades():\n",
    "    # TODO: Make it less likely to return failing grades\n",
    "    return get_rand(GRADES)\n",
    "```"
   ]
  },
  {
   "cell_type": "code",
   "execution_count": 1,
   "id": "ab2f15f3",
   "metadata": {},
   "outputs": [
    {
     "name": "stdout",
     "output_type": "stream",
     "text": [
      "[Student('Kaleb Manny', 'male', DataSheet([Course('Chemistry', '325', 'Reese Witherspoon', 8, 0), Course('Spanish', '200', 'Jerry Larson', 6, 4), Course('German', '222', 'Michael Schultze', 6, 2)]), 'https://thumbs.dreamstime.com/b/photo-image-portrait-funny-attractive-cute-young-asian-student-white-shirt-smiling-pointing-forward-side-view-isolated-104697224.jpg'), Student('Obie Bo', 'male', DataSheet([Course('Spanish', '200', 'Jerry Larson', 6, 2), Course('Math', '111', 'John Watkins', 10, 12), Course('German', '222', 'Michael Schultze', 6, 2), Course('Biology', '331', 'Liz Johnson', 8, 7)]), 'https://image.shutterstock.com/image-photo/portrait-smiling-young-college-student-260nw-1192615495.jpg'), Student('Xander Victor', 'male', DataSheet([Course('Spanish', '200', 'Jerry Larson', 6, -3), Course('French', '225', 'Lina Jenkins', 6, 0), Course('Math', '111', 'John Watkins', 10, -3)]), 'https://media.istockphoto.com/photos/happy-smiling-student-with-his-notebook-and-backpack-picture-id452257843?k=20&m=452257843&s=612x612&w=0&h=CO5tQouEz8Gwo0t0A4AK3EGss0TDDFFB4oahJHqjRqs=')]\n"
     ]
    }
   ],
   "source": [
    "from my_modules.ex3.tools import *\n",
    "\n",
    "students_list = create_n_number_of_students(3)\n",
    "\n",
    "print(students_list)\n"
   ]
  },
  {
   "cell_type": "markdown",
   "id": "b732733d",
   "metadata": {},
   "source": [
    "## 8) Read student data into a list of Students from a csv file (Each student can appear on multiple lines):"
   ]
  },
  {
   "cell_type": "code",
   "execution_count": 1,
   "id": "e2ec51d8",
   "metadata": {},
   "outputs": [
    {
     "name": "stdout",
     "output_type": "stream",
     "text": [
      "students.csv been added to data folder\n"
     ]
    }
   ],
   "source": [
    "from my_modules.ex3.file_handler import *\n",
    "from my_modules.ex3.tools import *\n",
    "\n",
    "sl = create_n_number_of_students(5)\n",
    "\n",
    "\n",
    "write_students_to_csv_file(\"students.csv\", sl)"
   ]
  },
  {
   "cell_type": "code",
   "execution_count": 1,
   "id": "544b39cd",
   "metadata": {},
   "outputs": [
    {
     "name": "stdout",
     "output_type": "stream",
     "text": [
      "Umar George, male, [Course('French', '225', 'Lina Jenkins', 6, 4), Course('Spanish', '200', 'Jerry Larson', 6, 12), Course('Math', '111', 'John Watkins', 10, 10), Course('Biology', '331', 'Liz Johnson', 8, 10)], https://st.depositphotos.com/1199142/1784/i/600/depositphotos_17840989-stock-photo-young-happy-student-carrying-books.jpg\n",
      "Obie Freddy, male, [Course('Chemistry', '325', 'Reese Witherspoon', 8, 10), Course('Biology', '331', 'Liz Johnson', 8, -3), Course('English', '505', 'Jane Foster', 8, 2)], https://www.kindpng.com/picc/m/57-574905_black-college-student-png-transparent-png.png\n",
      "Demetri Steve, male, [Course('English', '505', 'Jane Foster', 8, -3), Course('French', '225', 'Lina Jenkins', 6, 2), Course('Spanish', '200', 'Jerry Larson', 6, 10), Course('Biology', '331', 'Liz Johnson', 8, 4)], https://st.depositphotos.com/1199142/1784/i/600/depositphotos_17840989-stock-photo-young-happy-student-carrying-books.jpg\n",
      "Freddy Yannis, male, [Course('Biology', '331', 'Liz Johnson', 8, 2), Course('German', '222', 'Michael Schultze', 6, 7), Course('French', '225', 'Lina Jenkins', 6, 4)], https://www.kindpng.com/picc/m/57-574905_black-college-student-png-transparent-png.png\n",
      "Woody Larry, male, [Course('Spanish', '200', 'Jerry Larson', 6, 4), Course('English', '505', 'Jane Foster', 8, 10), Course('German', '222', 'Michael Schultze', 6, 0), Course('French', '225', 'Lina Jenkins', 6, 10)], https://st.depositphotos.com/1199142/1784/i/600/depositphotos_17840989-stock-photo-young-happy-student-carrying-books.jpg\n"
     ]
    }
   ],
   "source": [
    "from my_modules.ex3.file_handler import *\n",
    "\n",
    "students_read = read_students_from_csv_file(\"data/students.csv\")\n",
    "\n",
    "for s in students_read:\n",
    "    print(s)"
   ]
  },
  {
   "cell_type": "markdown",
   "id": "e017eaba",
   "metadata": {},
   "source": [
    "### A) loop through the list and print each student with name, img_url and avg_grade."
   ]
  },
  {
   "cell_type": "code",
   "execution_count": 24,
   "id": "b7a55ff1",
   "metadata": {},
   "outputs": [
    {
     "name": "stdout",
     "output_type": "stream",
     "text": [
      "[Course('French', '225', 'Lina Jenkins', 6, 4), Course('Spanish', '200', 'Jerry Larson', 6, 12), Course('Math', '111', 'John Watkins', 10, 10), Course('Biology', '331', 'Liz Johnson', 8, 10)]\n",
      "[Course('Chemistry', '325', 'Reese Witherspoon', 8, 10), Course('Biology', '331', 'Liz Johnson', 8, -3), Course('English', '505', 'Jane Foster', 8, 2)]\n",
      "[Course('English', '505', 'Jane Foster', 8, -3), Course('French', '225', 'Lina Jenkins', 6, 2), Course('Spanish', '200', 'Jerry Larson', 6, 10), Course('Biology', '331', 'Liz Johnson', 8, 4)]\n",
      "[Course('Biology', '331', 'Liz Johnson', 8, 2), Course('German', '222', 'Michael Schultze', 6, 7), Course('French', '225', 'Lina Jenkins', 6, 4)]\n",
      "[Course('Spanish', '200', 'Jerry Larson', 6, 4), Course('English', '505', 'Jane Foster', 8, 10), Course('German', '222', 'Michael Schultze', 6, 0), Course('French', '225', 'Lina Jenkins', 6, 10)]\n"
     ]
    }
   ],
   "source": [
    "from my_modules.ex3.file_handler import *\n",
    "\n",
    "students_read = read_students_from_csv_file(\"data/students.csv\")\n",
    "\n",
    "for s in students_read:\n",
    "    print(s.data_sheet)\n",
    " #   avg_grade = 5\n",
    "  #  print(f'Name: {s.name}, Image: {s.image_url} Avg grade: {}')"
   ]
  },
  {
   "cell_type": "markdown",
   "id": "e4bba2cc",
   "metadata": {},
   "source": [
    "### B) sort the list by avg_grade\n",
    "create a bar chart with student_name on x and avg_grade on y-axis"
   ]
  },
  {
   "cell_type": "code",
   "execution_count": null,
   "id": "fe738840",
   "metadata": {},
   "outputs": [],
   "source": []
  },
  {
   "cell_type": "markdown",
   "id": "9b6fd18f",
   "metadata": {},
   "source": [
    "### C) create a bar chart with student_name on x and avg_grade on y-axis"
   ]
  },
  {
   "cell_type": "code",
   "execution_count": null,
   "id": "d2870649",
   "metadata": {},
   "outputs": [],
   "source": []
  }
 ],
 "metadata": {
  "kernelspec": {
   "display_name": "Python 3 (ipykernel)",
   "language": "python",
   "name": "python3"
  },
  "language_info": {
   "codemirror_mode": {
    "name": "ipython",
    "version": 3
   },
   "file_extension": ".py",
   "mimetype": "text/x-python",
   "name": "python",
   "nbconvert_exporter": "python",
   "pygments_lexer": "ipython3",
   "version": "3.10.6"
  }
 },
 "nbformat": 4,
 "nbformat_minor": 5
}
