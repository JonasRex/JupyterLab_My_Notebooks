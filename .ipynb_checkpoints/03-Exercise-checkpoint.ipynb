{
 "cells": [
  {
   "cell_type": "markdown",
   "id": "665ef907",
   "metadata": {},
   "source": [
    "# Exercise for the 3rd course week\n",
    "\n",
    "## Ex 1 Classes\n",
    "1. Create 3 classes: Student, DataSheet and Course\n",
    "2. A student has a data_sheet and a data_sheet has multiple courses in particular order\n",
    "3. Each course has name, classroom, teacher, ETCS and optional grade if course is taken.\n",
    "4. In Student update `__init__()` so that a Student can be initiated with name, gender, data_sheet and image_url\n",
    "5. In DataSheet create a method to get_grades_as_list()\n",
    "6. In student create a method: get_avg_grade()\n",
    "7. Create a function that can generate n number of students with random: name, gender, courses (from a fixed list of course names), grades, img_url\n",
    "   1. Let the function write the result to a csv file with format stud_name, course_name, teacher, ,gender, ects, classroom, grade, img_url\n",
    "7. Read student data into a list of Students from a csv file (Each student can appear on multiple lines): \n",
    "   1. loop through the list and print each student with name, img_url and avg_grade.\n",
    "   2. sort the list by avg_grade\n",
    "   3. create a bar chart with student_name on x and avg_grade on y-axis\n",
    "8. Make a method on Student class that can show progression of the study in % (add up ECTS from all passed courses divided by total of 150 total points (equivalent to 5 semesters))\n",
    "9. Show a bar chart of distribution of study progression on x-axis and number of students in each category on y-axis. (e.g. make 10 categories from 0-100%)\n",
    "\n",
    "Extra: Make the Datasheet class iterable so that next(data_sheet) will return the next course in the list\n",
    "\n",
    "## Ex 2 Exceptions (extra)\n",
    "1. Create a function that can take a list of students and return the 3 students closest to completing their study.\n",
    "2. If list is shorter than 3 raise your own custom exception (NotEnoughStudentsException)\n",
    "3. Create another function that can create a csv file with 3 students closest to completion\n",
    "   1. If an exception is raised write an appropriate message to the file\n",
    "\n",
    "## Ex 3 Plotting (extra)\n",
    "1. Create a function that can take a list of students and show a pie chart of how students are distributed in ECTS percentage categories (10%, 20%, ...)\n",
    "2. create a function that can take a list of students and show how many students have taken each course (bar chart)\n",
    "   1. create a method on student that can return a list of courses\n",
    "3. make the figure show males and females in different colors for each course (display 2 datasets in same figure)\n"
   ]
  },
  {
   "cell_type": "code",
   "execution_count": 7,
   "id": "d90335fa",
   "metadata": {},
   "outputs": [],
   "source": [
    "from my_modules.ex3 import assignment1 as a1\n",
    "\n",
    "courses = []\n",
    "courses.append(a1.Course(\"Math\", \"101\", \"Johnson, B\", \"200\", 10))\n",
    "courses.append(a1.Course(\"English\", \"505\", \"Bidden, J\", \"250\", 7))\n",
    "courses.append(a1.Course(\"Biology\", \"331\", \"Frederiksen, M\", \"150\", 12))\n",
    "courses.append(a1.Course(\"German\", \"222\", \"Schultz, M\", \"200\", 6))\n",
    "\n",
    "ds = a1.DataSheet(courses)\n",
    "\n",
    "student = a1.Student(\"Mads Mikkelsen\", \"male\", ds, \"https://thumbs.dreamstime.com/z/happy-university-college-student-thumbs-up-15010463.jpg\" )\n"
   ]
  },
  {
   "cell_type": "markdown",
   "id": "edf20a81",
   "metadata": {},
   "source": [
    "## 5) In DataSheet create a method to get_grades_as_list()"
   ]
  },
  {
   "cell_type": "code",
   "execution_count": 6,
   "id": "15eeb749",
   "metadata": {},
   "outputs": [
    {
     "name": "stdout",
     "output_type": "stream",
     "text": [
      "Grades:  [10, 7, 12, 6]\n"
     ]
    }
   ],
   "source": [
    "print(\"Grades: \", student.data_sheet.get_grades_as_list())"
   ]
  },
  {
   "cell_type": "markdown",
   "id": "7b5b971e",
   "metadata": {},
   "source": [
    "## 6) In student create a method: get_avg_grade()"
   ]
  },
  {
   "cell_type": "code",
   "execution_count": 5,
   "id": "6468bf8b",
   "metadata": {},
   "outputs": [
    {
     "name": "stdout",
     "output_type": "stream",
     "text": [
      "Average grade:  8.75\n"
     ]
    }
   ],
   "source": [
    "print(\"Average grade: \", student.get_avg_grade())"
   ]
  },
  {
   "cell_type": "markdown",
   "id": "7b80fd25",
   "metadata": {},
   "source": [
    "## 7) Create a function that can generate n number of students with random: name, gender, courses (from a fixed list of course names), grades, img_url\n",
    "- Let the function write the result to a csv file with format stud_name, course_name, teacher, ,gender, ects, classroom, grade, img_url"
   ]
  },
  {
   "cell_type": "code",
   "execution_count": 9,
   "id": "9b6d80fd",
   "metadata": {},
   "outputs": [
    {
     "name": "stdout",
     "output_type": "stream",
     "text": [
      "['Allan', 'Bo', 'Charlie', 'Demetri', 'Eric', 'Freddy', 'George', 'Henry', 'Igor', 'Jerry', 'Kaleb', 'Larry', 'Manny', 'Nicholas', 'Obie', 'Peter', 'Quay', 'Rudy', 'Steve', 'Timmy', 'Umar', 'Victor', 'Woody', 'Xander', 'Yannis', 'Zasou']\n"
     ]
    }
   ],
   "source": [
    "from my_modules.ex3.names import *\n",
    "\n",
    "print(NAMES)"
   ]
  },
  {
   "cell_type": "code",
   "execution_count": 20,
   "id": "def6be2c",
   "metadata": {},
   "outputs": [
    {
     "name": "stdout",
     "output_type": "stream",
     "text": [
      "Quay, male, [Course('Math', '101', 'Johnson, B', '200', 10), Course('English', '505', 'Bidden, J', '250', 7), Course('Biology', '331', 'Frederiksen, M', '150', 12), Course('German', '222', 'Schultz, M', '200', 6)], \n",
      "Igor, male, [Course('Math', '101', 'Johnson, B', '200', 10), Course('English', '505', 'Bidden, J', '250', 7), Course('Biology', '331', 'Frederiksen, M', '150', 12), Course('German', '222', 'Schultz, M', '200', 6)], \n",
      "Yannis, male, [Course('Math', '101', 'Johnson, B', '200', 10), Course('English', '505', 'Bidden, J', '250', 7), Course('Biology', '331', 'Frederiksen, M', '150', 12), Course('German', '222', 'Schultz, M', '200', 6)], \n",
      "Woody, male, [Course('Math', '101', 'Johnson, B', '200', 10), Course('English', '505', 'Bidden, J', '250', 7), Course('Biology', '331', 'Frederiksen, M', '150', 12), Course('German', '222', 'Schultz, M', '200', 6)], \n",
      "Yannis, male, [Course('Math', '101', 'Johnson, B', '200', 10), Course('English', '505', 'Bidden, J', '250', 7), Course('Biology', '331', 'Frederiksen, M', '150', 12), Course('German', '222', 'Schultz, M', '200', 6)], \n",
      "Bo, male, [Course('Math', '101', 'Johnson, B', '200', 10), Course('English', '505', 'Bidden, J', '250', 7), Course('Biology', '331', 'Frederiksen, M', '150', 12), Course('German', '222', 'Schultz, M', '200', 6)], \n",
      "Jerry, male, [Course('Math', '101', 'Johnson, B', '200', 10), Course('English', '505', 'Bidden, J', '250', 7), Course('Biology', '331', 'Frederiksen, M', '150', 12), Course('German', '222', 'Schultz, M', '200', 6)], \n",
      "Woody, male, [Course('Math', '101', 'Johnson, B', '200', 10), Course('English', '505', 'Bidden, J', '250', 7), Course('Biology', '331', 'Frederiksen, M', '150', 12), Course('German', '222', 'Schultz, M', '200', 6)], \n",
      "Steve, male, [Course('Math', '101', 'Johnson, B', '200', 10), Course('English', '505', 'Bidden, J', '250', 7), Course('Biology', '331', 'Frederiksen, M', '150', 12), Course('German', '222', 'Schultz, M', '200', 6)], \n",
      "Manny, male, [Course('Math', '101', 'Johnson, B', '200', 10), Course('English', '505', 'Bidden, J', '250', 7), Course('Biology', '331', 'Frederiksen, M', '150', 12), Course('German', '222', 'Schultz, M', '200', 6)], \n"
     ]
    }
   ],
   "source": [
    "from random import randint\n",
    "\n",
    "students = []\n",
    "\n",
    "\n",
    "def create_n_number_of_students(n):\n",
    "    for i in range(n):\n",
    "        r = randint(1, len(NAMES))\n",
    "        name = NAMES[r - 1]\n",
    "        datasheet = a1.DataSheet(courses)\n",
    "        student = a1.Student(name, \"male\", datasheet, \"\")\n",
    "        students.append(student)\n",
    "        \n",
    "create_n_number_of_students(10)\n",
    "\n",
    "for i in students:\n",
    "    print(i)"
   ]
  },
  {
   "cell_type": "code",
   "execution_count": null,
   "id": "4499b677",
   "metadata": {},
   "outputs": [],
   "source": []
  }
 ],
 "metadata": {
  "kernelspec": {
   "display_name": "Python 3 (ipykernel)",
   "language": "python",
   "name": "python3"
  },
  "language_info": {
   "codemirror_mode": {
    "name": "ipython",
    "version": 3
   },
   "file_extension": ".py",
   "mimetype": "text/x-python",
   "name": "python",
   "nbconvert_exporter": "python",
   "pygments_lexer": "ipython3",
   "version": "3.10.6"
  }
 },
 "nbformat": 4,
 "nbformat_minor": 5
}
