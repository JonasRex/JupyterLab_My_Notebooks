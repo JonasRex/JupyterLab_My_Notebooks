{
 "cells": [
  {
   "cell_type": "markdown",
   "id": "b7252745",
   "metadata": {},
   "source": [
    "# Music / Lyric analyzer"
   ]
  },
  {
   "cell_type": "markdown",
   "id": "5bcbdc76",
   "metadata": {},
   "source": [
    "## Idea:\n",
    "My project will be about music and lyrics from the past 63 years (1959-2021). First i wanna build some webscraping software, that provide me with all the necessary data i need for my project, including the original lyrics for each song. Billboard top 100 started in 1959 and seems to be the most comprehensive list available online. (See description of Billboard further down).\n",
    "\n",
    "### Part 1:\n",
    "I want 99 % of my data to come from web scraping and NOT from datasets/csv-files that's already out there. I'll be using the BeautifulSoup library.\n",
    "1. Fetching all the lists via: https://en.wikipedia.org/wiki/Billboard_Year-End_Hot_100_singles_of_2021 (Just change the 4 last digits)\n",
    "2. 99% of the songs have a url which leads to a page with additional data: Released Date, Length, Genres, Label, Songwriter, Youtube Link. I will scrap all of that aswell.\n",
    "3. The final part of my project will be about the lyrics of all these songs. I will make a webscraper that can fetch the lyrics from  https://www.mldb.org/\n",
    "\n",
    "### Part 2:\n",
    "Turn the scraped data into Pandas dataframes.\n",
    "- Find trends and tendencies over the years and make graphical representations of it:\n",
    "    - Most popular genres year for year.\n",
    "    - Anything that can indicate a shift in time after the introduction of the Internet (PirateBay, Spotify, YouTube). See the image below.\n",
    "    - Find some data on the Music industry's income / revenue over the years.\n",
    "    - Who's the greatest bands/artists of all time\n",
    "    - And what ever I can find out. \n",
    "- MeanShift Clustering like we did with Titanic Dataset. And see what we can learn from the data (If there is enough to train the model).\n",
    "    - Make a new dataset with the artists as index, with columns of 'number_of_hits', 'top10_songs' ,'features','songs_written', 'different_genres'. Etc.  \n",
    "    \n",
    "\n",
    "\n",
    "### Part 3:\n",
    "Analyze the lyrics (Clustering, Classification). See if there is any patterns that makes it a hit. Does it recognize different genres?\n",
    "- Clustering the Textual Data like we did in the class exercise 09, with the 'RELIGION_abstracts.csv' file.  \n",
    "    - Lemmatization the data\n",
    "    - TF-IDF Vectorization\n",
    "    - Applying DBSCAN Clustering on the data\n",
    "    - Make a conclusion on the result.\n",
    "\n",
    "\n",
    "#### Extra:\n",
    "- If I take a none-top 100 song's lyrics, will the machine be able to predict if it's a \"hit\" or not?\n",
    "- Make GUI or a website"
   ]
  },
  {
   "cell_type": "markdown",
   "id": "f7bc20a5",
   "metadata": {},
   "source": [
    "Inspiration:\n",
    "https://programminghistorian.org/en/lessons/clustering-with-scikit-learn-in-python#1-loading-the-dataset--exploratory-data-analysis"
   ]
  },
  {
   "cell_type": "markdown",
   "id": "6ed09c30",
   "metadata": {},
   "source": [
    "![](Pictures/Streaming_industry_2001_2021.PNG)\n",
    "- https://www.statista.com/chart/4713/global-recorded-music-industry-revenues/"
   ]
  },
  {
   "cell_type": "markdown",
   "id": "a703c557",
   "metadata": {},
   "source": [
    "## What is Billboard Top 100\n",
    "The Billboard Hot 100 is a chart that ranks the best-performing singles of the United States. Its data, published by Billboard magazine and compiled by Nielsen SoundScan, is based collectively on each single's weekly physical and digital sales, as well as airplay and streaming. At the end of a year, Billboard will publish an annual list of the 100 most successful songs throughout that year on the Hot 100 chart based on the information."
   ]
  },
  {
   "cell_type": "markdown",
   "id": "5c0def36",
   "metadata": {},
   "source": [
    "#### 1959 - 2021 Top 100\n",
    "- Billboard Year-end wikipage: https://en.wikipedia.org/wiki/Billboard_Year-End\n",
    "- Example on year to scrape: https://en.wikipedia.org/wiki/Billboard_Year-End_Hot_100_singles_of_1960"
   ]
  },
  {
   "cell_type": "markdown",
   "id": "b5e3ed69",
   "metadata": {},
   "source": [
    "## Webscrap the lyrics (Automation)\n",
    "- Scrap the lyrics from http://www.mldb.org/ via a url search like this: https://www.mldb.org/search?mq=halo+beyonce (This returns the lyrics) or this example with my more than one search result: https://www.mldb.org/search?mq=i+love+you+beatles (Then the scrapper will try and determind which one is the correct link and then fetch the result) (Saved as txt files)"
   ]
  },
  {
   "cell_type": "markdown",
   "id": "291eaae9",
   "metadata": {},
   "source": [
    "## Technologies\n",
    "- Pandas\n",
    "- Numpy\n",
    "- BeautifulSoup\n",
    "- NLTK\n",
    "- sklearn.cluster (MeanShift)\n",
    "- Keras / Tensorflow\n",
    "- matplotlib.pyplot\n",
    "- tkinter (GUI)"
   ]
  },
  {
   "cell_type": "markdown",
   "id": "cbc7b95d",
   "metadata": {},
   "source": [
    "## Main Challenges\n",
    "- One of my concerns is the webscrappin for the lyrics. What if I end up with a lot of songs where i have to fetch the lyrics manually."
   ]
  },
  {
   "cell_type": "markdown",
   "id": "44c37c60",
   "metadata": {},
   "source": []
  }
 ],
 "metadata": {
  "kernelspec": {
   "display_name": "Python 3 (ipykernel)",
   "language": "python",
   "name": "python3"
  },
  "language_info": {
   "codemirror_mode": {
    "name": "ipython",
    "version": 3
   },
   "file_extension": ".py",
   "mimetype": "text/x-python",
   "name": "python",
   "nbconvert_exporter": "python",
   "pygments_lexer": "ipython3",
   "version": "3.10.6"
  }
 },
 "nbformat": 4,
 "nbformat_minor": 5
}
