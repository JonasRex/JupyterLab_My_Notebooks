{
 "cells": [
  {
   "cell_type": "markdown",
   "id": "b7252745",
   "metadata": {},
   "source": [
    "# Music / Lyric analyzer"
   ]
  },
  {
   "cell_type": "markdown",
   "id": "5bcbdc76",
   "metadata": {},
   "source": [
    "## Idea:\n",
    "My project will be about music and lyrics from the past 50 years (1971-2021). First i wanna build some webscrapping software, that provide me with all the necessary data i need for my project, including the original lyrics for each song. \n",
    "\n",
    "- Analyze the lyrics (Clustering, Classification). See if there is any patterns that makes it a hit. Does it recognize different genres?\n",
    "- Compare the popularity of a genre with the financial situation in the US/World, in the past 50 years. Graphs and charts.\n",
    "- Examine if the music industry was impacted by internet (Youtube, spotify, etc.). It appears that there were way more different songs on the billboard charts in the 70s/80s. But obviously for a shorter period of time, compared to today.\n",
    "\n",
    "#### Extra:\n",
    "- If I take a none-top 100 song's lyrics, will the machine be able to predict if it's a \"hit\" or not?\n",
    "- Make GUI. (Not a webside)"
   ]
  },
  {
   "cell_type": "markdown",
   "id": "b5e3ed69",
   "metadata": {},
   "source": [
    "## Webscrap (Automation)\n",
    "-  Fetch all songs that has been on the top 10 singles Billboard Hot100 list https://en.wikipedia.org/wiki/List_of_Billboard_number-one_singles for the last 50 years.\n",
    "Including: entry date, title, artist(s), peak performance, peak date, weeks in top10 (Saved as an csv file)\n",
    "- Scrap the lyrics from http://www.mldb.org/ via a url search like this: https://www.mldb.org/search?mq=halo+beyonce (This returns the lyrics) or this example with my more than one search result: https://www.mldb.org/search?mq=i+love+you+beatles (Then the scrapper will try and determind which one is the correct link and then fetch the result) (Saved as txt files)"
   ]
  },
  {
   "cell_type": "markdown",
   "id": "291eaae9",
   "metadata": {},
   "source": [
    "## Technologies\n",
    "- Pandas\n",
    "- Numpy\n",
    "- BeautifulSoup\n",
    "- NLTK\n",
    "- sklearn.cluster (MeanShift)\n",
    "- Keras / Tensorflow\n",
    "- matplotlib.pyplot\n",
    "- tkinter (GUI)"
   ]
  },
  {
   "cell_type": "markdown",
   "id": "cbc7b95d",
   "metadata": {},
   "source": [
    "## Main Challenge\n",
    "- One of my concerns is the webscrappin for the lyrics. What if I end up with a lot of songs where i have to fetch the lyrics manually.\n",
    "- I work best alone. But am I trying to do too much on my own?\n",
    "- Is the dataset going to be too small? (20 - 40 songs for each year)."
   ]
  },
  {
   "cell_type": "markdown",
   "id": "44c37c60",
   "metadata": {},
   "source": []
  }
 ],
 "metadata": {
  "kernelspec": {
   "display_name": "Python 3 (ipykernel)",
   "language": "python",
   "name": "python3"
  },
  "language_info": {
   "codemirror_mode": {
    "name": "ipython",
    "version": 3
   },
   "file_extension": ".py",
   "mimetype": "text/x-python",
   "name": "python",
   "nbconvert_exporter": "python",
   "pygments_lexer": "ipython3",
   "version": "3.10.6"
  }
 },
 "nbformat": 4,
 "nbformat_minor": 5
}
