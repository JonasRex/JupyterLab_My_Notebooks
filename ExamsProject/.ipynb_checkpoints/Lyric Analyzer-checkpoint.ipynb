{
 "cells": [
  {
   "cell_type": "markdown",
   "id": "472849c9",
   "metadata": {},
   "source": [
    "# Clustering Textual Data"
   ]
  },
  {
   "cell_type": "code",
   "execution_count": 5,
   "id": "3ee4b5c5",
   "metadata": {},
   "outputs": [
    {
     "data": {
      "text/html": [
       "<div>\n",
       "<style scoped>\n",
       "    .dataframe tbody tr th:only-of-type {\n",
       "        vertical-align: middle;\n",
       "    }\n",
       "\n",
       "    .dataframe tbody tr th {\n",
       "        vertical-align: top;\n",
       "    }\n",
       "\n",
       "    .dataframe thead th {\n",
       "        text-align: right;\n",
       "    }\n",
       "</style>\n",
       "<table border=\"1\" class=\"dataframe\">\n",
       "  <thead>\n",
       "    <tr style=\"text-align: right;\">\n",
       "      <th></th>\n",
       "      <th>Title</th>\n",
       "      <th>Artist</th>\n",
       "      <th>Lyrics</th>\n",
       "    </tr>\n",
       "  </thead>\n",
       "  <tbody>\n",
       "    <tr>\n",
       "      <th>0</th>\n",
       "      <td>End of the Road</td>\n",
       "      <td>Boyz II Men</td>\n",
       "      <td>Girl you know we belong together  I have no time for you to be playing  With my heart like this  You'll be mine forever baby, you just see   We belong together  And you that I'm right  Why do you play with my heart,  hy do you play with my mind   Said we'd be forever  Said it'd never die  How could you love me and leave me  And never say good-bye   When I can't sleep at night without holding you tight  Girl, each time I try I just break down and cry  Pain in my head oh I'd rather be dead  Spinnin' around and around   Although we've come to the End Of The Road  Still I can't let you go  It's unnatural, you belong to me, I belong to you  Come to the End of the Road  Still I can't let you go  It's unnatural, you belong to me, I belong to you   Girl, I know you really love me,  You just don't realize  You've never been there before  It's only your first time   Maybe I'll forgive you, hmm  Maybe you'll try  We should be happy together  Forever, you and I   Can you love me again like you loved me before  This time I want you to love me much more  This time instead just come to my bed  And baby just don't let me, don't let me down    Girl I'm here for you  All those times of night when you just hurt me  And just run out with that other fella  Baby I knew about it, I just didn't care  You just don't understand how much I love you do you  I'm here for you   I'm not out to go out and cheat on you all night  Just like you did baby but that's all right  Hey, I love you anyway  And I'm still gonna be here for you 'till my dying day baby  Right now, I'm just in so much pain baby  Coz you just won't come back to me  Will you Just come back to me   (Lonely)  Yes baby my heart is lonely  (Lonely)  My heart hurts baby  (Lonely)  Yes I feel pain too  Baby please   This time instead just come to my bed  And baby just don't let me go</td>\n",
       "    </tr>\n",
       "    <tr>\n",
       "      <th>1</th>\n",
       "      <td>Baby Got Back</td>\n",
       "      <td>Sir Mix-a-Lot</td>\n",
       "      <td>Oh, my, god. Becky, look at her butt.  It is so big. *scoff* She looks like,  one of those rap guys' girlfriends.  But, y'know, who understands those rap guys *scoff*  They only talk to her, because,  she looks like a total prostitute, 'kay  I mean, her butt, is just so big. *scoff*  I can't believe it's just so round, it's like,  out there, I mean - gross. Look!  She's just so ... black!  I like big butts and I can not lie You other brothers can't deny That when a girl walks in with an itty bitty waste And a round thing in your face You get sprung, wanna pull up tough 'Cause you notice that butt was stuffed Deep in the jeans she's wearing I'm hooked and I can't stop staring Oh baby, I wanna get wit'cha  And take your picture My homeboys tried to warn me But with that butt you got makes  Ooh, Rump-o'-smooth-skin You say you wanna get in my Benz Well, use me, use me  'Cause you ain't that average groupy I've seen them dancin'  The hell with romancin' She's wet, wet,  Got it goin' like a turbo 'Vette I'm tired of magazines Sayin' flat butts are the thing Take the average black man and ask him that She gotta pack much back So, fellas! (Yeah!) Fellas! (Yeah!) Has your girlfriend got the butt (Hell yeah!) Tell 'em to shake it! (Shake it!) Shake it! (Shake it!) Shake that healthy butt! Baby got back!  (LA face with Oakland booty) Baby got back!  I like 'em round, and big And when I'm throwin' a gig I just can't help myself, I'm actin' like an animal Now here's my scandal I wanna get you home And ugh, double-up, ugh, ugh I ain't talkin' bout Playboy 'Cause silicone parts are made for toys I want 'em real thick and juicy So find that juicy double Mix-a-Lot's in trouble Beggin' for a piece of that bubble So I'm lookin' at rock videos Watchin' these bimbos walkin' like hoes You can have them bimbos I'll keep my women like Flo Jo A word to the thick soul sistas, I wanna get with ya I won't cuss or hit ya But I gotta be straight when I say I wanna *fuck* Til the break of dawn Baby got it goin' on A lot of simps won't like this song 'Cause them punks like to hit it and quit it And I'd rather stay and play 'Cause I'm long, and I'm strong And I'm down to get the friction on So, ladies! {Yeah!} Ladies! {Yeah} If you wanna role in my Mercedes {Yeah!} Then turn around! Stick it out! Even white boys got to shout Baby got back!  Baby got back! Yeah, baby ... when it comes to females, Cosmo ain't got nothin'  to do with my selection. 36-24-36 Ha ha, only if she's 5'3 quot;.  So your girlfriend rolls a Honda, playin' workout tapes by Fonda But Fonda ain't got a motor in the back of her Honda My anaconda don't want none  Unless you've got buns, hon You can do side bends or sit-ups,  But please don't lose that butt Some brothers wanna play that  quot;hard quot; role  And tell you that the butt ain't go So they toss it and leave it And I pull up quick to retrieve it So Cosmo says you're fat Well I ain't down with that! 'Cause your waste is small and your curves are kickin' And I'm thinkin' bout stickin' To the beanpole dames in the magazines: You ain't it, Miss Thing! Give me a sista, I can't resist her Red beans and rice didn't miss her Some knucklehead tried to dis 'Cause his girls are on my list He had game but he chose to hit 'em And I pull up quick to get wit 'em So ladies, if the butt is round, And you want a triple X throw down, Dial 1-900-MIXALOT And kick them nasty thoughts Baby got back!</td>\n",
       "    </tr>\n",
       "    <tr>\n",
       "      <th>2</th>\n",
       "      <td>Jump</td>\n",
       "      <td>Kris Kross</td>\n",
       "      <td>NaN</td>\n",
       "    </tr>\n",
       "    <tr>\n",
       "      <th>3</th>\n",
       "      <td>Save the Best for Last</td>\n",
       "      <td>Vanessa Williams</td>\n",
       "      <td>Sometimes the snow comes down in June       Sometimes the sun goes 'round the moon       I see the passion in your eyes       Sometimes it's all a big surprise        'Cause there was a time when all I did was wish       You'd tell me this was love       It's not the way I hoped or how I planned       But somehow it's enough         And now we're standing face to face       Isn't this world a crazy place       Just when I thought our chance had passed       You go and save the best for last         All of the nights you came to me       When some silly girl had set you free       You wondered how you'd make it through       I wondered what was wrong with you         'Cause how could you give your love to someone else       And share your dreams with me       Sometimes the very thing you're looking for       Is the one thing you can't see         And now we're standing face to face       Isn't this world a crazy place       Just when I thought our chance had passed       You go and save the best for last         Sometimes the very thing you're looking for       Is the one thing you can't see         Sometimes the snow comes down in June       Sometimes the sun goes 'round the moon       Just when I thought our chance had passed       You go and save the best for last         You went and saved the best for last         Written by Waldman/Lind/Galdston</td>\n",
       "    </tr>\n",
       "    <tr>\n",
       "      <th>4</th>\n",
       "      <td>Baby-Baby-Baby</td>\n",
       "      <td>TLC</td>\n",
       "      <td>And you want my love Well that's alright Well it will be there for you morning, noon and night But you gotta be good And do it right Ain't got no time for part-time lovin' in my life  Well you wanna be loved (uh) Hey that's O.K. Cause it falls in line right with my sexuality But you gotta be down A nickel gotta be true Cause otherwise this \"B\" ain't got no time for you  Oh baby, baby, baby I got so much love in me Ooh (baby, baby,) baby, baby, baby Cause if your're gonna get me off You got to love me deep  Well you want my heart (uh) And all my time Well it won't be there if you can't deal with my mind Cause a girl like me (uh) Won't stand for less I require plenty conversation with my sex  Long as you know that I could have any man I want to Baby that's actual and factual But still I choose you to be with me And work on me so you better not flake it up  Ohhhhhh   Baby, baby, baby Ain't got no time for the part-time lovin' I got so much love in me I gotta be loved And that's O.K.  Baby, baby, baby Cause if you're gonna get me off  You got to love me deep (Get me off)  Baby Long as you know that I could have any man I want to Baby that's actual and factual But still I choose you to be with me And work on me so you better not flake it up  Well you want my heart And all my time  Well it won't be there if you can't deal with my mind Cause a girl like me I won't stand for less I require plenty conversation with my sex   I can have any man that I want to  Time and place that I choose to But I think you know that I'd rather be here with you  Yeah That's actual and factual You're the one I seem to run back to  Just to get me off You got to love me, got to love me, got to love me   Baby, baby, baby I want to  Time and place that I choose to  But I think you know that I'd rather be here with you (yeah) That's actual and facutal You're the one I seem to run back to</td>\n",
       "    </tr>\n",
       "    <tr>\n",
       "      <th>...</th>\n",
       "      <td>...</td>\n",
       "      <td>...</td>\n",
       "      <td>...</td>\n",
       "    </tr>\n",
       "    <tr>\n",
       "      <th>95</th>\n",
       "      <td>I Will Remember You</td>\n",
       "      <td>Amy Grant</td>\n",
       "      <td>I will be walking one day Down a street far away And see a face in the crowd and smile Knowing how you made me laugh Hearing sweet echoes of you from the past I will remember you.  Look in my eyes while you're near Tell me what's happening here See that I don't want to say good-bye Our love is frozen in time I'll be your champion and you'll be mine I will remember I will remember you.  Later on When this fire is an ember Later on When the night's not so tender Given time Though it's hard to remember darlin' I will be holding I'll still be holding to you I will remember you.  So many years come and gone And yet the memory is strong One word we never could learn Good-bye True love is frozen in time I'll be your champion and you'll be mine I will remember you So please remember I will remember you I will remember you I will remember you I will remember you.</td>\n",
       "    </tr>\n",
       "    <tr>\n",
       "      <th>96</th>\n",
       "      <td>We Got a Love Thang</td>\n",
       "      <td>CeCe Peniston</td>\n",
       "      <td>NaN</td>\n",
       "    </tr>\n",
       "    <tr>\n",
       "      <th>97</th>\n",
       "      <td>Let's Get Rocked</td>\n",
       "      <td>Def Leppard</td>\n",
       "      <td>Do ya wanna get rocked   Let's get, let's get, let's get, let's get  Rocked......   I'm your average, ordinary, everyday kid,  Happy to do nothin'  In fact that's what I did.  Got a million ways to make my day, but daddy don't agree  'Cos when I try to get away he says  He get plans for me   Get your butt right out of bed - Stop buggin' me  Get up and move your sleepy head - Don't shake my tree.   He said  Mow the lawn - Who, me  Walk the dog - Not my style, man!  Take out the trash - No way!  Tidy your room - C'mon get real!  Sorry dad, gotta disappear,  Let's get the rock outta here.   Seven-day weekend,  Up all night,  In at the deep end,  Hang on tight  Won't take a minute,  Won't take long,  So get on in it,  Come on, come on, come on   Let's get, let's get, let's get, let's get rocked  Let's get, let's get, let's get, let's get rocked  Let's go all the way, get it night'n'day  C'mon let's get, let's get, let's get, let's get rocked.   I'm your average, ordinary, everyday dude  Drivin' with my baby, To get her in the mood  She's dialin'through my radio and I'm ready to make my move,  But what she got ain't rock'n'roll and it really blew my groove   It was - Chopin, Mozart, Beethoven  It makes me wanna scream - Bach, Tchaikovsky, violins  Turn it off! - That ain't my scene  Well I'm sorry girl, here's my confession  I suppose a rock's out of the question    Oh, all I wanna do is take a ride into the blue  Ev'ry time I want to love you I get stuck inside my room  Heaven knows I'm sick'n'tired of dancin' with this broom  I feel lucky today  Hey, look at that man!  Do ya wanna get rocked  Do ya wanna get rocked   It won't take you a minute,  It won't take that long,  So get on, get with it,  Oh, c'mon  Everybody!   Let's get, let's get, let's get, let's get rocked  Get on top, baby  Let's get, let's get, let's get, let's get rocked  Do ya wanna  Do ya wanna  Let's get, let's get, let's get, let's get rocked  Get on top of it  Let's get, let's get, let's get, let's get rocked  Love to rock your body, baby  Let's get, let's get, let's get, let's get rocked  Let's go all the way,  Let's do it night and day,  Let's get out and play,  Rock the night away  C'mon  Let's get, let's get, let's get, let's get (rocked)  Oh,  Do ya wanna get rocked</td>\n",
       "    </tr>\n",
       "    <tr>\n",
       "      <th>98</th>\n",
       "      <td>They Want EFX</td>\n",
       "      <td>Das EFX</td>\n",
       "      <td>Bum stiggedy bum stiggedy bum, hon, I got the old pa-rum-pum-pum-pum But I can fe-fi-fo-fum, diddly-bum, here I come So Peter Piper, I'm hyper than Pinochio's nose I'm the supercalafragilistic tic-tac pro I gave my oopsy, daisy, now you've got the crazy Crazy with the books, Googley-goo where's the gravy So one two, unbuckle my, um shoe Yabba Doo, hippity-hoo, crack a brew So trick or treat, smell my feet, yup I drippedy-dropped a hit So books get on your mark and spark that old censorship Drats and double drats, I smiggedy-smacked some whiz kids The boogedy-woogedly Brooklyn boy's about to get his, dig My waist bone's connected to my hip bone My hip bone's connected to my thigh bone My thigh bone's connected to my knee bone My knee bone's connected to my hardy-har-har-har The jibbedy-jabber jaw ja-jabbing at your funny bone, um Skip the ovaltine, I'd rather have a honeycomb Or preferably the sesame, Let's spiggedy-spark the blunts, um Dun dun dun dun dun, dun dun They want EFX, some live EFX They want EFX, some live EFX They want EFX, some live EFX Snap a neck for some live EFX Well I'll be darned, shiver me timbers, yo head for the hills I picked a weeping willow, and a daffodil So back up bucko or I'll pulverize McGruff 'Cause this little piggy gets busy and stuff Arrivederci, heavens to mercy, honky tonk I get swift I caught a snuffleufagus and smoked a boogaloo spliff I got the nooks, the cranies, the nitty gritty fodey-doe All aboard, cast away, hey where's my boogaloo? Oh I'm steaming, agony Why's everybody always picking on me They call me Puddin' Tane, and rap's my game You ask me again and I'll t-tell you the same 'Cause I'm the vulgar vegemintarian, so stick 'em up freeze So no Park sausages, Mom, please A-blitz shoots the breeze, twiddly-dee shoots his lip Crazy dazy shot the Sheriff, yup and I shot the gift And that's pretty sneaky, sis oh yep I got my socks off, my rocks off, my Nestle's cup of cocoa Holly hobby tried to slob me, tried to rob me silly stunt Diggedy-dun dun dun dun dun, dun dun They want EFX, some live EFX They want EFX, some live EFX They want EFX, some live EFX Snap a neck for some live EFX Yahoo, hidee-ho yup I'm coming around the stretch So here Fido boy, fetch, boy, fetch I got the rope-a-dope a slippery choker, look at me get raw And I'm the hickory-dickory top of morning boogoloo big jaw With the yippedy zippedy Winnie the Pooh bad boy blue, Yo crazy got the gusto, what up, I swing that too So nincompoop give a hoot and stomp a troop without a strain Like Roscoe B. Coltrane I spiggedy-spark a spiff and give a twist like Chubby Checker I take my Froot Loops with two scoops, make it double decker Oh Vince, the baby come to Papa Duke A babaloo, ooh, a babaloo boogedy boo I went from Gucci to Stussy, to fliggedy-flam a groupie To Zsa Zsa, to yibbedy-yabba dabba hoochie koochie Tally ho I-I'll take my Stove Top instead of potatoes, so Maybe I'll shoot 'em now, nope maybe I'll shoot 'em later, yep I used to have a dog and Bingo was his name oh, so uh B - I - N - G - O-oh You do the hokey pokey and you turn yourself around, hon, so uh Dun dun dun dun dun, dun dun They want EFX, some live EFX They want EFX, some live EFX They want EFX, some live EFX Snap a neck for some live EFX</td>\n",
       "    </tr>\n",
       "    <tr>\n",
       "      <th>99</th>\n",
       "      <td>I Can't Make You Love Me</td>\n",
       "      <td>Bonnie Raitt</td>\n",
       "      <td>Turn down the lights, turn down the bed  Turn down these voices inside my head  Lay down with me, tell me no lies  Just hold me close, don't patronize - don't patronize me CHORUS: Cause I can't make you love me if you don't You can't make your heart feel something it won't Here in the dark, in these final hours I will lay down my heart and I'll feel the power But you won't, no you won't 'Cause I can't make you love me, if you don't I'll close my eyes, then I won't see The love you don't feel when you're holding me Morning will come and I'll do what's right Just give me till then to give up this fight And I will give up this fight CHORUS: Cause I can't make you love me if you don't You can't make your heart feel something it won't Here in the dark, in these final hours I will lay down my heart and I'll feel the power But you won't, no you won't 'Cause I can't make you love me, if you don't</td>\n",
       "    </tr>\n",
       "  </tbody>\n",
       "</table>\n",
       "<p>100 rows × 3 columns</p>\n",
       "</div>"
      ],
      "text/plain": [
       "                       Title            Artist  \\\n",
       "0            End of the Road       Boyz II Men   \n",
       "1              Baby Got Back     Sir Mix-a-Lot   \n",
       "2                       Jump        Kris Kross   \n",
       "3     Save the Best for Last  Vanessa Williams   \n",
       "4             Baby-Baby-Baby               TLC   \n",
       "..                       ...               ...   \n",
       "95       I Will Remember You         Amy Grant   \n",
       "96       We Got a Love Thang     CeCe Peniston   \n",
       "97          Let's Get Rocked       Def Leppard   \n",
       "98             They Want EFX           Das EFX   \n",
       "99  I Can't Make You Love Me      Bonnie Raitt   \n",
       "\n",
       "                                                                                                                                                                                                                                                                                                                                                                                                                                                                                                                                                                                                                                                                                                                                                                                                                                                                                                                                                                                                                                                                                                                                                                                                                                                                                                                                                                                                                                                                                                                                                                                                                                                                                                                                                                                                                                                                                                                                                                                                                                                                                                                                                                                                                                                                                                                                                                                                                                                                                                                                                                                                                                                                                                                                                                                                                                                                                                                                                                                                                                                                                                                                                                                                                                                                                                                                                                                                                                                                                                                                                                          Lyrics  \n",
       "0                                                                                                                                                                                                                                                                                                                                                                                                                                                                                                                                                                                                                                                                                                                                                                                                                                                                                                                                                                                                                                                                                                                                                                                                                                                                                                                                                                                                                                                                                                                                                                                                                                                        Girl you know we belong together  I have no time for you to be playing  With my heart like this  You'll be mine forever baby, you just see   We belong together  And you that I'm right  Why do you play with my heart,  hy do you play with my mind   Said we'd be forever  Said it'd never die  How could you love me and leave me  And never say good-bye   When I can't sleep at night without holding you tight  Girl, each time I try I just break down and cry  Pain in my head oh I'd rather be dead  Spinnin' around and around   Although we've come to the End Of The Road  Still I can't let you go  It's unnatural, you belong to me, I belong to you  Come to the End of the Road  Still I can't let you go  It's unnatural, you belong to me, I belong to you   Girl, I know you really love me,  You just don't realize  You've never been there before  It's only your first time   Maybe I'll forgive you, hmm  Maybe you'll try  We should be happy together  Forever, you and I   Can you love me again like you loved me before  This time I want you to love me much more  This time instead just come to my bed  And baby just don't let me, don't let me down    Girl I'm here for you  All those times of night when you just hurt me  And just run out with that other fella  Baby I knew about it, I just didn't care  You just don't understand how much I love you do you  I'm here for you   I'm not out to go out and cheat on you all night  Just like you did baby but that's all right  Hey, I love you anyway  And I'm still gonna be here for you 'till my dying day baby  Right now, I'm just in so much pain baby  Coz you just won't come back to me  Will you Just come back to me   (Lonely)  Yes baby my heart is lonely  (Lonely)  My heart hurts baby  (Lonely)  Yes I feel pain too  Baby please   This time instead just come to my bed  And baby just don't let me go     \n",
       "1   Oh, my, god. Becky, look at her butt.  It is so big. *scoff* She looks like,  one of those rap guys' girlfriends.  But, y'know, who understands those rap guys *scoff*  They only talk to her, because,  she looks like a total prostitute, 'kay  I mean, her butt, is just so big. *scoff*  I can't believe it's just so round, it's like,  out there, I mean - gross. Look!  She's just so ... black!  I like big butts and I can not lie You other brothers can't deny That when a girl walks in with an itty bitty waste And a round thing in your face You get sprung, wanna pull up tough 'Cause you notice that butt was stuffed Deep in the jeans she's wearing I'm hooked and I can't stop staring Oh baby, I wanna get wit'cha  And take your picture My homeboys tried to warn me But with that butt you got makes  Ooh, Rump-o'-smooth-skin You say you wanna get in my Benz Well, use me, use me  'Cause you ain't that average groupy I've seen them dancin'  The hell with romancin' She's wet, wet,  Got it goin' like a turbo 'Vette I'm tired of magazines Sayin' flat butts are the thing Take the average black man and ask him that She gotta pack much back So, fellas! (Yeah!) Fellas! (Yeah!) Has your girlfriend got the butt (Hell yeah!) Tell 'em to shake it! (Shake it!) Shake it! (Shake it!) Shake that healthy butt! Baby got back!  (LA face with Oakland booty) Baby got back!  I like 'em round, and big And when I'm throwin' a gig I just can't help myself, I'm actin' like an animal Now here's my scandal I wanna get you home And ugh, double-up, ugh, ugh I ain't talkin' bout Playboy 'Cause silicone parts are made for toys I want 'em real thick and juicy So find that juicy double Mix-a-Lot's in trouble Beggin' for a piece of that bubble So I'm lookin' at rock videos Watchin' these bimbos walkin' like hoes You can have them bimbos I'll keep my women like Flo Jo A word to the thick soul sistas, I wanna get with ya I won't cuss or hit ya But I gotta be straight when I say I wanna *fuck* Til the break of dawn Baby got it goin' on A lot of simps won't like this song 'Cause them punks like to hit it and quit it And I'd rather stay and play 'Cause I'm long, and I'm strong And I'm down to get the friction on So, ladies! {Yeah!} Ladies! {Yeah} If you wanna role in my Mercedes {Yeah!} Then turn around! Stick it out! Even white boys got to shout Baby got back!  Baby got back! Yeah, baby ... when it comes to females, Cosmo ain't got nothin'  to do with my selection. 36-24-36 Ha ha, only if she's 5'3 quot;.  So your girlfriend rolls a Honda, playin' workout tapes by Fonda But Fonda ain't got a motor in the back of her Honda My anaconda don't want none  Unless you've got buns, hon You can do side bends or sit-ups,  But please don't lose that butt Some brothers wanna play that  quot;hard quot; role  And tell you that the butt ain't go So they toss it and leave it And I pull up quick to retrieve it So Cosmo says you're fat Well I ain't down with that! 'Cause your waste is small and your curves are kickin' And I'm thinkin' bout stickin' To the beanpole dames in the magazines: You ain't it, Miss Thing! Give me a sista, I can't resist her Red beans and rice didn't miss her Some knucklehead tried to dis 'Cause his girls are on my list He had game but he chose to hit 'em And I pull up quick to get wit 'em So ladies, if the butt is round, And you want a triple X throw down, Dial 1-900-MIXALOT And kick them nasty thoughts Baby got back!   \n",
       "2                                                                                                                                                                                                                                                                                                                                                                                                                                                                                                                                                                                                                                                                                                                                                                                                                                                                                                                                                                                                                                                                                                                                                                                                                                                                                                                                                                                                                                                                                                                                                                                                                                                                                                                                                                                                                                                                                                                                                                                                                                                                                                                                                                                                                                                                                                                                                                                                                                                                                                                                                                                                                                                                                                                                                                                                                                                                                                                                                                                                                                                                                                                                                                                                                                                                                                                                                                                                                                                                                                                                                                            NaN  \n",
       "3                                                                                                                                                                                                                                                                                                                                                                                                                                                                                                                                                                                                                                                                                                                                                                                                                                                                                                                                                                                                                                                                                                                                                                                                                                                                                                                                                                                                                                                                                                                                                                                                                                                                                                                                                                                                                                                                                                                                                                                                                                                                                                                                                   Sometimes the snow comes down in June       Sometimes the sun goes 'round the moon       I see the passion in your eyes       Sometimes it's all a big surprise        'Cause there was a time when all I did was wish       You'd tell me this was love       It's not the way I hoped or how I planned       But somehow it's enough         And now we're standing face to face       Isn't this world a crazy place       Just when I thought our chance had passed       You go and save the best for last         All of the nights you came to me       When some silly girl had set you free       You wondered how you'd make it through       I wondered what was wrong with you         'Cause how could you give your love to someone else       And share your dreams with me       Sometimes the very thing you're looking for       Is the one thing you can't see         And now we're standing face to face       Isn't this world a crazy place       Just when I thought our chance had passed       You go and save the best for last         Sometimes the very thing you're looking for       Is the one thing you can't see         Sometimes the snow comes down in June       Sometimes the sun goes 'round the moon       Just when I thought our chance had passed       You go and save the best for last         You went and saved the best for last         Written by Waldman/Lind/Galdston  \n",
       "4                                                                                                                                                                                                                                                                                                                                                                                                                                                                                                                                                                                                                                                                                                                                                                                                                                                                                                                                                                                                                                                                                                                                                                                                                                                                                                                                                                                                                                                                                                                                                                                                                 And you want my love Well that's alright Well it will be there for you morning, noon and night But you gotta be good And do it right Ain't got no time for part-time lovin' in my life  Well you wanna be loved (uh) Hey that's O.K. Cause it falls in line right with my sexuality But you gotta be down A nickel gotta be true Cause otherwise this \"B\" ain't got no time for you  Oh baby, baby, baby I got so much love in me Ooh (baby, baby,) baby, baby, baby Cause if your're gonna get me off You got to love me deep  Well you want my heart (uh) And all my time Well it won't be there if you can't deal with my mind Cause a girl like me (uh) Won't stand for less I require plenty conversation with my sex  Long as you know that I could have any man I want to Baby that's actual and factual But still I choose you to be with me And work on me so you better not flake it up  Ohhhhhh   Baby, baby, baby Ain't got no time for the part-time lovin' I got so much love in me I gotta be loved And that's O.K.  Baby, baby, baby Cause if you're gonna get me off  You got to love me deep (Get me off)  Baby Long as you know that I could have any man I want to Baby that's actual and factual But still I choose you to be with me And work on me so you better not flake it up  Well you want my heart And all my time  Well it won't be there if you can't deal with my mind Cause a girl like me I won't stand for less I require plenty conversation with my sex   I can have any man that I want to  Time and place that I choose to But I think you know that I'd rather be here with you  Yeah That's actual and factual You're the one I seem to run back to  Just to get me off You got to love me, got to love me, got to love me   Baby, baby, baby I want to  Time and place that I choose to  But I think you know that I'd rather be here with you (yeah) That's actual and facutal You're the one I seem to run back to  \n",
       "..                                                                                                                                                                                                                                                                                                                                                                                                                                                                                                                                                                                                                                                                                                                                                                                                                                                                                                                                                                                                                                                                                                                                                                                                                                                                                                                                                                                                                                                                                                                                                                                                                                                                                                                                                                                                                                                                                                                                                                                                                                                                                                                                                                                                                                                                                                                                                                                                                                                                                                                                                                                                                                                                                                                                                                                                                                                                                                                                                                                                                                                                                                                                                                                                                                                                                                                                                                                                                                                                                                                                                                           ...  \n",
       "95                                                                                                                                                                                                                                                                                                                                                                                                                                                                                                                                                                                                                                                                                                                                                                                                                                                                                                                                                                                                                                                                                                                                                                                                                                                                                                                                                                                                                                                                                                                                                                                                                                                                                                                                                                                                                                                                                                                                                                                                                                                                                                                                                                                                                                                                                                                                                                                                                                                                                                                                                                                                                                                                            I will be walking one day Down a street far away And see a face in the crowd and smile Knowing how you made me laugh Hearing sweet echoes of you from the past I will remember you.  Look in my eyes while you're near Tell me what's happening here See that I don't want to say good-bye Our love is frozen in time I'll be your champion and you'll be mine I will remember I will remember you.  Later on When this fire is an ember Later on When the night's not so tender Given time Though it's hard to remember darlin' I will be holding I'll still be holding to you I will remember you.  So many years come and gone And yet the memory is strong One word we never could learn Good-bye True love is frozen in time I'll be your champion and you'll be mine I will remember you So please remember I will remember you I will remember you I will remember you I will remember you.  \n",
       "96                                                                                                                                                                                                                                                                                                                                                                                                                                                                                                                                                                                                                                                                                                                                                                                                                                                                                                                                                                                                                                                                                                                                                                                                                                                                                                                                                                                                                                                                                                                                                                                                                                                                                                                                                                                                                                                                                                                                                                                                                                                                                                                                                                                                                                                                                                                                                                                                                                                                                                                                                                                                                                                                                                                                                                                                                                                                                                                                                                                                                                                                                                                                                                                                                                                                                                                                                                                                                                                                                                                                                                           NaN  \n",
       "97                                                                                                                                                                                                                                                                                                                                                                                                                                                                                                                                                                                                                                                                                                                                                                                                                                                                                                                                                                                                                                                                                                                                                                                                         Do ya wanna get rocked   Let's get, let's get, let's get, let's get  Rocked......   I'm your average, ordinary, everyday kid,  Happy to do nothin'  In fact that's what I did.  Got a million ways to make my day, but daddy don't agree  'Cos when I try to get away he says  He get plans for me   Get your butt right out of bed - Stop buggin' me  Get up and move your sleepy head - Don't shake my tree.   He said  Mow the lawn - Who, me  Walk the dog - Not my style, man!  Take out the trash - No way!  Tidy your room - C'mon get real!  Sorry dad, gotta disappear,  Let's get the rock outta here.   Seven-day weekend,  Up all night,  In at the deep end,  Hang on tight  Won't take a minute,  Won't take long,  So get on in it,  Come on, come on, come on   Let's get, let's get, let's get, let's get rocked  Let's get, let's get, let's get, let's get rocked  Let's go all the way, get it night'n'day  C'mon let's get, let's get, let's get, let's get rocked.   I'm your average, ordinary, everyday dude  Drivin' with my baby, To get her in the mood  She's dialin'through my radio and I'm ready to make my move,  But what she got ain't rock'n'roll and it really blew my groove   It was - Chopin, Mozart, Beethoven  It makes me wanna scream - Bach, Tchaikovsky, violins  Turn it off! - That ain't my scene  Well I'm sorry girl, here's my confession  I suppose a rock's out of the question    Oh, all I wanna do is take a ride into the blue  Ev'ry time I want to love you I get stuck inside my room  Heaven knows I'm sick'n'tired of dancin' with this broom  I feel lucky today  Hey, look at that man!  Do ya wanna get rocked  Do ya wanna get rocked   It won't take you a minute,  It won't take that long,  So get on, get with it,  Oh, c'mon  Everybody!   Let's get, let's get, let's get, let's get rocked  Get on top, baby  Let's get, let's get, let's get, let's get rocked  Do ya wanna  Do ya wanna  Let's get, let's get, let's get, let's get rocked  Get on top of it  Let's get, let's get, let's get, let's get rocked  Love to rock your body, baby  Let's get, let's get, let's get, let's get rocked  Let's go all the way,  Let's do it night and day,  Let's get out and play,  Rock the night away  C'mon  Let's get, let's get, let's get, let's get (rocked)  Oh,  Do ya wanna get rocked  \n",
       "98                                                                                                                                                                            Bum stiggedy bum stiggedy bum, hon, I got the old pa-rum-pum-pum-pum But I can fe-fi-fo-fum, diddly-bum, here I come So Peter Piper, I'm hyper than Pinochio's nose I'm the supercalafragilistic tic-tac pro I gave my oopsy, daisy, now you've got the crazy Crazy with the books, Googley-goo where's the gravy So one two, unbuckle my, um shoe Yabba Doo, hippity-hoo, crack a brew So trick or treat, smell my feet, yup I drippedy-dropped a hit So books get on your mark and spark that old censorship Drats and double drats, I smiggedy-smacked some whiz kids The boogedy-woogedly Brooklyn boy's about to get his, dig My waist bone's connected to my hip bone My hip bone's connected to my thigh bone My thigh bone's connected to my knee bone My knee bone's connected to my hardy-har-har-har The jibbedy-jabber jaw ja-jabbing at your funny bone, um Skip the ovaltine, I'd rather have a honeycomb Or preferably the sesame, Let's spiggedy-spark the blunts, um Dun dun dun dun dun, dun dun They want EFX, some live EFX They want EFX, some live EFX They want EFX, some live EFX Snap a neck for some live EFX Well I'll be darned, shiver me timbers, yo head for the hills I picked a weeping willow, and a daffodil So back up bucko or I'll pulverize McGruff 'Cause this little piggy gets busy and stuff Arrivederci, heavens to mercy, honky tonk I get swift I caught a snuffleufagus and smoked a boogaloo spliff I got the nooks, the cranies, the nitty gritty fodey-doe All aboard, cast away, hey where's my boogaloo? Oh I'm steaming, agony Why's everybody always picking on me They call me Puddin' Tane, and rap's my game You ask me again and I'll t-tell you the same 'Cause I'm the vulgar vegemintarian, so stick 'em up freeze So no Park sausages, Mom, please A-blitz shoots the breeze, twiddly-dee shoots his lip Crazy dazy shot the Sheriff, yup and I shot the gift And that's pretty sneaky, sis oh yep I got my socks off, my rocks off, my Nestle's cup of cocoa Holly hobby tried to slob me, tried to rob me silly stunt Diggedy-dun dun dun dun dun, dun dun They want EFX, some live EFX They want EFX, some live EFX They want EFX, some live EFX Snap a neck for some live EFX Yahoo, hidee-ho yup I'm coming around the stretch So here Fido boy, fetch, boy, fetch I got the rope-a-dope a slippery choker, look at me get raw And I'm the hickory-dickory top of morning boogoloo big jaw With the yippedy zippedy Winnie the Pooh bad boy blue, Yo crazy got the gusto, what up, I swing that too So nincompoop give a hoot and stomp a troop without a strain Like Roscoe B. Coltrane I spiggedy-spark a spiff and give a twist like Chubby Checker I take my Froot Loops with two scoops, make it double decker Oh Vince, the baby come to Papa Duke A babaloo, ooh, a babaloo boogedy boo I went from Gucci to Stussy, to fliggedy-flam a groupie To Zsa Zsa, to yibbedy-yabba dabba hoochie koochie Tally ho I-I'll take my Stove Top instead of potatoes, so Maybe I'll shoot 'em now, nope maybe I'll shoot 'em later, yep I used to have a dog and Bingo was his name oh, so uh B - I - N - G - O-oh You do the hokey pokey and you turn yourself around, hon, so uh Dun dun dun dun dun, dun dun They want EFX, some live EFX They want EFX, some live EFX They want EFX, some live EFX Snap a neck for some live EFX  \n",
       "99                                                                                                                                                                                                                                                                                                                                                                                                                                                                                                                                                                                                                                                                                                                                                                                                                                                                                                                                                                                                                                                                                                                                                                                                                                                                                                                                                                                                                                                                                                                                                                                                                                                                                                                                                                                                                                                                                                                                                                                                                                                                                                                                                                                                                                                                                                                                                                                                                                                                                                                                                                                                                                         Turn down the lights, turn down the bed  Turn down these voices inside my head  Lay down with me, tell me no lies  Just hold me close, don't patronize - don't patronize me CHORUS: Cause I can't make you love me if you don't You can't make your heart feel something it won't Here in the dark, in these final hours I will lay down my heart and I'll feel the power But you won't, no you won't 'Cause I can't make you love me, if you don't I'll close my eyes, then I won't see The love you don't feel when you're holding me Morning will come and I'll do what's right Just give me till then to give up this fight And I will give up this fight CHORUS: Cause I can't make you love me if you don't You can't make your heart feel something it won't Here in the dark, in these final hours I will lay down my heart and I'll feel the power But you won't, no you won't 'Cause I can't make you love me, if you don't  \n",
       "\n",
       "[100 rows x 3 columns]"
      ]
     },
     "execution_count": 5,
     "metadata": {},
     "output_type": "execute_result"
    }
   ],
   "source": [
    "import pandas as pd\n",
    "import numpy as np\n",
    "\n",
    "df = pd.read_csv('data/lyrics/1992.csv')\n",
    "\n",
    "df"
   ]
  },
  {
   "cell_type": "code",
   "execution_count": 3,
   "id": "8bdf2206",
   "metadata": {},
   "outputs": [],
   "source": [
    "pd.options.display.max_colwidth = 5000"
   ]
  },
  {
   "cell_type": "code",
   "execution_count": 6,
   "id": "376736ee",
   "metadata": {},
   "outputs": [
    {
     "data": {
      "text/html": [
       "<div>\n",
       "<style scoped>\n",
       "    .dataframe tbody tr th:only-of-type {\n",
       "        vertical-align: middle;\n",
       "    }\n",
       "\n",
       "    .dataframe tbody tr th {\n",
       "        vertical-align: top;\n",
       "    }\n",
       "\n",
       "    .dataframe thead th {\n",
       "        text-align: right;\n",
       "    }\n",
       "</style>\n",
       "<table border=\"1\" class=\"dataframe\">\n",
       "  <thead>\n",
       "    <tr style=\"text-align: right;\">\n",
       "      <th></th>\n",
       "      <th>Title</th>\n",
       "      <th>Artist</th>\n",
       "      <th>Lyrics</th>\n",
       "    </tr>\n",
       "  </thead>\n",
       "  <tbody>\n",
       "    <tr>\n",
       "      <th>0</th>\n",
       "      <td>End of the Road</td>\n",
       "      <td>Boyz II Men</td>\n",
       "      <td>Girl you know we belong together  I have no time for you to be playing  With my heart like this  You'll be mine forever baby, you just see   We belong together  And you that I'm right  Why do you play with my heart,  hy do you play with my mind   Said we'd be forever  Said it'd never die  How could you love me and leave me  And never say good-bye   When I can't sleep at night without holding you tight  Girl, each time I try I just break down and cry  Pain in my head oh I'd rather be dead  Spinnin' around and around   Although we've come to the End Of The Road  Still I can't let you go  It's unnatural, you belong to me, I belong to you  Come to the End of the Road  Still I can't let you go  It's unnatural, you belong to me, I belong to you   Girl, I know you really love me,  You just don't realize  You've never been there before  It's only your first time   Maybe I'll forgive you, hmm  Maybe you'll try  We should be happy together  Forever, you and I   Can you love me again like you loved me before  This time I want you to love me much more  This time instead just come to my bed  And baby just don't let me, don't let me down    Girl I'm here for you  All those times of night when you just hurt me  And just run out with that other fella  Baby I knew about it, I just didn't care  You just don't understand how much I love you do you  I'm here for you   I'm not out to go out and cheat on you all night  Just like you did baby but that's all right  Hey, I love you anyway  And I'm still gonna be here for you 'till my dying day baby  Right now, I'm just in so much pain baby  Coz you just won't come back to me  Will you Just come back to me   (Lonely)  Yes baby my heart is lonely  (Lonely)  My heart hurts baby  (Lonely)  Yes I feel pain too  Baby please   This time instead just come to my bed  And baby just don't let me go</td>\n",
       "    </tr>\n",
       "    <tr>\n",
       "      <th>1</th>\n",
       "      <td>Baby Got Back</td>\n",
       "      <td>Sir Mix-a-Lot</td>\n",
       "      <td>Oh, my, god. Becky, look at her butt.  It is so big. *scoff* She looks like,  one of those rap guys' girlfriends.  But, y'know, who understands those rap guys *scoff*  They only talk to her, because,  she looks like a total prostitute, 'kay  I mean, her butt, is just so big. *scoff*  I can't believe it's just so round, it's like,  out there, I mean - gross. Look!  She's just so ... black!  I like big butts and I can not lie You other brothers can't deny That when a girl walks in with an itty bitty waste And a round thing in your face You get sprung, wanna pull up tough 'Cause you notice that butt was stuffed Deep in the jeans she's wearing I'm hooked and I can't stop staring Oh baby, I wanna get wit'cha  And take your picture My homeboys tried to warn me But with that butt you got makes  Ooh, Rump-o'-smooth-skin You say you wanna get in my Benz Well, use me, use me  'Cause you ain't that average groupy I've seen them dancin'  The hell with romancin' She's wet, wet,  Got it goin' like a turbo 'Vette I'm tired of magazines Sayin' flat butts are the thing Take the average black man and ask him that She gotta pack much back So, fellas! (Yeah!) Fellas! (Yeah!) Has your girlfriend got the butt (Hell yeah!) Tell 'em to shake it! (Shake it!) Shake it! (Shake it!) Shake that healthy butt! Baby got back!  (LA face with Oakland booty) Baby got back!  I like 'em round, and big And when I'm throwin' a gig I just can't help myself, I'm actin' like an animal Now here's my scandal I wanna get you home And ugh, double-up, ugh, ugh I ain't talkin' bout Playboy 'Cause silicone parts are made for toys I want 'em real thick and juicy So find that juicy double Mix-a-Lot's in trouble Beggin' for a piece of that bubble So I'm lookin' at rock videos Watchin' these bimbos walkin' like hoes You can have them bimbos I'll keep my women like Flo Jo A word to the thick soul sistas, I wanna get with ya I won't cuss or hit ya But I gotta be straight when I say I wanna *fuck* Til the break of dawn Baby got it goin' on A lot of simps won't like this song 'Cause them punks like to hit it and quit it And I'd rather stay and play 'Cause I'm long, and I'm strong And I'm down to get the friction on So, ladies! {Yeah!} Ladies! {Yeah} If you wanna role in my Mercedes {Yeah!} Then turn around! Stick it out! Even white boys got to shout Baby got back!  Baby got back! Yeah, baby ... when it comes to females, Cosmo ain't got nothin'  to do with my selection. 36-24-36 Ha ha, only if she's 5'3 quot;.  So your girlfriend rolls a Honda, playin' workout tapes by Fonda But Fonda ain't got a motor in the back of her Honda My anaconda don't want none  Unless you've got buns, hon You can do side bends or sit-ups,  But please don't lose that butt Some brothers wanna play that  quot;hard quot; role  And tell you that the butt ain't go So they toss it and leave it And I pull up quick to retrieve it So Cosmo says you're fat Well I ain't down with that! 'Cause your waste is small and your curves are kickin' And I'm thinkin' bout stickin' To the beanpole dames in the magazines: You ain't it, Miss Thing! Give me a sista, I can't resist her Red beans and rice didn't miss her Some knucklehead tried to dis 'Cause his girls are on my list He had game but he chose to hit 'em And I pull up quick to get wit 'em So ladies, if the butt is round, And you want a triple X throw down, Dial 1-900-MIXALOT And kick them nasty thoughts Baby got back!</td>\n",
       "    </tr>\n",
       "    <tr>\n",
       "      <th>2</th>\n",
       "      <td>Save the Best for Last</td>\n",
       "      <td>Vanessa Williams</td>\n",
       "      <td>Sometimes the snow comes down in June       Sometimes the sun goes 'round the moon       I see the passion in your eyes       Sometimes it's all a big surprise        'Cause there was a time when all I did was wish       You'd tell me this was love       It's not the way I hoped or how I planned       But somehow it's enough         And now we're standing face to face       Isn't this world a crazy place       Just when I thought our chance had passed       You go and save the best for last         All of the nights you came to me       When some silly girl had set you free       You wondered how you'd make it through       I wondered what was wrong with you         'Cause how could you give your love to someone else       And share your dreams with me       Sometimes the very thing you're looking for       Is the one thing you can't see         And now we're standing face to face       Isn't this world a crazy place       Just when I thought our chance had passed       You go and save the best for last         Sometimes the very thing you're looking for       Is the one thing you can't see         Sometimes the snow comes down in June       Sometimes the sun goes 'round the moon       Just when I thought our chance had passed       You go and save the best for last         You went and saved the best for last         Written by Waldman/Lind/Galdston</td>\n",
       "    </tr>\n",
       "    <tr>\n",
       "      <th>3</th>\n",
       "      <td>Baby-Baby-Baby</td>\n",
       "      <td>TLC</td>\n",
       "      <td>And you want my love Well that's alright Well it will be there for you morning, noon and night But you gotta be good And do it right Ain't got no time for part-time lovin' in my life  Well you wanna be loved (uh) Hey that's O.K. Cause it falls in line right with my sexuality But you gotta be down A nickel gotta be true Cause otherwise this \"B\" ain't got no time for you  Oh baby, baby, baby I got so much love in me Ooh (baby, baby,) baby, baby, baby Cause if your're gonna get me off You got to love me deep  Well you want my heart (uh) And all my time Well it won't be there if you can't deal with my mind Cause a girl like me (uh) Won't stand for less I require plenty conversation with my sex  Long as you know that I could have any man I want to Baby that's actual and factual But still I choose you to be with me And work on me so you better not flake it up  Ohhhhhh   Baby, baby, baby Ain't got no time for the part-time lovin' I got so much love in me I gotta be loved And that's O.K.  Baby, baby, baby Cause if you're gonna get me off  You got to love me deep (Get me off)  Baby Long as you know that I could have any man I want to Baby that's actual and factual But still I choose you to be with me And work on me so you better not flake it up  Well you want my heart And all my time  Well it won't be there if you can't deal with my mind Cause a girl like me I won't stand for less I require plenty conversation with my sex   I can have any man that I want to  Time and place that I choose to But I think you know that I'd rather be here with you  Yeah That's actual and factual You're the one I seem to run back to  Just to get me off You got to love me, got to love me, got to love me   Baby, baby, baby I want to  Time and place that I choose to  But I think you know that I'd rather be here with you (yeah) That's actual and facutal You're the one I seem to run back to</td>\n",
       "    </tr>\n",
       "    <tr>\n",
       "      <th>4</th>\n",
       "      <td>Tears in Heaven</td>\n",
       "      <td>Eric Clapton</td>\n",
       "      <td>Would you know my name If I saw you in heaven Would it be the same If I saw you in heaven  I must be strong And carry on, 'Cause I know I don't belong Here in heaven.  Would you hold my hand If I saw you in heaven Would you help me stand If I saw you in heaven  I'll find my way Through night and day, 'Cause I know I just can't stay Here in heaven.  Time can bring you down, Time can bend your knees. Time can break your heart, Have you begging please, begging please.  Beyond the door, There's peace I'm sure, And I know there'll be no more Tears in heaven.  Would you know my name If I saw you in heaven Would it be the same If I saw you in heaven  I must be strong And carry on, 'Cause I know I don't belong Here in heaven.</td>\n",
       "    </tr>\n",
       "    <tr>\n",
       "      <th>...</th>\n",
       "      <td>...</td>\n",
       "      <td>...</td>\n",
       "      <td>...</td>\n",
       "    </tr>\n",
       "    <tr>\n",
       "      <th>65</th>\n",
       "      <td>Just Take My Heart</td>\n",
       "      <td>Mr. Big</td>\n",
       "      <td>Written on piano, performed on guitar. Boom.  It's late at night and neither one of us is sleeping I can't imagine living my life after you're gone Wondering why so many questions have no answers I keep on searching for the reason why we went wrong Where is our yesterday You and I could use it right now But if this is goodbye Just take my heart when you go I don't have the need for it anymore I'll always love you, but you're hard to hold Just take my heart when you go Here we are about to take the final step now I just can't fool myself, I know there's no turing back Face to face it's been endless conversation But when the love is gone you're left with nothing but talk I'd give my everything If only I could turn you around But if this is goodbye Just take my heart when you go I don't have the need for it anymore I'll always love you but you're hard to hold Just take my heart when you go</td>\n",
       "    </tr>\n",
       "    <tr>\n",
       "      <th>66</th>\n",
       "      <td>I Will Remember You</td>\n",
       "      <td>Amy Grant</td>\n",
       "      <td>I will be walking one day Down a street far away And see a face in the crowd and smile Knowing how you made me laugh Hearing sweet echoes of you from the past I will remember you.  Look in my eyes while you're near Tell me what's happening here See that I don't want to say good-bye Our love is frozen in time I'll be your champion and you'll be mine I will remember I will remember you.  Later on When this fire is an ember Later on When the night's not so tender Given time Though it's hard to remember darlin' I will be holding I'll still be holding to you I will remember you.  So many years come and gone And yet the memory is strong One word we never could learn Good-bye True love is frozen in time I'll be your champion and you'll be mine I will remember you So please remember I will remember you I will remember you I will remember you I will remember you.</td>\n",
       "    </tr>\n",
       "    <tr>\n",
       "      <th>67</th>\n",
       "      <td>Let's Get Rocked</td>\n",
       "      <td>Def Leppard</td>\n",
       "      <td>Do ya wanna get rocked   Let's get, let's get, let's get, let's get  Rocked......   I'm your average, ordinary, everyday kid,  Happy to do nothin'  In fact that's what I did.  Got a million ways to make my day, but daddy don't agree  'Cos when I try to get away he says  He get plans for me   Get your butt right out of bed - Stop buggin' me  Get up and move your sleepy head - Don't shake my tree.   He said  Mow the lawn - Who, me  Walk the dog - Not my style, man!  Take out the trash - No way!  Tidy your room - C'mon get real!  Sorry dad, gotta disappear,  Let's get the rock outta here.   Seven-day weekend,  Up all night,  In at the deep end,  Hang on tight  Won't take a minute,  Won't take long,  So get on in it,  Come on, come on, come on   Let's get, let's get, let's get, let's get rocked  Let's get, let's get, let's get, let's get rocked  Let's go all the way, get it night'n'day  C'mon let's get, let's get, let's get, let's get rocked.   I'm your average, ordinary, everyday dude  Drivin' with my baby, To get her in the mood  She's dialin'through my radio and I'm ready to make my move,  But what she got ain't rock'n'roll and it really blew my groove   It was - Chopin, Mozart, Beethoven  It makes me wanna scream - Bach, Tchaikovsky, violins  Turn it off! - That ain't my scene  Well I'm sorry girl, here's my confession  I suppose a rock's out of the question    Oh, all I wanna do is take a ride into the blue  Ev'ry time I want to love you I get stuck inside my room  Heaven knows I'm sick'n'tired of dancin' with this broom  I feel lucky today  Hey, look at that man!  Do ya wanna get rocked  Do ya wanna get rocked   It won't take you a minute,  It won't take that long,  So get on, get with it,  Oh, c'mon  Everybody!   Let's get, let's get, let's get, let's get rocked  Get on top, baby  Let's get, let's get, let's get, let's get rocked  Do ya wanna  Do ya wanna  Let's get, let's get, let's get, let's get rocked  Get on top of it  Let's get, let's get, let's get, let's get rocked  Love to rock your body, baby  Let's get, let's get, let's get, let's get rocked  Let's go all the way,  Let's do it night and day,  Let's get out and play,  Rock the night away  C'mon  Let's get, let's get, let's get, let's get (rocked)  Oh,  Do ya wanna get rocked</td>\n",
       "    </tr>\n",
       "    <tr>\n",
       "      <th>68</th>\n",
       "      <td>They Want EFX</td>\n",
       "      <td>Das EFX</td>\n",
       "      <td>Bum stiggedy bum stiggedy bum, hon, I got the old pa-rum-pum-pum-pum But I can fe-fi-fo-fum, diddly-bum, here I come So Peter Piper, I'm hyper than Pinochio's nose I'm the supercalafragilistic tic-tac pro I gave my oopsy, daisy, now you've got the crazy Crazy with the books, Googley-goo where's the gravy So one two, unbuckle my, um shoe Yabba Doo, hippity-hoo, crack a brew So trick or treat, smell my feet, yup I drippedy-dropped a hit So books get on your mark and spark that old censorship Drats and double drats, I smiggedy-smacked some whiz kids The boogedy-woogedly Brooklyn boy's about to get his, dig My waist bone's connected to my hip bone My hip bone's connected to my thigh bone My thigh bone's connected to my knee bone My knee bone's connected to my hardy-har-har-har The jibbedy-jabber jaw ja-jabbing at your funny bone, um Skip the ovaltine, I'd rather have a honeycomb Or preferably the sesame, Let's spiggedy-spark the blunts, um Dun dun dun dun dun, dun dun They want EFX, some live EFX They want EFX, some live EFX They want EFX, some live EFX Snap a neck for some live EFX Well I'll be darned, shiver me timbers, yo head for the hills I picked a weeping willow, and a daffodil So back up bucko or I'll pulverize McGruff 'Cause this little piggy gets busy and stuff Arrivederci, heavens to mercy, honky tonk I get swift I caught a snuffleufagus and smoked a boogaloo spliff I got the nooks, the cranies, the nitty gritty fodey-doe All aboard, cast away, hey where's my boogaloo? Oh I'm steaming, agony Why's everybody always picking on me They call me Puddin' Tane, and rap's my game You ask me again and I'll t-tell you the same 'Cause I'm the vulgar vegemintarian, so stick 'em up freeze So no Park sausages, Mom, please A-blitz shoots the breeze, twiddly-dee shoots his lip Crazy dazy shot the Sheriff, yup and I shot the gift And that's pretty sneaky, sis oh yep I got my socks off, my rocks off, my Nestle's cup of cocoa Holly hobby tried to slob me, tried to rob me silly stunt Diggedy-dun dun dun dun dun, dun dun They want EFX, some live EFX They want EFX, some live EFX They want EFX, some live EFX Snap a neck for some live EFX Yahoo, hidee-ho yup I'm coming around the stretch So here Fido boy, fetch, boy, fetch I got the rope-a-dope a slippery choker, look at me get raw And I'm the hickory-dickory top of morning boogoloo big jaw With the yippedy zippedy Winnie the Pooh bad boy blue, Yo crazy got the gusto, what up, I swing that too So nincompoop give a hoot and stomp a troop without a strain Like Roscoe B. Coltrane I spiggedy-spark a spiff and give a twist like Chubby Checker I take my Froot Loops with two scoops, make it double decker Oh Vince, the baby come to Papa Duke A babaloo, ooh, a babaloo boogedy boo I went from Gucci to Stussy, to fliggedy-flam a groupie To Zsa Zsa, to yibbedy-yabba dabba hoochie koochie Tally ho I-I'll take my Stove Top instead of potatoes, so Maybe I'll shoot 'em now, nope maybe I'll shoot 'em later, yep I used to have a dog and Bingo was his name oh, so uh B - I - N - G - O-oh You do the hokey pokey and you turn yourself around, hon, so uh Dun dun dun dun dun, dun dun They want EFX, some live EFX They want EFX, some live EFX They want EFX, some live EFX Snap a neck for some live EFX</td>\n",
       "    </tr>\n",
       "    <tr>\n",
       "      <th>69</th>\n",
       "      <td>I Can't Make You Love Me</td>\n",
       "      <td>Bonnie Raitt</td>\n",
       "      <td>Turn down the lights, turn down the bed  Turn down these voices inside my head  Lay down with me, tell me no lies  Just hold me close, don't patronize - don't patronize me CHORUS: Cause I can't make you love me if you don't You can't make your heart feel something it won't Here in the dark, in these final hours I will lay down my heart and I'll feel the power But you won't, no you won't 'Cause I can't make you love me, if you don't I'll close my eyes, then I won't see The love you don't feel when you're holding me Morning will come and I'll do what's right Just give me till then to give up this fight And I will give up this fight CHORUS: Cause I can't make you love me if you don't You can't make your heart feel something it won't Here in the dark, in these final hours I will lay down my heart and I'll feel the power But you won't, no you won't 'Cause I can't make you love me, if you don't</td>\n",
       "    </tr>\n",
       "  </tbody>\n",
       "</table>\n",
       "<p>70 rows × 3 columns</p>\n",
       "</div>"
      ],
      "text/plain": [
       "                       Title            Artist  \\\n",
       "0            End of the Road       Boyz II Men   \n",
       "1              Baby Got Back     Sir Mix-a-Lot   \n",
       "2     Save the Best for Last  Vanessa Williams   \n",
       "3             Baby-Baby-Baby               TLC   \n",
       "4            Tears in Heaven      Eric Clapton   \n",
       "..                       ...               ...   \n",
       "65        Just Take My Heart           Mr. Big   \n",
       "66       I Will Remember You         Amy Grant   \n",
       "67          Let's Get Rocked       Def Leppard   \n",
       "68             They Want EFX           Das EFX   \n",
       "69  I Can't Make You Love Me      Bonnie Raitt   \n",
       "\n",
       "                                                                                                                                                                                                                                                                                                                                                                                                                                                                                                                                                                                                                                                                                                                                                                                                                                                                                                                                                                                                                                                                                                                                                                                                                                                                                                                                                                                                                                                                                                                                                                                                                                                                                                                                                                                                                                                                                                                                                                                                                                                                                                                                                                                                                                                                                                                                                                                                                                                                                                                                                                                                                                                                                                                                                                                                                                                                                                                                                                                                                                                                                                                                                                                                                                                                                                                                                                                                                                                                                                                                                                          Lyrics  \n",
       "0                                                                                                                                                                                                                                                                                                                                                                                                                                                                                                                                                                                                                                                                                                                                                                                                                                                                                                                                                                                                                                                                                                                                                                                                                                                                                                                                                                                                                                                                                                                                                                                                                                                        Girl you know we belong together  I have no time for you to be playing  With my heart like this  You'll be mine forever baby, you just see   We belong together  And you that I'm right  Why do you play with my heart,  hy do you play with my mind   Said we'd be forever  Said it'd never die  How could you love me and leave me  And never say good-bye   When I can't sleep at night without holding you tight  Girl, each time I try I just break down and cry  Pain in my head oh I'd rather be dead  Spinnin' around and around   Although we've come to the End Of The Road  Still I can't let you go  It's unnatural, you belong to me, I belong to you  Come to the End of the Road  Still I can't let you go  It's unnatural, you belong to me, I belong to you   Girl, I know you really love me,  You just don't realize  You've never been there before  It's only your first time   Maybe I'll forgive you, hmm  Maybe you'll try  We should be happy together  Forever, you and I   Can you love me again like you loved me before  This time I want you to love me much more  This time instead just come to my bed  And baby just don't let me, don't let me down    Girl I'm here for you  All those times of night when you just hurt me  And just run out with that other fella  Baby I knew about it, I just didn't care  You just don't understand how much I love you do you  I'm here for you   I'm not out to go out and cheat on you all night  Just like you did baby but that's all right  Hey, I love you anyway  And I'm still gonna be here for you 'till my dying day baby  Right now, I'm just in so much pain baby  Coz you just won't come back to me  Will you Just come back to me   (Lonely)  Yes baby my heart is lonely  (Lonely)  My heart hurts baby  (Lonely)  Yes I feel pain too  Baby please   This time instead just come to my bed  And baby just don't let me go     \n",
       "1   Oh, my, god. Becky, look at her butt.  It is so big. *scoff* She looks like,  one of those rap guys' girlfriends.  But, y'know, who understands those rap guys *scoff*  They only talk to her, because,  she looks like a total prostitute, 'kay  I mean, her butt, is just so big. *scoff*  I can't believe it's just so round, it's like,  out there, I mean - gross. Look!  She's just so ... black!  I like big butts and I can not lie You other brothers can't deny That when a girl walks in with an itty bitty waste And a round thing in your face You get sprung, wanna pull up tough 'Cause you notice that butt was stuffed Deep in the jeans she's wearing I'm hooked and I can't stop staring Oh baby, I wanna get wit'cha  And take your picture My homeboys tried to warn me But with that butt you got makes  Ooh, Rump-o'-smooth-skin You say you wanna get in my Benz Well, use me, use me  'Cause you ain't that average groupy I've seen them dancin'  The hell with romancin' She's wet, wet,  Got it goin' like a turbo 'Vette I'm tired of magazines Sayin' flat butts are the thing Take the average black man and ask him that She gotta pack much back So, fellas! (Yeah!) Fellas! (Yeah!) Has your girlfriend got the butt (Hell yeah!) Tell 'em to shake it! (Shake it!) Shake it! (Shake it!) Shake that healthy butt! Baby got back!  (LA face with Oakland booty) Baby got back!  I like 'em round, and big And when I'm throwin' a gig I just can't help myself, I'm actin' like an animal Now here's my scandal I wanna get you home And ugh, double-up, ugh, ugh I ain't talkin' bout Playboy 'Cause silicone parts are made for toys I want 'em real thick and juicy So find that juicy double Mix-a-Lot's in trouble Beggin' for a piece of that bubble So I'm lookin' at rock videos Watchin' these bimbos walkin' like hoes You can have them bimbos I'll keep my women like Flo Jo A word to the thick soul sistas, I wanna get with ya I won't cuss or hit ya But I gotta be straight when I say I wanna *fuck* Til the break of dawn Baby got it goin' on A lot of simps won't like this song 'Cause them punks like to hit it and quit it And I'd rather stay and play 'Cause I'm long, and I'm strong And I'm down to get the friction on So, ladies! {Yeah!} Ladies! {Yeah} If you wanna role in my Mercedes {Yeah!} Then turn around! Stick it out! Even white boys got to shout Baby got back!  Baby got back! Yeah, baby ... when it comes to females, Cosmo ain't got nothin'  to do with my selection. 36-24-36 Ha ha, only if she's 5'3 quot;.  So your girlfriend rolls a Honda, playin' workout tapes by Fonda But Fonda ain't got a motor in the back of her Honda My anaconda don't want none  Unless you've got buns, hon You can do side bends or sit-ups,  But please don't lose that butt Some brothers wanna play that  quot;hard quot; role  And tell you that the butt ain't go So they toss it and leave it And I pull up quick to retrieve it So Cosmo says you're fat Well I ain't down with that! 'Cause your waste is small and your curves are kickin' And I'm thinkin' bout stickin' To the beanpole dames in the magazines: You ain't it, Miss Thing! Give me a sista, I can't resist her Red beans and rice didn't miss her Some knucklehead tried to dis 'Cause his girls are on my list He had game but he chose to hit 'em And I pull up quick to get wit 'em So ladies, if the butt is round, And you want a triple X throw down, Dial 1-900-MIXALOT And kick them nasty thoughts Baby got back!   \n",
       "2                                                                                                                                                                                                                                                                                                                                                                                                                                                                                                                                                                                                                                                                                                                                                                                                                                                                                                                                                                                                                                                                                                                                                                                                                                                                                                                                                                                                                                                                                                                                                                                                                                                                                                                                                                                                                                                                                                                                                                                                                                                                                                                                                   Sometimes the snow comes down in June       Sometimes the sun goes 'round the moon       I see the passion in your eyes       Sometimes it's all a big surprise        'Cause there was a time when all I did was wish       You'd tell me this was love       It's not the way I hoped or how I planned       But somehow it's enough         And now we're standing face to face       Isn't this world a crazy place       Just when I thought our chance had passed       You go and save the best for last         All of the nights you came to me       When some silly girl had set you free       You wondered how you'd make it through       I wondered what was wrong with you         'Cause how could you give your love to someone else       And share your dreams with me       Sometimes the very thing you're looking for       Is the one thing you can't see         And now we're standing face to face       Isn't this world a crazy place       Just when I thought our chance had passed       You go and save the best for last         Sometimes the very thing you're looking for       Is the one thing you can't see         Sometimes the snow comes down in June       Sometimes the sun goes 'round the moon       Just when I thought our chance had passed       You go and save the best for last         You went and saved the best for last         Written by Waldman/Lind/Galdston  \n",
       "3                                                                                                                                                                                                                                                                                                                                                                                                                                                                                                                                                                                                                                                                                                                                                                                                                                                                                                                                                                                                                                                                                                                                                                                                                                                                                                                                                                                                                                                                                                                                                                                                                 And you want my love Well that's alright Well it will be there for you morning, noon and night But you gotta be good And do it right Ain't got no time for part-time lovin' in my life  Well you wanna be loved (uh) Hey that's O.K. Cause it falls in line right with my sexuality But you gotta be down A nickel gotta be true Cause otherwise this \"B\" ain't got no time for you  Oh baby, baby, baby I got so much love in me Ooh (baby, baby,) baby, baby, baby Cause if your're gonna get me off You got to love me deep  Well you want my heart (uh) And all my time Well it won't be there if you can't deal with my mind Cause a girl like me (uh) Won't stand for less I require plenty conversation with my sex  Long as you know that I could have any man I want to Baby that's actual and factual But still I choose you to be with me And work on me so you better not flake it up  Ohhhhhh   Baby, baby, baby Ain't got no time for the part-time lovin' I got so much love in me I gotta be loved And that's O.K.  Baby, baby, baby Cause if you're gonna get me off  You got to love me deep (Get me off)  Baby Long as you know that I could have any man I want to Baby that's actual and factual But still I choose you to be with me And work on me so you better not flake it up  Well you want my heart And all my time  Well it won't be there if you can't deal with my mind Cause a girl like me I won't stand for less I require plenty conversation with my sex   I can have any man that I want to  Time and place that I choose to But I think you know that I'd rather be here with you  Yeah That's actual and factual You're the one I seem to run back to  Just to get me off You got to love me, got to love me, got to love me   Baby, baby, baby I want to  Time and place that I choose to  But I think you know that I'd rather be here with you (yeah) That's actual and facutal You're the one I seem to run back to  \n",
       "4                                                                                                                                                                                                                                                                                                                                                                                                                                                                                                                                                                                                                                                                                                                                                                                                                                                                                                                                                                                                                                                                                                                                                                                                                                                                                                                                                                                                                                                                                                                                                                                                                                                                                                                                                                                                                                                                                                                                                                                                                                                                                                                                                                                                                                                                                                                                                                                                                                                                                                                                                                                                                                                                                                                                                                                                                        Would you know my name If I saw you in heaven Would it be the same If I saw you in heaven  I must be strong And carry on, 'Cause I know I don't belong Here in heaven.  Would you hold my hand If I saw you in heaven Would you help me stand If I saw you in heaven  I'll find my way Through night and day, 'Cause I know I just can't stay Here in heaven.  Time can bring you down, Time can bend your knees. Time can break your heart, Have you begging please, begging please.  Beyond the door, There's peace I'm sure, And I know there'll be no more Tears in heaven.  Would you know my name If I saw you in heaven Would it be the same If I saw you in heaven  I must be strong And carry on, 'Cause I know I don't belong Here in heaven.  \n",
       "..                                                                                                                                                                                                                                                                                                                                                                                                                                                                                                                                                                                                                                                                                                                                                                                                                                                                                                                                                                                                                                                                                                                                                                                                                                                                                                                                                                                                                                                                                                                                                                                                                                                                                                                                                                                                                                                                                                                                                                                                                                                                                                                                                                                                                                                                                                                                                                                                                                                                                                                                                                                                                                                                                                                                                                                                                                                                                                                                                                                                                                                                                                                                                                                                                                                                                                                                                                                                                                                                                                                                                                           ...  \n",
       "65                                                                                                                                                                                                                                                                                                                                                                                                                                                                                                                                                                                                                                                                                                                                                                                                                                                                                                                                                                                                                                                                                                                                                                                                                                                                                                                                                                                                                                                                                                                                                                                                                                                                                                                                                                                                                                                                                                                                                                                                                                                                                                                                                                                                                                                                                                                                                                                                                                                                                                                                                                                                                                           Written on piano, performed on guitar. Boom.  It's late at night and neither one of us is sleeping I can't imagine living my life after you're gone Wondering why so many questions have no answers I keep on searching for the reason why we went wrong Where is our yesterday You and I could use it right now But if this is goodbye Just take my heart when you go I don't have the need for it anymore I'll always love you, but you're hard to hold Just take my heart when you go Here we are about to take the final step now I just can't fool myself, I know there's no turing back Face to face it's been endless conversation But when the love is gone you're left with nothing but talk I'd give my everything If only I could turn you around But if this is goodbye Just take my heart when you go I don't have the need for it anymore I'll always love you but you're hard to hold Just take my heart when you go  \n",
       "66                                                                                                                                                                                                                                                                                                                                                                                                                                                                                                                                                                                                                                                                                                                                                                                                                                                                                                                                                                                                                                                                                                                                                                                                                                                                                                                                                                                                                                                                                                                                                                                                                                                                                                                                                                                                                                                                                                                                                                                                                                                                                                                                                                                                                                                                                                                                                                                                                                                                                                                                                                                                                                                                            I will be walking one day Down a street far away And see a face in the crowd and smile Knowing how you made me laugh Hearing sweet echoes of you from the past I will remember you.  Look in my eyes while you're near Tell me what's happening here See that I don't want to say good-bye Our love is frozen in time I'll be your champion and you'll be mine I will remember I will remember you.  Later on When this fire is an ember Later on When the night's not so tender Given time Though it's hard to remember darlin' I will be holding I'll still be holding to you I will remember you.  So many years come and gone And yet the memory is strong One word we never could learn Good-bye True love is frozen in time I'll be your champion and you'll be mine I will remember you So please remember I will remember you I will remember you I will remember you I will remember you.  \n",
       "67                                                                                                                                                                                                                                                                                                                                                                                                                                                                                                                                                                                                                                                                                                                                                                                                                                                                                                                                                                                                                                                                                                                                                                                                         Do ya wanna get rocked   Let's get, let's get, let's get, let's get  Rocked......   I'm your average, ordinary, everyday kid,  Happy to do nothin'  In fact that's what I did.  Got a million ways to make my day, but daddy don't agree  'Cos when I try to get away he says  He get plans for me   Get your butt right out of bed - Stop buggin' me  Get up and move your sleepy head - Don't shake my tree.   He said  Mow the lawn - Who, me  Walk the dog - Not my style, man!  Take out the trash - No way!  Tidy your room - C'mon get real!  Sorry dad, gotta disappear,  Let's get the rock outta here.   Seven-day weekend,  Up all night,  In at the deep end,  Hang on tight  Won't take a minute,  Won't take long,  So get on in it,  Come on, come on, come on   Let's get, let's get, let's get, let's get rocked  Let's get, let's get, let's get, let's get rocked  Let's go all the way, get it night'n'day  C'mon let's get, let's get, let's get, let's get rocked.   I'm your average, ordinary, everyday dude  Drivin' with my baby, To get her in the mood  She's dialin'through my radio and I'm ready to make my move,  But what she got ain't rock'n'roll and it really blew my groove   It was - Chopin, Mozart, Beethoven  It makes me wanna scream - Bach, Tchaikovsky, violins  Turn it off! - That ain't my scene  Well I'm sorry girl, here's my confession  I suppose a rock's out of the question    Oh, all I wanna do is take a ride into the blue  Ev'ry time I want to love you I get stuck inside my room  Heaven knows I'm sick'n'tired of dancin' with this broom  I feel lucky today  Hey, look at that man!  Do ya wanna get rocked  Do ya wanna get rocked   It won't take you a minute,  It won't take that long,  So get on, get with it,  Oh, c'mon  Everybody!   Let's get, let's get, let's get, let's get rocked  Get on top, baby  Let's get, let's get, let's get, let's get rocked  Do ya wanna  Do ya wanna  Let's get, let's get, let's get, let's get rocked  Get on top of it  Let's get, let's get, let's get, let's get rocked  Love to rock your body, baby  Let's get, let's get, let's get, let's get rocked  Let's go all the way,  Let's do it night and day,  Let's get out and play,  Rock the night away  C'mon  Let's get, let's get, let's get, let's get (rocked)  Oh,  Do ya wanna get rocked  \n",
       "68                                                                                                                                                                            Bum stiggedy bum stiggedy bum, hon, I got the old pa-rum-pum-pum-pum But I can fe-fi-fo-fum, diddly-bum, here I come So Peter Piper, I'm hyper than Pinochio's nose I'm the supercalafragilistic tic-tac pro I gave my oopsy, daisy, now you've got the crazy Crazy with the books, Googley-goo where's the gravy So one two, unbuckle my, um shoe Yabba Doo, hippity-hoo, crack a brew So trick or treat, smell my feet, yup I drippedy-dropped a hit So books get on your mark and spark that old censorship Drats and double drats, I smiggedy-smacked some whiz kids The boogedy-woogedly Brooklyn boy's about to get his, dig My waist bone's connected to my hip bone My hip bone's connected to my thigh bone My thigh bone's connected to my knee bone My knee bone's connected to my hardy-har-har-har The jibbedy-jabber jaw ja-jabbing at your funny bone, um Skip the ovaltine, I'd rather have a honeycomb Or preferably the sesame, Let's spiggedy-spark the blunts, um Dun dun dun dun dun, dun dun They want EFX, some live EFX They want EFX, some live EFX They want EFX, some live EFX Snap a neck for some live EFX Well I'll be darned, shiver me timbers, yo head for the hills I picked a weeping willow, and a daffodil So back up bucko or I'll pulverize McGruff 'Cause this little piggy gets busy and stuff Arrivederci, heavens to mercy, honky tonk I get swift I caught a snuffleufagus and smoked a boogaloo spliff I got the nooks, the cranies, the nitty gritty fodey-doe All aboard, cast away, hey where's my boogaloo? Oh I'm steaming, agony Why's everybody always picking on me They call me Puddin' Tane, and rap's my game You ask me again and I'll t-tell you the same 'Cause I'm the vulgar vegemintarian, so stick 'em up freeze So no Park sausages, Mom, please A-blitz shoots the breeze, twiddly-dee shoots his lip Crazy dazy shot the Sheriff, yup and I shot the gift And that's pretty sneaky, sis oh yep I got my socks off, my rocks off, my Nestle's cup of cocoa Holly hobby tried to slob me, tried to rob me silly stunt Diggedy-dun dun dun dun dun, dun dun They want EFX, some live EFX They want EFX, some live EFX They want EFX, some live EFX Snap a neck for some live EFX Yahoo, hidee-ho yup I'm coming around the stretch So here Fido boy, fetch, boy, fetch I got the rope-a-dope a slippery choker, look at me get raw And I'm the hickory-dickory top of morning boogoloo big jaw With the yippedy zippedy Winnie the Pooh bad boy blue, Yo crazy got the gusto, what up, I swing that too So nincompoop give a hoot and stomp a troop without a strain Like Roscoe B. Coltrane I spiggedy-spark a spiff and give a twist like Chubby Checker I take my Froot Loops with two scoops, make it double decker Oh Vince, the baby come to Papa Duke A babaloo, ooh, a babaloo boogedy boo I went from Gucci to Stussy, to fliggedy-flam a groupie To Zsa Zsa, to yibbedy-yabba dabba hoochie koochie Tally ho I-I'll take my Stove Top instead of potatoes, so Maybe I'll shoot 'em now, nope maybe I'll shoot 'em later, yep I used to have a dog and Bingo was his name oh, so uh B - I - N - G - O-oh You do the hokey pokey and you turn yourself around, hon, so uh Dun dun dun dun dun, dun dun They want EFX, some live EFX They want EFX, some live EFX They want EFX, some live EFX Snap a neck for some live EFX  \n",
       "69                                                                                                                                                                                                                                                                                                                                                                                                                                                                                                                                                                                                                                                                                                                                                                                                                                                                                                                                                                                                                                                                                                                                                                                                                                                                                                                                                                                                                                                                                                                                                                                                                                                                                                                                                                                                                                                                                                                                                                                                                                                                                                                                                                                                                                                                                                                                                                                                                                                                                                                                                                                                                                         Turn down the lights, turn down the bed  Turn down these voices inside my head  Lay down with me, tell me no lies  Just hold me close, don't patronize - don't patronize me CHORUS: Cause I can't make you love me if you don't You can't make your heart feel something it won't Here in the dark, in these final hours I will lay down my heart and I'll feel the power But you won't, no you won't 'Cause I can't make you love me, if you don't I'll close my eyes, then I won't see The love you don't feel when you're holding me Morning will come and I'll do what's right Just give me till then to give up this fight And I will give up this fight CHORUS: Cause I can't make you love me if you don't You can't make your heart feel something it won't Here in the dark, in these final hours I will lay down my heart and I'll feel the power But you won't, no you won't 'Cause I can't make you love me, if you don't  \n",
       "\n",
       "[70 rows x 3 columns]"
      ]
     },
     "execution_count": 6,
     "metadata": {},
     "output_type": "execute_result"
    }
   ],
   "source": [
    "df = df.dropna().reset_index(drop=True)\n",
    "df"
   ]
  },
  {
   "cell_type": "code",
   "execution_count": null,
   "id": "649de15e",
   "metadata": {},
   "outputs": [],
   "source": []
  },
  {
   "cell_type": "code",
   "execution_count": 7,
   "id": "750d8e28",
   "metadata": {},
   "outputs": [
    {
     "data": {
      "text/html": [
       "<div>\n",
       "<style scoped>\n",
       "    .dataframe tbody tr th:only-of-type {\n",
       "        vertical-align: middle;\n",
       "    }\n",
       "\n",
       "    .dataframe tbody tr th {\n",
       "        vertical-align: top;\n",
       "    }\n",
       "\n",
       "    .dataframe thead th {\n",
       "        text-align: right;\n",
       "    }\n",
       "</style>\n",
       "<table border=\"1\" class=\"dataframe\">\n",
       "  <thead>\n",
       "    <tr style=\"text-align: right;\">\n",
       "      <th></th>\n",
       "      <th>Lyrics</th>\n",
       "    </tr>\n",
       "  </thead>\n",
       "  <tbody>\n",
       "    <tr>\n",
       "      <th>0</th>\n",
       "      <td>Girl you know we belong together  I have no time for you to be playing  With my heart like this  You'll be mine forever baby, you just see   We belong together  And you that I'm right  Why do you play with my heart,  hy do you play with my mind   Said we'd be forever  Said it'd never die  How could you love me and leave me  And never say good-bye   When I can't sleep at night without holding you tight  Girl, each time I try I just break down and cry  Pain in my head oh I'd rather be dead  Spinnin' around and around   Although we've come to the End Of The Road  Still I can't let you go  It's unnatural, you belong to me, I belong to you  Come to the End of the Road  Still I can't let you go  It's unnatural, you belong to me, I belong to you   Girl, I know you really love me,  You just don't realize  You've never been there before  It's only your first time   Maybe I'll forgive you, hmm  Maybe you'll try  We should be happy together  Forever, you and I   Can you love me again like you loved me before  This time I want you to love me much more  This time instead just come to my bed  And baby just don't let me, don't let me down    Girl I'm here for you  All those times of night when you just hurt me  And just run out with that other fella  Baby I knew about it, I just didn't care  You just don't understand how much I love you do you  I'm here for you   I'm not out to go out and cheat on you all night  Just like you did baby but that's all right  Hey, I love you anyway  And I'm still gonna be here for you 'till my dying day baby  Right now, I'm just in so much pain baby  Coz you just won't come back to me  Will you Just come back to me   (Lonely)  Yes baby my heart is lonely  (Lonely)  My heart hurts baby  (Lonely)  Yes I feel pain too  Baby please   This time instead just come to my bed  And baby just don't let me go</td>\n",
       "    </tr>\n",
       "    <tr>\n",
       "      <th>1</th>\n",
       "      <td>Oh, my, god. Becky, look at her butt.  It is so big. *scoff* She looks like,  one of those rap guys' girlfriends.  But, y'know, who understands those rap guys *scoff*  They only talk to her, because,  she looks like a total prostitute, 'kay  I mean, her butt, is just so big. *scoff*  I can't believe it's just so round, it's like,  out there, I mean - gross. Look!  She's just so ... black!  I like big butts and I can not lie You other brothers can't deny That when a girl walks in with an itty bitty waste And a round thing in your face You get sprung, wanna pull up tough 'Cause you notice that butt was stuffed Deep in the jeans she's wearing I'm hooked and I can't stop staring Oh baby, I wanna get wit'cha  And take your picture My homeboys tried to warn me But with that butt you got makes  Ooh, Rump-o'-smooth-skin You say you wanna get in my Benz Well, use me, use me  'Cause you ain't that average groupy I've seen them dancin'  The hell with romancin' She's wet, wet,  Got it goin' like a turbo 'Vette I'm tired of magazines Sayin' flat butts are the thing Take the average black man and ask him that She gotta pack much back So, fellas! (Yeah!) Fellas! (Yeah!) Has your girlfriend got the butt (Hell yeah!) Tell 'em to shake it! (Shake it!) Shake it! (Shake it!) Shake that healthy butt! Baby got back!  (LA face with Oakland booty) Baby got back!  I like 'em round, and big And when I'm throwin' a gig I just can't help myself, I'm actin' like an animal Now here's my scandal I wanna get you home And ugh, double-up, ugh, ugh I ain't talkin' bout Playboy 'Cause silicone parts are made for toys I want 'em real thick and juicy So find that juicy double Mix-a-Lot's in trouble Beggin' for a piece of that bubble So I'm lookin' at rock videos Watchin' these bimbos walkin' like hoes You can have them bimbos I'll keep my women like Flo Jo A word to the thick soul sistas, I wanna get with ya I won't cuss or hit ya But I gotta be straight when I say I wanna *fuck* Til the break of dawn Baby got it goin' on A lot of simps won't like this song 'Cause them punks like to hit it and quit it And I'd rather stay and play 'Cause I'm long, and I'm strong And I'm down to get the friction on So, ladies! {Yeah!} Ladies! {Yeah} If you wanna role in my Mercedes {Yeah!} Then turn around! Stick it out! Even white boys got to shout Baby got back!  Baby got back! Yeah, baby ... when it comes to females, Cosmo ain't got nothin'  to do with my selection. 36-24-36 Ha ha, only if she's 5'3 quot;.  So your girlfriend rolls a Honda, playin' workout tapes by Fonda But Fonda ain't got a motor in the back of her Honda My anaconda don't want none  Unless you've got buns, hon You can do side bends or sit-ups,  But please don't lose that butt Some brothers wanna play that  quot;hard quot; role  And tell you that the butt ain't go So they toss it and leave it And I pull up quick to retrieve it So Cosmo says you're fat Well I ain't down with that! 'Cause your waste is small and your curves are kickin' And I'm thinkin' bout stickin' To the beanpole dames in the magazines: You ain't it, Miss Thing! Give me a sista, I can't resist her Red beans and rice didn't miss her Some knucklehead tried to dis 'Cause his girls are on my list He had game but he chose to hit 'em And I pull up quick to get wit 'em So ladies, if the butt is round, And you want a triple X throw down, Dial 1-900-MIXALOT And kick them nasty thoughts Baby got back!</td>\n",
       "    </tr>\n",
       "    <tr>\n",
       "      <th>2</th>\n",
       "      <td>Sometimes the snow comes down in June       Sometimes the sun goes 'round the moon       I see the passion in your eyes       Sometimes it's all a big surprise        'Cause there was a time when all I did was wish       You'd tell me this was love       It's not the way I hoped or how I planned       But somehow it's enough         And now we're standing face to face       Isn't this world a crazy place       Just when I thought our chance had passed       You go and save the best for last         All of the nights you came to me       When some silly girl had set you free       You wondered how you'd make it through       I wondered what was wrong with you         'Cause how could you give your love to someone else       And share your dreams with me       Sometimes the very thing you're looking for       Is the one thing you can't see         And now we're standing face to face       Isn't this world a crazy place       Just when I thought our chance had passed       You go and save the best for last         Sometimes the very thing you're looking for       Is the one thing you can't see         Sometimes the snow comes down in June       Sometimes the sun goes 'round the moon       Just when I thought our chance had passed       You go and save the best for last         You went and saved the best for last         Written by Waldman/Lind/Galdston</td>\n",
       "    </tr>\n",
       "    <tr>\n",
       "      <th>3</th>\n",
       "      <td>And you want my love Well that's alright Well it will be there for you morning, noon and night But you gotta be good And do it right Ain't got no time for part-time lovin' in my life  Well you wanna be loved (uh) Hey that's O.K. Cause it falls in line right with my sexuality But you gotta be down A nickel gotta be true Cause otherwise this \"B\" ain't got no time for you  Oh baby, baby, baby I got so much love in me Ooh (baby, baby,) baby, baby, baby Cause if your're gonna get me off You got to love me deep  Well you want my heart (uh) And all my time Well it won't be there if you can't deal with my mind Cause a girl like me (uh) Won't stand for less I require plenty conversation with my sex  Long as you know that I could have any man I want to Baby that's actual and factual But still I choose you to be with me And work on me so you better not flake it up  Ohhhhhh   Baby, baby, baby Ain't got no time for the part-time lovin' I got so much love in me I gotta be loved And that's O.K.  Baby, baby, baby Cause if you're gonna get me off  You got to love me deep (Get me off)  Baby Long as you know that I could have any man I want to Baby that's actual and factual But still I choose you to be with me And work on me so you better not flake it up  Well you want my heart And all my time  Well it won't be there if you can't deal with my mind Cause a girl like me I won't stand for less I require plenty conversation with my sex   I can have any man that I want to  Time and place that I choose to But I think you know that I'd rather be here with you  Yeah That's actual and factual You're the one I seem to run back to  Just to get me off You got to love me, got to love me, got to love me   Baby, baby, baby I want to  Time and place that I choose to  But I think you know that I'd rather be here with you (yeah) That's actual and facutal You're the one I seem to run back to</td>\n",
       "    </tr>\n",
       "    <tr>\n",
       "      <th>4</th>\n",
       "      <td>Would you know my name If I saw you in heaven Would it be the same If I saw you in heaven  I must be strong And carry on, 'Cause I know I don't belong Here in heaven.  Would you hold my hand If I saw you in heaven Would you help me stand If I saw you in heaven  I'll find my way Through night and day, 'Cause I know I just can't stay Here in heaven.  Time can bring you down, Time can bend your knees. Time can break your heart, Have you begging please, begging please.  Beyond the door, There's peace I'm sure, And I know there'll be no more Tears in heaven.  Would you know my name If I saw you in heaven Would it be the same If I saw you in heaven  I must be strong And carry on, 'Cause I know I don't belong Here in heaven.</td>\n",
       "    </tr>\n",
       "    <tr>\n",
       "      <th>...</th>\n",
       "      <td>...</td>\n",
       "    </tr>\n",
       "    <tr>\n",
       "      <th>65</th>\n",
       "      <td>Written on piano, performed on guitar. Boom.  It's late at night and neither one of us is sleeping I can't imagine living my life after you're gone Wondering why so many questions have no answers I keep on searching for the reason why we went wrong Where is our yesterday You and I could use it right now But if this is goodbye Just take my heart when you go I don't have the need for it anymore I'll always love you, but you're hard to hold Just take my heart when you go Here we are about to take the final step now I just can't fool myself, I know there's no turing back Face to face it's been endless conversation But when the love is gone you're left with nothing but talk I'd give my everything If only I could turn you around But if this is goodbye Just take my heart when you go I don't have the need for it anymore I'll always love you but you're hard to hold Just take my heart when you go</td>\n",
       "    </tr>\n",
       "    <tr>\n",
       "      <th>66</th>\n",
       "      <td>I will be walking one day Down a street far away And see a face in the crowd and smile Knowing how you made me laugh Hearing sweet echoes of you from the past I will remember you.  Look in my eyes while you're near Tell me what's happening here See that I don't want to say good-bye Our love is frozen in time I'll be your champion and you'll be mine I will remember I will remember you.  Later on When this fire is an ember Later on When the night's not so tender Given time Though it's hard to remember darlin' I will be holding I'll still be holding to you I will remember you.  So many years come and gone And yet the memory is strong One word we never could learn Good-bye True love is frozen in time I'll be your champion and you'll be mine I will remember you So please remember I will remember you I will remember you I will remember you I will remember you.</td>\n",
       "    </tr>\n",
       "    <tr>\n",
       "      <th>67</th>\n",
       "      <td>Do ya wanna get rocked   Let's get, let's get, let's get, let's get  Rocked......   I'm your average, ordinary, everyday kid,  Happy to do nothin'  In fact that's what I did.  Got a million ways to make my day, but daddy don't agree  'Cos when I try to get away he says  He get plans for me   Get your butt right out of bed - Stop buggin' me  Get up and move your sleepy head - Don't shake my tree.   He said  Mow the lawn - Who, me  Walk the dog - Not my style, man!  Take out the trash - No way!  Tidy your room - C'mon get real!  Sorry dad, gotta disappear,  Let's get the rock outta here.   Seven-day weekend,  Up all night,  In at the deep end,  Hang on tight  Won't take a minute,  Won't take long,  So get on in it,  Come on, come on, come on   Let's get, let's get, let's get, let's get rocked  Let's get, let's get, let's get, let's get rocked  Let's go all the way, get it night'n'day  C'mon let's get, let's get, let's get, let's get rocked.   I'm your average, ordinary, everyday dude  Drivin' with my baby, To get her in the mood  She's dialin'through my radio and I'm ready to make my move,  But what she got ain't rock'n'roll and it really blew my groove   It was - Chopin, Mozart, Beethoven  It makes me wanna scream - Bach, Tchaikovsky, violins  Turn it off! - That ain't my scene  Well I'm sorry girl, here's my confession  I suppose a rock's out of the question    Oh, all I wanna do is take a ride into the blue  Ev'ry time I want to love you I get stuck inside my room  Heaven knows I'm sick'n'tired of dancin' with this broom  I feel lucky today  Hey, look at that man!  Do ya wanna get rocked  Do ya wanna get rocked   It won't take you a minute,  It won't take that long,  So get on, get with it,  Oh, c'mon  Everybody!   Let's get, let's get, let's get, let's get rocked  Get on top, baby  Let's get, let's get, let's get, let's get rocked  Do ya wanna  Do ya wanna  Let's get, let's get, let's get, let's get rocked  Get on top of it  Let's get, let's get, let's get, let's get rocked  Love to rock your body, baby  Let's get, let's get, let's get, let's get rocked  Let's go all the way,  Let's do it night and day,  Let's get out and play,  Rock the night away  C'mon  Let's get, let's get, let's get, let's get (rocked)  Oh,  Do ya wanna get rocked</td>\n",
       "    </tr>\n",
       "    <tr>\n",
       "      <th>68</th>\n",
       "      <td>Bum stiggedy bum stiggedy bum, hon, I got the old pa-rum-pum-pum-pum But I can fe-fi-fo-fum, diddly-bum, here I come So Peter Piper, I'm hyper than Pinochio's nose I'm the supercalafragilistic tic-tac pro I gave my oopsy, daisy, now you've got the crazy Crazy with the books, Googley-goo where's the gravy So one two, unbuckle my, um shoe Yabba Doo, hippity-hoo, crack a brew So trick or treat, smell my feet, yup I drippedy-dropped a hit So books get on your mark and spark that old censorship Drats and double drats, I smiggedy-smacked some whiz kids The boogedy-woogedly Brooklyn boy's about to get his, dig My waist bone's connected to my hip bone My hip bone's connected to my thigh bone My thigh bone's connected to my knee bone My knee bone's connected to my hardy-har-har-har The jibbedy-jabber jaw ja-jabbing at your funny bone, um Skip the ovaltine, I'd rather have a honeycomb Or preferably the sesame, Let's spiggedy-spark the blunts, um Dun dun dun dun dun, dun dun They want EFX, some live EFX They want EFX, some live EFX They want EFX, some live EFX Snap a neck for some live EFX Well I'll be darned, shiver me timbers, yo head for the hills I picked a weeping willow, and a daffodil So back up bucko or I'll pulverize McGruff 'Cause this little piggy gets busy and stuff Arrivederci, heavens to mercy, honky tonk I get swift I caught a snuffleufagus and smoked a boogaloo spliff I got the nooks, the cranies, the nitty gritty fodey-doe All aboard, cast away, hey where's my boogaloo? Oh I'm steaming, agony Why's everybody always picking on me They call me Puddin' Tane, and rap's my game You ask me again and I'll t-tell you the same 'Cause I'm the vulgar vegemintarian, so stick 'em up freeze So no Park sausages, Mom, please A-blitz shoots the breeze, twiddly-dee shoots his lip Crazy dazy shot the Sheriff, yup and I shot the gift And that's pretty sneaky, sis oh yep I got my socks off, my rocks off, my Nestle's cup of cocoa Holly hobby tried to slob me, tried to rob me silly stunt Diggedy-dun dun dun dun dun, dun dun They want EFX, some live EFX They want EFX, some live EFX They want EFX, some live EFX Snap a neck for some live EFX Yahoo, hidee-ho yup I'm coming around the stretch So here Fido boy, fetch, boy, fetch I got the rope-a-dope a slippery choker, look at me get raw And I'm the hickory-dickory top of morning boogoloo big jaw With the yippedy zippedy Winnie the Pooh bad boy blue, Yo crazy got the gusto, what up, I swing that too So nincompoop give a hoot and stomp a troop without a strain Like Roscoe B. Coltrane I spiggedy-spark a spiff and give a twist like Chubby Checker I take my Froot Loops with two scoops, make it double decker Oh Vince, the baby come to Papa Duke A babaloo, ooh, a babaloo boogedy boo I went from Gucci to Stussy, to fliggedy-flam a groupie To Zsa Zsa, to yibbedy-yabba dabba hoochie koochie Tally ho I-I'll take my Stove Top instead of potatoes, so Maybe I'll shoot 'em now, nope maybe I'll shoot 'em later, yep I used to have a dog and Bingo was his name oh, so uh B - I - N - G - O-oh You do the hokey pokey and you turn yourself around, hon, so uh Dun dun dun dun dun, dun dun They want EFX, some live EFX They want EFX, some live EFX They want EFX, some live EFX Snap a neck for some live EFX</td>\n",
       "    </tr>\n",
       "    <tr>\n",
       "      <th>69</th>\n",
       "      <td>Turn down the lights, turn down the bed  Turn down these voices inside my head  Lay down with me, tell me no lies  Just hold me close, don't patronize - don't patronize me CHORUS: Cause I can't make you love me if you don't You can't make your heart feel something it won't Here in the dark, in these final hours I will lay down my heart and I'll feel the power But you won't, no you won't 'Cause I can't make you love me, if you don't I'll close my eyes, then I won't see The love you don't feel when you're holding me Morning will come and I'll do what's right Just give me till then to give up this fight And I will give up this fight CHORUS: Cause I can't make you love me if you don't You can't make your heart feel something it won't Here in the dark, in these final hours I will lay down my heart and I'll feel the power But you won't, no you won't 'Cause I can't make you love me, if you don't</td>\n",
       "    </tr>\n",
       "  </tbody>\n",
       "</table>\n",
       "<p>70 rows × 1 columns</p>\n",
       "</div>"
      ],
      "text/plain": [
       "                                                                                                                                                                                                                                                                                                                                                                                                                                                                                                                                                                                                                                                                                                                                                                                                                                                                                                                                                                                                                                                                                                                                                                                                                                                                                                                                                                                                                                                                                                                                                                                                                                                                                                                                                                                                                                                                                                                                                                                                                                                                                                                                                                                                                                                                                                                                                                                                                                                                                                                                                                                                                                                                                                                                                                                                                                                                                                                                                                                                                                                                                                                                                                                                                                                                                                                                                                                                                                                                                                                                                                          Lyrics\n",
       "0                                                                                                                                                                                                                                                                                                                                                                                                                                                                                                                                                                                                                                                                                                                                                                                                                                                                                                                                                                                                                                                                                                                                                                                                                                                                                                                                                                                                                                                                                                                                                                                                                                                        Girl you know we belong together  I have no time for you to be playing  With my heart like this  You'll be mine forever baby, you just see   We belong together  And you that I'm right  Why do you play with my heart,  hy do you play with my mind   Said we'd be forever  Said it'd never die  How could you love me and leave me  And never say good-bye   When I can't sleep at night without holding you tight  Girl, each time I try I just break down and cry  Pain in my head oh I'd rather be dead  Spinnin' around and around   Although we've come to the End Of The Road  Still I can't let you go  It's unnatural, you belong to me, I belong to you  Come to the End of the Road  Still I can't let you go  It's unnatural, you belong to me, I belong to you   Girl, I know you really love me,  You just don't realize  You've never been there before  It's only your first time   Maybe I'll forgive you, hmm  Maybe you'll try  We should be happy together  Forever, you and I   Can you love me again like you loved me before  This time I want you to love me much more  This time instead just come to my bed  And baby just don't let me, don't let me down    Girl I'm here for you  All those times of night when you just hurt me  And just run out with that other fella  Baby I knew about it, I just didn't care  You just don't understand how much I love you do you  I'm here for you   I'm not out to go out and cheat on you all night  Just like you did baby but that's all right  Hey, I love you anyway  And I'm still gonna be here for you 'till my dying day baby  Right now, I'm just in so much pain baby  Coz you just won't come back to me  Will you Just come back to me   (Lonely)  Yes baby my heart is lonely  (Lonely)  My heart hurts baby  (Lonely)  Yes I feel pain too  Baby please   This time instead just come to my bed  And baby just don't let me go   \n",
       "1   Oh, my, god. Becky, look at her butt.  It is so big. *scoff* She looks like,  one of those rap guys' girlfriends.  But, y'know, who understands those rap guys *scoff*  They only talk to her, because,  she looks like a total prostitute, 'kay  I mean, her butt, is just so big. *scoff*  I can't believe it's just so round, it's like,  out there, I mean - gross. Look!  She's just so ... black!  I like big butts and I can not lie You other brothers can't deny That when a girl walks in with an itty bitty waste And a round thing in your face You get sprung, wanna pull up tough 'Cause you notice that butt was stuffed Deep in the jeans she's wearing I'm hooked and I can't stop staring Oh baby, I wanna get wit'cha  And take your picture My homeboys tried to warn me But with that butt you got makes  Ooh, Rump-o'-smooth-skin You say you wanna get in my Benz Well, use me, use me  'Cause you ain't that average groupy I've seen them dancin'  The hell with romancin' She's wet, wet,  Got it goin' like a turbo 'Vette I'm tired of magazines Sayin' flat butts are the thing Take the average black man and ask him that She gotta pack much back So, fellas! (Yeah!) Fellas! (Yeah!) Has your girlfriend got the butt (Hell yeah!) Tell 'em to shake it! (Shake it!) Shake it! (Shake it!) Shake that healthy butt! Baby got back!  (LA face with Oakland booty) Baby got back!  I like 'em round, and big And when I'm throwin' a gig I just can't help myself, I'm actin' like an animal Now here's my scandal I wanna get you home And ugh, double-up, ugh, ugh I ain't talkin' bout Playboy 'Cause silicone parts are made for toys I want 'em real thick and juicy So find that juicy double Mix-a-Lot's in trouble Beggin' for a piece of that bubble So I'm lookin' at rock videos Watchin' these bimbos walkin' like hoes You can have them bimbos I'll keep my women like Flo Jo A word to the thick soul sistas, I wanna get with ya I won't cuss or hit ya But I gotta be straight when I say I wanna *fuck* Til the break of dawn Baby got it goin' on A lot of simps won't like this song 'Cause them punks like to hit it and quit it And I'd rather stay and play 'Cause I'm long, and I'm strong And I'm down to get the friction on So, ladies! {Yeah!} Ladies! {Yeah} If you wanna role in my Mercedes {Yeah!} Then turn around! Stick it out! Even white boys got to shout Baby got back!  Baby got back! Yeah, baby ... when it comes to females, Cosmo ain't got nothin'  to do with my selection. 36-24-36 Ha ha, only if she's 5'3 quot;.  So your girlfriend rolls a Honda, playin' workout tapes by Fonda But Fonda ain't got a motor in the back of her Honda My anaconda don't want none  Unless you've got buns, hon You can do side bends or sit-ups,  But please don't lose that butt Some brothers wanna play that  quot;hard quot; role  And tell you that the butt ain't go So they toss it and leave it And I pull up quick to retrieve it So Cosmo says you're fat Well I ain't down with that! 'Cause your waste is small and your curves are kickin' And I'm thinkin' bout stickin' To the beanpole dames in the magazines: You ain't it, Miss Thing! Give me a sista, I can't resist her Red beans and rice didn't miss her Some knucklehead tried to dis 'Cause his girls are on my list He had game but he chose to hit 'em And I pull up quick to get wit 'em So ladies, if the butt is round, And you want a triple X throw down, Dial 1-900-MIXALOT And kick them nasty thoughts Baby got back! \n",
       "2                                                                                                                                                                                                                                                                                                                                                                                                                                                                                                                                                                                                                                                                                                                                                                                                                                                                                                                                                                                                                                                                                                                                                                                                                                                                                                                                                                                                                                                                                                                                                                                                                                                                                                                                                                                                                                                                                                                                                                                                                                                                                                                                                   Sometimes the snow comes down in June       Sometimes the sun goes 'round the moon       I see the passion in your eyes       Sometimes it's all a big surprise        'Cause there was a time when all I did was wish       You'd tell me this was love       It's not the way I hoped or how I planned       But somehow it's enough         And now we're standing face to face       Isn't this world a crazy place       Just when I thought our chance had passed       You go and save the best for last         All of the nights you came to me       When some silly girl had set you free       You wondered how you'd make it through       I wondered what was wrong with you         'Cause how could you give your love to someone else       And share your dreams with me       Sometimes the very thing you're looking for       Is the one thing you can't see         And now we're standing face to face       Isn't this world a crazy place       Just when I thought our chance had passed       You go and save the best for last         Sometimes the very thing you're looking for       Is the one thing you can't see         Sometimes the snow comes down in June       Sometimes the sun goes 'round the moon       Just when I thought our chance had passed       You go and save the best for last         You went and saved the best for last         Written by Waldman/Lind/Galdston\n",
       "3                                                                                                                                                                                                                                                                                                                                                                                                                                                                                                                                                                                                                                                                                                                                                                                                                                                                                                                                                                                                                                                                                                                                                                                                                                                                                                                                                                                                                                                                                                                                                                                                                 And you want my love Well that's alright Well it will be there for you morning, noon and night But you gotta be good And do it right Ain't got no time for part-time lovin' in my life  Well you wanna be loved (uh) Hey that's O.K. Cause it falls in line right with my sexuality But you gotta be down A nickel gotta be true Cause otherwise this \"B\" ain't got no time for you  Oh baby, baby, baby I got so much love in me Ooh (baby, baby,) baby, baby, baby Cause if your're gonna get me off You got to love me deep  Well you want my heart (uh) And all my time Well it won't be there if you can't deal with my mind Cause a girl like me (uh) Won't stand for less I require plenty conversation with my sex  Long as you know that I could have any man I want to Baby that's actual and factual But still I choose you to be with me And work on me so you better not flake it up  Ohhhhhh   Baby, baby, baby Ain't got no time for the part-time lovin' I got so much love in me I gotta be loved And that's O.K.  Baby, baby, baby Cause if you're gonna get me off  You got to love me deep (Get me off)  Baby Long as you know that I could have any man I want to Baby that's actual and factual But still I choose you to be with me And work on me so you better not flake it up  Well you want my heart And all my time  Well it won't be there if you can't deal with my mind Cause a girl like me I won't stand for less I require plenty conversation with my sex   I can have any man that I want to  Time and place that I choose to But I think you know that I'd rather be here with you  Yeah That's actual and factual You're the one I seem to run back to  Just to get me off You got to love me, got to love me, got to love me   Baby, baby, baby I want to  Time and place that I choose to  But I think you know that I'd rather be here with you (yeah) That's actual and facutal You're the one I seem to run back to\n",
       "4                                                                                                                                                                                                                                                                                                                                                                                                                                                                                                                                                                                                                                                                                                                                                                                                                                                                                                                                                                                                                                                                                                                                                                                                                                                                                                                                                                                                                                                                                                                                                                                                                                                                                                                                                                                                                                                                                                                                                                                                                                                                                                                                                                                                                                                                                                                                                                                                                                                                                                                                                                                                                                                                                                                                                                                                                        Would you know my name If I saw you in heaven Would it be the same If I saw you in heaven  I must be strong And carry on, 'Cause I know I don't belong Here in heaven.  Would you hold my hand If I saw you in heaven Would you help me stand If I saw you in heaven  I'll find my way Through night and day, 'Cause I know I just can't stay Here in heaven.  Time can bring you down, Time can bend your knees. Time can break your heart, Have you begging please, begging please.  Beyond the door, There's peace I'm sure, And I know there'll be no more Tears in heaven.  Would you know my name If I saw you in heaven Would it be the same If I saw you in heaven  I must be strong And carry on, 'Cause I know I don't belong Here in heaven.\n",
       "..                                                                                                                                                                                                                                                                                                                                                                                                                                                                                                                                                                                                                                                                                                                                                                                                                                                                                                                                                                                                                                                                                                                                                                                                                                                                                                                                                                                                                                                                                                                                                                                                                                                                                                                                                                                                                                                                                                                                                                                                                                                                                                                                                                                                                                                                                                                                                                                                                                                                                                                                                                                                                                                                                                                                                                                                                                                                                                                                                                                                                                                                                                                                                                                                                                                                                                                                                                                                                                                                                                                                                                           ...\n",
       "65                                                                                                                                                                                                                                                                                                                                                                                                                                                                                                                                                                                                                                                                                                                                                                                                                                                                                                                                                                                                                                                                                                                                                                                                                                                                                                                                                                                                                                                                                                                                                                                                                                                                                                                                                                                                                                                                                                                                                                                                                                                                                                                                                                                                                                                                                                                                                                                                                                                                                                                                                                                                                                           Written on piano, performed on guitar. Boom.  It's late at night and neither one of us is sleeping I can't imagine living my life after you're gone Wondering why so many questions have no answers I keep on searching for the reason why we went wrong Where is our yesterday You and I could use it right now But if this is goodbye Just take my heart when you go I don't have the need for it anymore I'll always love you, but you're hard to hold Just take my heart when you go Here we are about to take the final step now I just can't fool myself, I know there's no turing back Face to face it's been endless conversation But when the love is gone you're left with nothing but talk I'd give my everything If only I could turn you around But if this is goodbye Just take my heart when you go I don't have the need for it anymore I'll always love you but you're hard to hold Just take my heart when you go\n",
       "66                                                                                                                                                                                                                                                                                                                                                                                                                                                                                                                                                                                                                                                                                                                                                                                                                                                                                                                                                                                                                                                                                                                                                                                                                                                                                                                                                                                                                                                                                                                                                                                                                                                                                                                                                                                                                                                                                                                                                                                                                                                                                                                                                                                                                                                                                                                                                                                                                                                                                                                                                                                                                                                                            I will be walking one day Down a street far away And see a face in the crowd and smile Knowing how you made me laugh Hearing sweet echoes of you from the past I will remember you.  Look in my eyes while you're near Tell me what's happening here See that I don't want to say good-bye Our love is frozen in time I'll be your champion and you'll be mine I will remember I will remember you.  Later on When this fire is an ember Later on When the night's not so tender Given time Though it's hard to remember darlin' I will be holding I'll still be holding to you I will remember you.  So many years come and gone And yet the memory is strong One word we never could learn Good-bye True love is frozen in time I'll be your champion and you'll be mine I will remember you So please remember I will remember you I will remember you I will remember you I will remember you.\n",
       "67                                                                                                                                                                                                                                                                                                                                                                                                                                                                                                                                                                                                                                                                                                                                                                                                                                                                                                                                                                                                                                                                                                                                                                                                         Do ya wanna get rocked   Let's get, let's get, let's get, let's get  Rocked......   I'm your average, ordinary, everyday kid,  Happy to do nothin'  In fact that's what I did.  Got a million ways to make my day, but daddy don't agree  'Cos when I try to get away he says  He get plans for me   Get your butt right out of bed - Stop buggin' me  Get up and move your sleepy head - Don't shake my tree.   He said  Mow the lawn - Who, me  Walk the dog - Not my style, man!  Take out the trash - No way!  Tidy your room - C'mon get real!  Sorry dad, gotta disappear,  Let's get the rock outta here.   Seven-day weekend,  Up all night,  In at the deep end,  Hang on tight  Won't take a minute,  Won't take long,  So get on in it,  Come on, come on, come on   Let's get, let's get, let's get, let's get rocked  Let's get, let's get, let's get, let's get rocked  Let's go all the way, get it night'n'day  C'mon let's get, let's get, let's get, let's get rocked.   I'm your average, ordinary, everyday dude  Drivin' with my baby, To get her in the mood  She's dialin'through my radio and I'm ready to make my move,  But what she got ain't rock'n'roll and it really blew my groove   It was - Chopin, Mozart, Beethoven  It makes me wanna scream - Bach, Tchaikovsky, violins  Turn it off! - That ain't my scene  Well I'm sorry girl, here's my confession  I suppose a rock's out of the question    Oh, all I wanna do is take a ride into the blue  Ev'ry time I want to love you I get stuck inside my room  Heaven knows I'm sick'n'tired of dancin' with this broom  I feel lucky today  Hey, look at that man!  Do ya wanna get rocked  Do ya wanna get rocked   It won't take you a minute,  It won't take that long,  So get on, get with it,  Oh, c'mon  Everybody!   Let's get, let's get, let's get, let's get rocked  Get on top, baby  Let's get, let's get, let's get, let's get rocked  Do ya wanna  Do ya wanna  Let's get, let's get, let's get, let's get rocked  Get on top of it  Let's get, let's get, let's get, let's get rocked  Love to rock your body, baby  Let's get, let's get, let's get, let's get rocked  Let's go all the way,  Let's do it night and day,  Let's get out and play,  Rock the night away  C'mon  Let's get, let's get, let's get, let's get (rocked)  Oh,  Do ya wanna get rocked\n",
       "68                                                                                                                                                                            Bum stiggedy bum stiggedy bum, hon, I got the old pa-rum-pum-pum-pum But I can fe-fi-fo-fum, diddly-bum, here I come So Peter Piper, I'm hyper than Pinochio's nose I'm the supercalafragilistic tic-tac pro I gave my oopsy, daisy, now you've got the crazy Crazy with the books, Googley-goo where's the gravy So one two, unbuckle my, um shoe Yabba Doo, hippity-hoo, crack a brew So trick or treat, smell my feet, yup I drippedy-dropped a hit So books get on your mark and spark that old censorship Drats and double drats, I smiggedy-smacked some whiz kids The boogedy-woogedly Brooklyn boy's about to get his, dig My waist bone's connected to my hip bone My hip bone's connected to my thigh bone My thigh bone's connected to my knee bone My knee bone's connected to my hardy-har-har-har The jibbedy-jabber jaw ja-jabbing at your funny bone, um Skip the ovaltine, I'd rather have a honeycomb Or preferably the sesame, Let's spiggedy-spark the blunts, um Dun dun dun dun dun, dun dun They want EFX, some live EFX They want EFX, some live EFX They want EFX, some live EFX Snap a neck for some live EFX Well I'll be darned, shiver me timbers, yo head for the hills I picked a weeping willow, and a daffodil So back up bucko or I'll pulverize McGruff 'Cause this little piggy gets busy and stuff Arrivederci, heavens to mercy, honky tonk I get swift I caught a snuffleufagus and smoked a boogaloo spliff I got the nooks, the cranies, the nitty gritty fodey-doe All aboard, cast away, hey where's my boogaloo? Oh I'm steaming, agony Why's everybody always picking on me They call me Puddin' Tane, and rap's my game You ask me again and I'll t-tell you the same 'Cause I'm the vulgar vegemintarian, so stick 'em up freeze So no Park sausages, Mom, please A-blitz shoots the breeze, twiddly-dee shoots his lip Crazy dazy shot the Sheriff, yup and I shot the gift And that's pretty sneaky, sis oh yep I got my socks off, my rocks off, my Nestle's cup of cocoa Holly hobby tried to slob me, tried to rob me silly stunt Diggedy-dun dun dun dun dun, dun dun They want EFX, some live EFX They want EFX, some live EFX They want EFX, some live EFX Snap a neck for some live EFX Yahoo, hidee-ho yup I'm coming around the stretch So here Fido boy, fetch, boy, fetch I got the rope-a-dope a slippery choker, look at me get raw And I'm the hickory-dickory top of morning boogoloo big jaw With the yippedy zippedy Winnie the Pooh bad boy blue, Yo crazy got the gusto, what up, I swing that too So nincompoop give a hoot and stomp a troop without a strain Like Roscoe B. Coltrane I spiggedy-spark a spiff and give a twist like Chubby Checker I take my Froot Loops with two scoops, make it double decker Oh Vince, the baby come to Papa Duke A babaloo, ooh, a babaloo boogedy boo I went from Gucci to Stussy, to fliggedy-flam a groupie To Zsa Zsa, to yibbedy-yabba dabba hoochie koochie Tally ho I-I'll take my Stove Top instead of potatoes, so Maybe I'll shoot 'em now, nope maybe I'll shoot 'em later, yep I used to have a dog and Bingo was his name oh, so uh B - I - N - G - O-oh You do the hokey pokey and you turn yourself around, hon, so uh Dun dun dun dun dun, dun dun They want EFX, some live EFX They want EFX, some live EFX They want EFX, some live EFX Snap a neck for some live EFX\n",
       "69                                                                                                                                                                                                                                                                                                                                                                                                                                                                                                                                                                                                                                                                                                                                                                                                                                                                                                                                                                                                                                                                                                                                                                                                                                                                                                                                                                                                                                                                                                                                                                                                                                                                                                                                                                                                                                                                                                                                                                                                                                                                                                                                                                                                                                                                                                                                                                                                                                                                                                                                                                                                                                         Turn down the lights, turn down the bed  Turn down these voices inside my head  Lay down with me, tell me no lies  Just hold me close, don't patronize - don't patronize me CHORUS: Cause I can't make you love me if you don't You can't make your heart feel something it won't Here in the dark, in these final hours I will lay down my heart and I'll feel the power But you won't, no you won't 'Cause I can't make you love me, if you don't I'll close my eyes, then I won't see The love you don't feel when you're holding me Morning will come and I'll do what's right Just give me till then to give up this fight And I will give up this fight CHORUS: Cause I can't make you love me if you don't You can't make your heart feel something it won't Here in the dark, in these final hours I will lay down my heart and I'll feel the power But you won't, no you won't 'Cause I can't make you love me, if you don't\n",
       "\n",
       "[70 rows x 1 columns]"
      ]
     },
     "execution_count": 7,
     "metadata": {},
     "output_type": "execute_result"
    }
   ],
   "source": [
    "df_lyrics = df.drop(columns=['Title', 'Artist']) \n",
    "df_lyrics"
   ]
  },
  {
   "cell_type": "code",
   "execution_count": 8,
   "id": "94117345",
   "metadata": {},
   "outputs": [
    {
     "name": "stdout",
     "output_type": "stream",
     "text": [
      "<class 'pandas.core.frame.DataFrame'>\n",
      "RangeIndex: 70 entries, 0 to 69\n",
      "Data columns (total 1 columns):\n",
      " #   Column  Non-Null Count  Dtype \n",
      "---  ------  --------------  ----- \n",
      " 0   Lyrics  70 non-null     object\n",
      "dtypes: object(1)\n",
      "memory usage: 688.0+ bytes\n"
     ]
    }
   ],
   "source": [
    "df_lyrics.info()\n",
    "#df_lyrics.describe()"
   ]
  },
  {
   "cell_type": "code",
   "execution_count": 22,
   "id": "50ce95dd",
   "metadata": {},
   "outputs": [
    {
     "data": {
      "text/plain": [
       "Title                                                                                                                                                                                                                                                                                                                                                                                                                                                                                                                                                                                                                                                                                                                                                                                                                                                                                                                                                     My Lovin' (You're Never Gonna Get It)\n",
       "Artist                                                                                                                                                                                                                                                                                                                                                                                                                                                                                                                                                                                                                                                                                                                                                                                                                                                                                                                                                                                 En Vogue\n",
       "Lyrics    I remember how it used to be You never were this nice You can't fool me Now you talkin' Like you made a change The more you talk The more things sound the same What makes you think You can just walk back Into her life Without a good fight I just sit back And watch you make a fool of yourself You're just wasting your time repeat chorus eight times:No, you're never gonna get it, never ever gonna get it, my lovin' Now you promise me The moon and the stars Save your breath You won't get very far Gave you many chances To make changes The only thing you changed Was love to hate It doesn't matter what you do Or what you say She doesn't love you, no way Maybe next time You'll give your woman a little respect Then you won't be hearing her say that-  repeat chorus two times Doesn't matter what you do Or what you say She doesn't love you, no way Maybe next time You'll give your woman a little respect Then you won't be hearing her say that- chorus\n",
       "Name: 5, dtype: object"
      ]
     },
     "execution_count": 22,
     "metadata": {},
     "output_type": "execute_result"
    }
   ],
   "source": [
    "df.iloc[5]"
   ]
  },
  {
   "cell_type": "markdown",
   "id": "6e8649c9",
   "metadata": {},
   "source": [
    "## Lemmatize the lyrics"
   ]
  },
  {
   "cell_type": "code",
   "execution_count": 79,
   "id": "c21f64f3",
   "metadata": {},
   "outputs": [],
   "source": [
    "import nltk\n",
    "from nltk.tokenize import word_tokenize\n",
    "from nltk.corpus import stopwords\n",
    "from nltk.stem import WordNetLemmatizer\n",
    "\n",
    "def lemmatized_lyrics(text):\n",
    "    tokens = tokenize_lyric(text)\n",
    "    \n",
    "    lemmatizer = WordNetLemmatizer()\n",
    "    lemmatized_words = [lemmatizer.lemmatize(word=word,pos='v') for word in tokens]\n",
    "    \n",
    "    return ' '.join(lemmatized_words)\n",
    "\n",
    "def tokenize_lyric(text):\n",
    "    # Remove all unwanted characters. ' , : etc \n",
    "    text = remove_characters(text)\n",
    "    \n",
    "    # Breaks the text into tokens / single words\n",
    "    tokens = word_tokenize(text)\n",
    "    \n",
    "    # Lowercasing and alphabetical order\n",
    "    tokens = list(map(str.lower,tokens))\n",
    "    \n",
    "    # Some of the scraped lyrics have these descriptions in them. Better remove them to avoid 'noise'\n",
    "    tokens = [x for x in tokens if x != 'chorus' and x != 'intro' and x != \"\"]\n",
    "    \n",
    "    tokens = remove_stop_words(tokens)\n",
    "    \n",
    "    return tokens\n",
    "    \n",
    "    \n",
    "def remove_characters(text):\n",
    "    text = text.replace(\"kin'\",\"king\")\n",
    "    text = text.replace(\"vin'\",\"ving\")\n",
    "    text = text.replace(\"'\",\"\")  # Can't = cant\n",
    "    text = text.replace(\"-\",\"\")  # good-bye = goodbye\n",
    "    text = text.replace(\",\",\" \")\n",
    "    text = text.replace(\":\",\" \") \n",
    "    return text\n",
    "\n",
    "def remove_stop_words(tokens):\n",
    "    stop_words = set(stopwords.words('english'))\n",
    "    stop_words = stop_words.union({\"cant\",\"youre\",\"youll\",\"gon\",\"na\",\"wont\",\"doesnt\"})\n",
    "    return [w for w in tokens if not w in stop_words]\n",
    "\n"
   ]
  },
  {
   "cell_type": "markdown",
   "id": "25656a06",
   "metadata": {},
   "source": [
    "# Next section is research. How i made the lemmatizing method"
   ]
  },
  {
   "cell_type": "markdown",
   "id": "08e5f406",
   "metadata": {},
   "source": [
    "# Tokenization\n",
    "Divide the song lyrics into sentences, and then sentences to words. Using nltk (Neural language tool kit)"
   ]
  },
  {
   "cell_type": "code",
   "execution_count": null,
   "id": "89c71a3d",
   "metadata": {},
   "outputs": [],
   "source": []
  },
  {
   "cell_type": "code",
   "execution_count": 77,
   "id": "f29dad8f",
   "metadata": {
    "scrolled": true
   },
   "outputs": [
    {
     "name": "stdout",
     "output_type": "stream",
     "text": [
      "I remember how it used to be You never were this nice You can't fool me Now you talkin' Like you made a change The more you talk The more things sound the same What makes you think You can just walk back Into her life Without a good fight I just sit back And watch you make a fool of yourself You're just wasting your time repeat chorus eight times:No, you're never gonna get it, never ever gonna get it, my lovin' Now you promise me The moon and the stars Save your breath You won't get very far Gave you many chances To make changes The only thing you changed Was love to hate It doesn't matter what you do Or what you say She doesn't love you, no way Maybe next time You'll give your woman a little respect Then you won't be hearing her say that-  repeat chorus two times Doesn't matter what you do Or what you say She doesn't love you, no way Maybe next time You'll give your woman a little respect Then you won't be hearing her say that- chorus\n"
     ]
    }
   ],
   "source": [
    "text = df_lyrics.iloc[5]['Lyrics']\n",
    "print(text)"
   ]
  },
  {
   "cell_type": "code",
   "execution_count": 78,
   "id": "f4599115",
   "metadata": {},
   "outputs": [
    {
     "data": {
      "text/plain": [
       "'remember use never nice fool talk like make change talk things sound make think walk back life without good fight sit back watch make fool waste time repeat eight time never get never ever get love promise moon star save breath get far give many chance make change thing change love hate matter say love way maybe next time give woman little respect hear say repeat two time matter say love way maybe next time give woman little respect hear say'"
      ]
     },
     "execution_count": 78,
     "metadata": {},
     "output_type": "execute_result"
    }
   ],
   "source": [
    "lemmatized_lyrics(text)"
   ]
  },
  {
   "cell_type": "markdown",
   "id": "be448d85",
   "metadata": {},
   "source": [
    "### Remove '[spoken]' etc. (DONE Earlier now)"
   ]
  },
  {
   "cell_type": "code",
   "execution_count": 37,
   "id": "724ea662",
   "metadata": {},
   "outputs": [
    {
     "data": {
      "text/plain": [
       "'I remember how it used to be You never were this nice You cant fool me Now you talkin Like you made a change The more you talk The more things sound the same What makes you think You can just walk back Into her life Without a good fight I just sit back And watch you make a fool of yourself Youre just wasting your time repeat chorus eight times No youre never gonna get it never ever gonna get it my lovin Now you promise me The moon and the stars Save your breath You wont get very far Gave you many chances To make changes The only thing you changed Was love to hate It doesnt matter what you do Or what you say She doesnt love you no way Maybe next time Youll give your woman a little respect Then you wont be hearing her say that  repeat chorus two times Doesnt matter what you do Or what you say She doesnt love you no way Maybe next time Youll give your woman a little respect Then you wont be hearing her say that chorus'"
      ]
     },
     "execution_count": 37,
     "metadata": {},
     "output_type": "execute_result"
    }
   ],
   "source": [
    "sentense = sentense.replace(\"'\",\"\")  # Can't = cant\n",
    "sentense = sentense.replace(\"-\",\"\")  # good-bye = goodbye\n",
    "sentense = sentense.replace(\",\",\" \")\n",
    "sentense = sentense.replace(\":\",\" \") \n",
    "sentense"
   ]
  },
  {
   "cell_type": "code",
   "execution_count": 36,
   "id": "881e7a8b",
   "metadata": {},
   "outputs": [],
   "source": [
    "#import re \n",
    "#sentense = re.sub(\"[\\(\\[].*?[\\)\\]]\", \"\", sentense)"
   ]
  },
  {
   "cell_type": "code",
   "execution_count": 38,
   "id": "83de2680",
   "metadata": {},
   "outputs": [
    {
     "name": "stdout",
     "output_type": "stream",
     "text": [
      "['I', 'remember', 'how', 'it', 'used', 'to', 'be', 'You', 'never', 'were', 'this', 'nice', 'You', 'cant', 'fool', 'me', 'Now', 'you', 'talkin', 'Like', 'you', 'made', 'a', 'change', 'The', 'more', 'you', 'talk', 'The', 'more', 'things', 'sound', 'the', 'same', 'What', 'makes', 'you', 'think', 'You', 'can', 'just', 'walk', 'back', 'Into', 'her', 'life', 'Without', 'a', 'good', 'fight', 'I', 'just', 'sit', 'back', 'And', 'watch', 'you', 'make', 'a', 'fool', 'of', 'yourself', 'Youre', 'just', 'wasting', 'your', 'time', 'repeat', 'chorus', 'eight', 'times', 'No', 'youre', 'never', 'gon', 'na', 'get', 'it', 'never', 'ever', 'gon', 'na', 'get', 'it', 'my', 'lovin', 'Now', 'you', 'promise', 'me', 'The', 'moon', 'and', 'the', 'stars', 'Save', 'your', 'breath', 'You', 'wont', 'get', 'very', 'far', 'Gave', 'you', 'many', 'chances', 'To', 'make', 'changes', 'The', 'only', 'thing', 'you', 'changed', 'Was', 'love', 'to', 'hate', 'It', 'doesnt', 'matter', 'what', 'you', 'do', 'Or', 'what', 'you', 'say', 'She', 'doesnt', 'love', 'you', 'no', 'way', 'Maybe', 'next', 'time', 'Youll', 'give', 'your', 'woman', 'a', 'little', 'respect', 'Then', 'you', 'wont', 'be', 'hearing', 'her', 'say', 'that', 'repeat', 'chorus', 'two', 'times', 'Doesnt', 'matter', 'what', 'you', 'do', 'Or', 'what', 'you', 'say', 'She', 'doesnt', 'love', 'you', 'no', 'way', 'Maybe', 'next', 'time', 'Youll', 'give', 'your', 'woman', 'a', 'little', 'respect', 'Then', 'you', 'wont', 'be', 'hearing', 'her', 'say', 'that', 'chorus']\n"
     ]
    }
   ],
   "source": [
    "import nltk\n",
    "from nltk.tokenize import word_tokenize\n",
    "#function to split text into word\n",
    "tokens = word_tokenize(sentense)\n",
    "print(tokens)"
   ]
  },
  {
   "cell_type": "markdown",
   "id": "35322b49",
   "metadata": {},
   "source": [
    "## Lowercasing"
   ]
  },
  {
   "cell_type": "code",
   "execution_count": 39,
   "id": "acd1d767",
   "metadata": {},
   "outputs": [
    {
     "name": "stdout",
     "output_type": "stream",
     "text": [
      "['i', 'remember', 'how', 'it', 'used', 'to', 'be', 'you', 'never', 'were', 'this', 'nice', 'you', 'cant', 'fool', 'me', 'now', 'you', 'talkin', 'like', 'you', 'made', 'a', 'change', 'the', 'more', 'you', 'talk', 'the', 'more', 'things', 'sound', 'the', 'same', 'what', 'makes', 'you', 'think', 'you', 'can', 'just', 'walk', 'back', 'into', 'her', 'life', 'without', 'a', 'good', 'fight', 'i', 'just', 'sit', 'back', 'and', 'watch', 'you', 'make', 'a', 'fool', 'of', 'yourself', 'youre', 'just', 'wasting', 'your', 'time', 'repeat', 'chorus', 'eight', 'times', 'no', 'youre', 'never', 'gon', 'na', 'get', 'it', 'never', 'ever', 'gon', 'na', 'get', 'it', 'my', 'lovin', 'now', 'you', 'promise', 'me', 'the', 'moon', 'and', 'the', 'stars', 'save', 'your', 'breath', 'you', 'wont', 'get', 'very', 'far', 'gave', 'you', 'many', 'chances', 'to', 'make', 'changes', 'the', 'only', 'thing', 'you', 'changed', 'was', 'love', 'to', 'hate', 'it', 'doesnt', 'matter', 'what', 'you', 'do', 'or', 'what', 'you', 'say', 'she', 'doesnt', 'love', 'you', 'no', 'way', 'maybe', 'next', 'time', 'youll', 'give', 'your', 'woman', 'a', 'little', 'respect', 'then', 'you', 'wont', 'be', 'hearing', 'her', 'say', 'that', 'repeat', 'chorus', 'two', 'times', 'doesnt', 'matter', 'what', 'you', 'do', 'or', 'what', 'you', 'say', 'she', 'doesnt', 'love', 'you', 'no', 'way', 'maybe', 'next', 'time', 'youll', 'give', 'your', 'woman', 'a', 'little', 'respect', 'then', 'you', 'wont', 'be', 'hearing', 'her', 'say', 'that', 'chorus']\n"
     ]
    }
   ],
   "source": [
    "tokens=[word.lower() for word in tokens]\n",
    "# or better\n",
    "tokens = list(map(str.lower,tokens))\n",
    "print(tokens)"
   ]
  },
  {
   "cell_type": "code",
   "execution_count": 40,
   "id": "ec7db9fc",
   "metadata": {},
   "outputs": [],
   "source": [
    "# Some of the scraped lyrics have these descriptions in them. Better remove them to avoid 'noise'\n",
    "tokens = [x for x in tokens if x != 'chorus' and x != 'intro' and x != \"\"]"
   ]
  },
  {
   "cell_type": "markdown",
   "id": "ff651be7",
   "metadata": {},
   "source": [
    "## Remove stop words"
   ]
  },
  {
   "cell_type": "code",
   "execution_count": 41,
   "id": "1d40074e",
   "metadata": {},
   "outputs": [
    {
     "name": "stdout",
     "output_type": "stream",
     "text": [
      "['remember', 'used', 'never', 'nice', 'cant', 'fool', 'talkin', 'like', 'made', 'change', 'talk', 'things', 'sound', 'makes', 'think', 'walk', 'back', 'life', 'without', 'good', 'fight', 'sit', 'back', 'watch', 'make', 'fool', 'youre', 'wasting', 'time', 'repeat', 'eight', 'times', 'youre', 'never', 'gon', 'na', 'get', 'never', 'ever', 'gon', 'na', 'get', 'lovin', 'promise', 'moon', 'stars', 'save', 'breath', 'wont', 'get', 'far', 'gave', 'many', 'chances', 'make', 'changes', 'thing', 'changed', 'love', 'hate', 'doesnt', 'matter', 'say', 'doesnt', 'love', 'way', 'maybe', 'next', 'time', 'youll', 'give', 'woman', 'little', 'respect', 'wont', 'hearing', 'say', 'repeat', 'two', 'times', 'doesnt', 'matter', 'say', 'doesnt', 'love', 'way', 'maybe', 'next', 'time', 'youll', 'give', 'woman', 'little', 'respect', 'wont', 'hearing', 'say']\n"
     ]
    }
   ],
   "source": [
    "from nltk.corpus import stopwords\n",
    "stop_words = set(stopwords.words('english'))\n",
    "tokens = [w for w in tokens if not w in stop_words]\n",
    "print(tokens)\n",
    "\n"
   ]
  },
  {
   "cell_type": "markdown",
   "id": "d24c41d6",
   "metadata": {},
   "source": [
    "## Alternativ 1: Stemming - Reduce complexity"
   ]
  },
  {
   "cell_type": "code",
   "execution_count": 35,
   "id": "acce4b99",
   "metadata": {},
   "outputs": [],
   "source": [
    "import nltk\n",
    "import pandas as pd\n",
    "from nltk.stem import PorterStemmer # Porter is most popular stemmer algorithm\n",
    "\n",
    "# init stemmer\n",
    "porter_stemmer=PorterStemmer()"
   ]
  },
  {
   "cell_type": "code",
   "execution_count": 38,
   "id": "a1f5675d",
   "metadata": {},
   "outputs": [
    {
     "name": "stdout",
     "output_type": "stream",
     "text": [
      "['girl', 'know', 'belong', 'togeth', 'time', 'play', 'heart', 'like', \"'ll\", 'mine', 'forev', 'babi', ',', 'see', 'belong', 'togeth', \"'m\", 'right', 'play', 'heart', ',', 'hy', 'play', 'mind', 'said', \"'d\", 'forev', 'said', \"'d\", 'never', 'die', 'could', 'love', 'leav', 'never', 'say', 'good-by', 'ca', \"n't\", 'sleep', 'night', 'without', 'hold', 'tight', 'girl', ',', 'time', 'tri', 'break', 'cri', 'pain', 'head', 'oh', \"'d\", 'rather', 'dead', 'spinnin', \"'\", 'around', 'around', 'although', \"'ve\", 'come', 'end', 'road', 'still', 'ca', \"n't\", 'let', 'go', \"'s\", 'unnatur', ',', 'belong', ',', 'belong', 'come', 'end', 'road', 'still', 'ca', \"n't\", 'let', 'go', \"'s\", 'unnatur', ',', 'belong', ',', 'belong', 'girl', ',', 'know', 'realli', 'love', ',', \"n't\", 'realiz', \"'ve\", 'never', \"'s\", 'first', 'time', 'mayb', \"'ll\", 'forgiv', ',', 'hmm', 'mayb', \"'ll\", 'tri', 'happi', 'togeth', 'forev', ',', 'love', 'like', 'love', 'time', 'want', 'love', 'much', 'time', 'instead', 'come', 'bed', 'babi', \"n't\", 'let', ',', \"n't\", 'let', 'girl', \"'m\", 'time', 'night', 'hurt', 'run', 'fella', 'babi', 'knew', ',', \"n't\", 'care', \"n't\", 'understand', 'much', 'love', \"'m\", \"'m\", 'go', 'cheat', 'night', 'like', 'babi', \"'s\", 'right', 'hey', ',', 'love', 'anyway', \"'m\", 'still', 'gon', 'na', \"'till\", 'die', 'day', 'babi', 'right', ',', \"'m\", 'much', 'pain', 'babi', 'coz', 'wo', \"n't\", 'come', 'back', 'come', 'back', 'ye', 'babi', 'heart', 'lone', 'heart', 'hurt', 'babi', 'ye', 'feel', 'pain', 'babi', 'pleas', 'time', 'instead', 'come', 'bed', 'babi', \"n't\", 'let', 'go', ']']\n"
     ]
    }
   ],
   "source": [
    "stemmed_words=[porter_stemmer.stem(word=word) for word in tokens]\n",
    "print(stemmed_words)"
   ]
  },
  {
   "cell_type": "markdown",
   "id": "2bf04c95",
   "metadata": {},
   "source": [
    "## Alternativ 2:  Lemmatization"
   ]
  },
  {
   "cell_type": "code",
   "execution_count": 42,
   "id": "a63619b7",
   "metadata": {},
   "outputs": [
    {
     "data": {
      "text/html": [
       "<div>\n",
       "<style scoped>\n",
       "    .dataframe tbody tr th:only-of-type {\n",
       "        vertical-align: middle;\n",
       "    }\n",
       "\n",
       "    .dataframe tbody tr th {\n",
       "        vertical-align: top;\n",
       "    }\n",
       "\n",
       "    .dataframe thead th {\n",
       "        text-align: right;\n",
       "    }\n",
       "</style>\n",
       "<table border=\"1\" class=\"dataframe\">\n",
       "  <thead>\n",
       "    <tr style=\"text-align: right;\">\n",
       "      <th></th>\n",
       "      <th>original_word</th>\n",
       "      <th>lemmatized_word</th>\n",
       "    </tr>\n",
       "  </thead>\n",
       "  <tbody>\n",
       "    <tr>\n",
       "      <th>0</th>\n",
       "      <td>remember</td>\n",
       "      <td>remember</td>\n",
       "    </tr>\n",
       "    <tr>\n",
       "      <th>1</th>\n",
       "      <td>used</td>\n",
       "      <td>use</td>\n",
       "    </tr>\n",
       "    <tr>\n",
       "      <th>2</th>\n",
       "      <td>never</td>\n",
       "      <td>never</td>\n",
       "    </tr>\n",
       "    <tr>\n",
       "      <th>3</th>\n",
       "      <td>nice</td>\n",
       "      <td>nice</td>\n",
       "    </tr>\n",
       "    <tr>\n",
       "      <th>4</th>\n",
       "      <td>cant</td>\n",
       "      <td>cant</td>\n",
       "    </tr>\n",
       "    <tr>\n",
       "      <th>...</th>\n",
       "      <td>...</td>\n",
       "      <td>...</td>\n",
       "    </tr>\n",
       "    <tr>\n",
       "      <th>92</th>\n",
       "      <td>little</td>\n",
       "      <td>little</td>\n",
       "    </tr>\n",
       "    <tr>\n",
       "      <th>93</th>\n",
       "      <td>respect</td>\n",
       "      <td>respect</td>\n",
       "    </tr>\n",
       "    <tr>\n",
       "      <th>94</th>\n",
       "      <td>wont</td>\n",
       "      <td>wont</td>\n",
       "    </tr>\n",
       "    <tr>\n",
       "      <th>95</th>\n",
       "      <td>hearing</td>\n",
       "      <td>hear</td>\n",
       "    </tr>\n",
       "    <tr>\n",
       "      <th>96</th>\n",
       "      <td>say</td>\n",
       "      <td>say</td>\n",
       "    </tr>\n",
       "  </tbody>\n",
       "</table>\n",
       "<p>97 rows × 2 columns</p>\n",
       "</div>"
      ],
      "text/plain": [
       "   original_word lemmatized_word\n",
       "0       remember        remember\n",
       "1           used             use\n",
       "2          never           never\n",
       "3           nice            nice\n",
       "4           cant            cant\n",
       "..           ...             ...\n",
       "92        little          little\n",
       "93       respect         respect\n",
       "94          wont            wont\n",
       "95       hearing            hear\n",
       "96           say             say\n",
       "\n",
       "[97 rows x 2 columns]"
      ]
     },
     "execution_count": 42,
     "metadata": {},
     "output_type": "execute_result"
    }
   ],
   "source": [
    "from nltk.stem import WordNetLemmatizer\n",
    "# nltk.download('wordnet')\n",
    "\n",
    "lemmatizer = WordNetLemmatizer()\n",
    "\n",
    "lemmatized_words=[lemmatizer.lemmatize(word=word,pos='v') for word in tokens]\n",
    "lemmatizeddf= pd.DataFrame({'original_word': tokens,'lemmatized_word': lemmatized_words})\n",
    "lemmatizeddf=lemmatizeddf[['original_word','lemmatized_word']]\n",
    "lemmatizeddf"
   ]
  },
  {
   "cell_type": "code",
   "execution_count": 46,
   "id": "e560ae3b",
   "metadata": {},
   "outputs": [],
   "source": []
  },
  {
   "cell_type": "code",
   "execution_count": 41,
   "id": "932eaf67",
   "metadata": {},
   "outputs": [],
   "source": [
    "lemmatizeddf.to_csv ('data/Lyrics/lemmatization_test.csv', index = False, header=True)"
   ]
  },
  {
   "cell_type": "markdown",
   "id": "0cb91fff",
   "metadata": {},
   "source": [
    " ## Scrub the text - With Stemming"
   ]
  },
  {
   "cell_type": "code",
   "execution_count": 43,
   "id": "03e0035e",
   "metadata": {},
   "outputs": [],
   "source": [
    "import nltk\n",
    "import pandas as pd\n",
    "import re\n",
    "from nltk.stem import PorterStemmer\n",
    "\n",
    "porter_stemmer=PorterStemmer()\n"
   ]
  },
  {
   "cell_type": "code",
   "execution_count": 44,
   "id": "19651633",
   "metadata": {},
   "outputs": [
    {
     "data": {
      "text/html": [
       "<div>\n",
       "<style scoped>\n",
       "    .dataframe tbody tr th:only-of-type {\n",
       "        vertical-align: middle;\n",
       "    }\n",
       "\n",
       "    .dataframe tbody tr th {\n",
       "        vertical-align: top;\n",
       "    }\n",
       "\n",
       "    .dataframe thead th {\n",
       "        text-align: right;\n",
       "    }\n",
       "</style>\n",
       "<table border=\"1\" class=\"dataframe\">\n",
       "  <thead>\n",
       "    <tr style=\"text-align: right;\">\n",
       "      <th></th>\n",
       "      <th>raw_word</th>\n",
       "      <th>stemmed_word</th>\n",
       "    </tr>\n",
       "  </thead>\n",
       "  <tbody>\n",
       "    <tr>\n",
       "      <th>0</th>\n",
       "      <td>girl</td>\n",
       "      <td>girl</td>\n",
       "    </tr>\n",
       "    <tr>\n",
       "      <th>1</th>\n",
       "      <td>know</td>\n",
       "      <td>know</td>\n",
       "    </tr>\n",
       "    <tr>\n",
       "      <th>2</th>\n",
       "      <td>belong</td>\n",
       "      <td>belong</td>\n",
       "    </tr>\n",
       "    <tr>\n",
       "      <th>3</th>\n",
       "      <td>together</td>\n",
       "      <td>togeth</td>\n",
       "    </tr>\n",
       "    <tr>\n",
       "      <th>4</th>\n",
       "      <td>time</td>\n",
       "      <td>time</td>\n",
       "    </tr>\n",
       "    <tr>\n",
       "      <th>...</th>\n",
       "      <td>...</td>\n",
       "      <td>...</td>\n",
       "    </tr>\n",
       "    <tr>\n",
       "      <th>198</th>\n",
       "      <td>baby</td>\n",
       "      <td>babi</td>\n",
       "    </tr>\n",
       "    <tr>\n",
       "      <th>199</th>\n",
       "      <td>n't</td>\n",
       "      <td>n't</td>\n",
       "    </tr>\n",
       "    <tr>\n",
       "      <th>200</th>\n",
       "      <td>let</td>\n",
       "      <td>let</td>\n",
       "    </tr>\n",
       "    <tr>\n",
       "      <th>201</th>\n",
       "      <td>go</td>\n",
       "      <td>go</td>\n",
       "    </tr>\n",
       "    <tr>\n",
       "      <th>202</th>\n",
       "      <td>]</td>\n",
       "      <td>]</td>\n",
       "    </tr>\n",
       "  </tbody>\n",
       "</table>\n",
       "<p>203 rows × 2 columns</p>\n",
       "</div>"
      ],
      "text/plain": [
       "     raw_word stemmed_word\n",
       "0        girl         girl\n",
       "1        know         know\n",
       "2      belong       belong\n",
       "3    together       togeth\n",
       "4        time         time\n",
       "..        ...          ...\n",
       "198      baby         babi\n",
       "199       n't          n't\n",
       "200       let          let\n",
       "201        go           go\n",
       "202         ]            ]\n",
       "\n",
       "[203 rows x 2 columns]"
      ]
     },
     "execution_count": 44,
     "metadata": {},
     "output_type": "execute_result"
    }
   ],
   "source": [
    "# stem raw words with noise\n",
    "\n",
    "stemmed_words=[porter_stemmer.stem(word=word) for word in tokens]\n",
    "stemdf= pd.DataFrame({'raw_word': tokens,'stemmed_word': stemmed_words})\n",
    "stemdf"
   ]
  },
  {
   "cell_type": "code",
   "execution_count": 45,
   "id": "635622fb",
   "metadata": {},
   "outputs": [],
   "source": [
    "def scrub_words(text):\n",
    "    \"\"\"Basic cleaning of texts.\"\"\"\n",
    "    \n",
    "    # remove html markup\n",
    "    text=re.sub(\"(<.*?>)\",\"\",text)\n",
    "    \n",
    "    #remove non-ascii and digits\n",
    "    text=re.sub(\"(\\\\W|\\\\d)\",\" \",text)\n",
    "    \n",
    "    #remove whitespace\n",
    "    text=text.strip()\n",
    "    return text"
   ]
  },
  {
   "cell_type": "code",
   "execution_count": 54,
   "id": "afe09b10",
   "metadata": {},
   "outputs": [
    {
     "data": {
      "text/html": [
       "<div>\n",
       "<style scoped>\n",
       "    .dataframe tbody tr th:only-of-type {\n",
       "        vertical-align: middle;\n",
       "    }\n",
       "\n",
       "    .dataframe tbody tr th {\n",
       "        vertical-align: top;\n",
       "    }\n",
       "\n",
       "    .dataframe thead th {\n",
       "        text-align: right;\n",
       "    }\n",
       "</style>\n",
       "<table border=\"1\" class=\"dataframe\">\n",
       "  <thead>\n",
       "    <tr style=\"text-align: right;\">\n",
       "      <th></th>\n",
       "      <th>raw_word</th>\n",
       "      <th>cleaned_word</th>\n",
       "      <th>stemmed_word</th>\n",
       "    </tr>\n",
       "  </thead>\n",
       "  <tbody>\n",
       "    <tr>\n",
       "      <th>0</th>\n",
       "      <td>girl</td>\n",
       "      <td>girl</td>\n",
       "      <td>girl</td>\n",
       "    </tr>\n",
       "    <tr>\n",
       "      <th>1</th>\n",
       "      <td>know</td>\n",
       "      <td>know</td>\n",
       "      <td>know</td>\n",
       "    </tr>\n",
       "    <tr>\n",
       "      <th>2</th>\n",
       "      <td>belong</td>\n",
       "      <td>belong</td>\n",
       "      <td>belong</td>\n",
       "    </tr>\n",
       "    <tr>\n",
       "      <th>3</th>\n",
       "      <td>together</td>\n",
       "      <td>together</td>\n",
       "      <td>togeth</td>\n",
       "    </tr>\n",
       "    <tr>\n",
       "      <th>4</th>\n",
       "      <td>time</td>\n",
       "      <td>time</td>\n",
       "      <td>time</td>\n",
       "    </tr>\n",
       "    <tr>\n",
       "      <th>...</th>\n",
       "      <td>...</td>\n",
       "      <td>...</td>\n",
       "      <td>...</td>\n",
       "    </tr>\n",
       "    <tr>\n",
       "      <th>198</th>\n",
       "      <td>baby</td>\n",
       "      <td>baby</td>\n",
       "      <td>babi</td>\n",
       "    </tr>\n",
       "    <tr>\n",
       "      <th>199</th>\n",
       "      <td>n't</td>\n",
       "      <td>n t</td>\n",
       "      <td>n t</td>\n",
       "    </tr>\n",
       "    <tr>\n",
       "      <th>200</th>\n",
       "      <td>let</td>\n",
       "      <td>let</td>\n",
       "      <td>let</td>\n",
       "    </tr>\n",
       "    <tr>\n",
       "      <th>201</th>\n",
       "      <td>go</td>\n",
       "      <td>go</td>\n",
       "      <td>go</td>\n",
       "    </tr>\n",
       "    <tr>\n",
       "      <th>202</th>\n",
       "      <td>]</td>\n",
       "      <td></td>\n",
       "      <td></td>\n",
       "    </tr>\n",
       "  </tbody>\n",
       "</table>\n",
       "<p>203 rows × 3 columns</p>\n",
       "</div>"
      ],
      "text/plain": [
       "     raw_word cleaned_word stemmed_word\n",
       "0        girl         girl         girl\n",
       "1        know         know         know\n",
       "2      belong       belong       belong\n",
       "3    together     together       togeth\n",
       "4        time         time         time\n",
       "..        ...          ...          ...\n",
       "198      baby         baby         babi\n",
       "199       n't          n t          n t\n",
       "200       let          let          let\n",
       "201        go           go           go\n",
       "202         ]                          \n",
       "\n",
       "[203 rows x 3 columns]"
      ]
     },
     "execution_count": 54,
     "metadata": {},
     "output_type": "execute_result"
    }
   ],
   "source": [
    "# stem words already cleaned\n",
    "cleaned_words=[scrub_words(w) for w in tokens]\n",
    "cleaned_stemmed_words=[porter_stemmer.stem(word=word) for word in cleaned_words]\n",
    "stemdf= pd.DataFrame({'raw_word': tokens,'cleaned_word':cleaned_words,'stemmed_word': cleaned_stemmed_words})\n",
    "stemdf=stemdf[['raw_word','cleaned_word','stemmed_word']]\n",
    "stemdf"
   ]
  },
  {
   "cell_type": "code",
   "execution_count": 56,
   "id": "e92893d9",
   "metadata": {},
   "outputs": [],
   "source": [
    "stemdf['stemmed_word'].replace('', np.nan, inplace=True)"
   ]
  },
  {
   "cell_type": "code",
   "execution_count": 61,
   "id": "5775ed7d",
   "metadata": {},
   "outputs": [
    {
     "data": {
      "text/html": [
       "<div>\n",
       "<style scoped>\n",
       "    .dataframe tbody tr th:only-of-type {\n",
       "        vertical-align: middle;\n",
       "    }\n",
       "\n",
       "    .dataframe tbody tr th {\n",
       "        vertical-align: top;\n",
       "    }\n",
       "\n",
       "    .dataframe thead th {\n",
       "        text-align: right;\n",
       "    }\n",
       "</style>\n",
       "<table border=\"1\" class=\"dataframe\">\n",
       "  <thead>\n",
       "    <tr style=\"text-align: right;\">\n",
       "      <th></th>\n",
       "      <th>raw_word</th>\n",
       "      <th>cleaned_word</th>\n",
       "      <th>stemmed_word</th>\n",
       "    </tr>\n",
       "  </thead>\n",
       "  <tbody>\n",
       "    <tr>\n",
       "      <th>0</th>\n",
       "      <td>girl</td>\n",
       "      <td>girl</td>\n",
       "      <td>girl</td>\n",
       "    </tr>\n",
       "    <tr>\n",
       "      <th>1</th>\n",
       "      <td>know</td>\n",
       "      <td>know</td>\n",
       "      <td>know</td>\n",
       "    </tr>\n",
       "    <tr>\n",
       "      <th>2</th>\n",
       "      <td>belong</td>\n",
       "      <td>belong</td>\n",
       "      <td>belong</td>\n",
       "    </tr>\n",
       "    <tr>\n",
       "      <th>3</th>\n",
       "      <td>together</td>\n",
       "      <td>together</td>\n",
       "      <td>togeth</td>\n",
       "    </tr>\n",
       "    <tr>\n",
       "      <th>4</th>\n",
       "      <td>time</td>\n",
       "      <td>time</td>\n",
       "      <td>time</td>\n",
       "    </tr>\n",
       "    <tr>\n",
       "      <th>...</th>\n",
       "      <td>...</td>\n",
       "      <td>...</td>\n",
       "      <td>...</td>\n",
       "    </tr>\n",
       "    <tr>\n",
       "      <th>197</th>\n",
       "      <td>bed</td>\n",
       "      <td>bed</td>\n",
       "      <td>bed</td>\n",
       "    </tr>\n",
       "    <tr>\n",
       "      <th>198</th>\n",
       "      <td>baby</td>\n",
       "      <td>baby</td>\n",
       "      <td>babi</td>\n",
       "    </tr>\n",
       "    <tr>\n",
       "      <th>199</th>\n",
       "      <td>n't</td>\n",
       "      <td>n t</td>\n",
       "      <td>n t</td>\n",
       "    </tr>\n",
       "    <tr>\n",
       "      <th>200</th>\n",
       "      <td>let</td>\n",
       "      <td>let</td>\n",
       "      <td>let</td>\n",
       "    </tr>\n",
       "    <tr>\n",
       "      <th>201</th>\n",
       "      <td>go</td>\n",
       "      <td>go</td>\n",
       "      <td>go</td>\n",
       "    </tr>\n",
       "  </tbody>\n",
       "</table>\n",
       "<p>186 rows × 3 columns</p>\n",
       "</div>"
      ],
      "text/plain": [
       "     raw_word cleaned_word stemmed_word\n",
       "0        girl         girl         girl\n",
       "1        know         know         know\n",
       "2      belong       belong       belong\n",
       "3    together     together       togeth\n",
       "4        time         time         time\n",
       "..        ...          ...          ...\n",
       "197       bed          bed          bed\n",
       "198      baby         baby         babi\n",
       "199       n't          n t          n t\n",
       "200       let          let          let\n",
       "201        go           go           go\n",
       "\n",
       "[186 rows x 3 columns]"
      ]
     },
     "execution_count": 61,
     "metadata": {},
     "output_type": "execute_result"
    }
   ],
   "source": [
    "# Remove the weird ']'\n",
    "stemdf = stemdf.dropna()\n",
    "stemdf"
   ]
  },
  {
   "cell_type": "code",
   "execution_count": 47,
   "id": "5b964b1d",
   "metadata": {},
   "outputs": [],
   "source": [
    "stemdf.to_csv ('data/Lyrics/stemmed_test.csv', index = False, header=True)"
   ]
  },
  {
   "cell_type": "markdown",
   "id": "16a05fa5",
   "metadata": {},
   "source": [
    "#### There is a bunch of words like:\n",
    "\n",
    "- 'll      meaning  will (Like in I'll = I will)\n",
    "- 've      should've ( Should have)\n",
    "- 'd       I'd ( I would)\n",
    "- ca       can't (can)\n",
    "- n't      can't (not)\n",
    "- 'm       I'm (am)\n",
    "- 'till    (untill)\n",
    "- coz      (because)\n",
    "- good by  good-bye (goodbye)\n",
    "\n",
    "Maybe i should look for those words? or maybe that's a distinct writing style, that can help categories the song texts"
   ]
  },
  {
   "cell_type": "markdown",
   "id": "c10f350c",
   "metadata": {},
   "source": [
    "#### Maybe i can get some inspiration from here: https://kvsingh.github.io/lyrics-sentiment-analysis.html"
   ]
  },
  {
   "cell_type": "markdown",
   "id": "4666260f",
   "metadata": {},
   "source": [
    "### TF-IDF Vectorization"
   ]
  },
  {
   "cell_type": "code",
   "execution_count": 64,
   "id": "4bf3a787",
   "metadata": {},
   "outputs": [],
   "source": [
    "from sklearn.feature_extraction.text import TfidfVectorizer\n",
    "\n",
    "tfidf = TfidfVectorizer(stop_words=\"english\")\n",
    "df_abstracts_tfidf = tfidf.fit_transform(stemdf[\"stemmed_word\"])"
   ]
  },
  {
   "cell_type": "markdown",
   "id": "9ad7bd08",
   "metadata": {},
   "source": [
    "#### OBS! Need to change this. The dataframe should be of all the songs.. The one i use rigth now, is a df of words from the first song.."
   ]
  },
  {
   "cell_type": "code",
   "execution_count": 66,
   "id": "4d658648",
   "metadata": {},
   "outputs": [
    {
     "name": "stderr",
     "output_type": "stream",
     "text": [
      "/opt/conda/lib/python3.10/site-packages/sklearn/utils/deprecation.py:87: FutureWarning: Function get_feature_names is deprecated; get_feature_names is deprecated in 1.0 and will be removed in 1.2. Please use get_feature_names_out instead.\n",
      "  warnings.warn(msg, category=FutureWarning)\n"
     ]
    },
    {
     "data": {
      "text/html": [
       "<div>\n",
       "<style scoped>\n",
       "    .dataframe tbody tr th:only-of-type {\n",
       "        vertical-align: middle;\n",
       "    }\n",
       "\n",
       "    .dataframe tbody tr th {\n",
       "        vertical-align: top;\n",
       "    }\n",
       "\n",
       "    .dataframe thead th {\n",
       "        text-align: right;\n",
       "    }\n",
       "</style>\n",
       "<table border=\"1\" class=\"dataframe\">\n",
       "  <thead>\n",
       "    <tr style=\"text-align: right;\">\n",
       "      <th></th>\n",
       "      <th>babi</th>\n",
       "    </tr>\n",
       "  </thead>\n",
       "  <tbody>\n",
       "    <tr>\n",
       "      <th>count</th>\n",
       "      <td>186.000000</td>\n",
       "    </tr>\n",
       "    <tr>\n",
       "      <th>mean</th>\n",
       "      <td>0.053763</td>\n",
       "    </tr>\n",
       "    <tr>\n",
       "      <th>std</th>\n",
       "      <td>0.226159</td>\n",
       "    </tr>\n",
       "    <tr>\n",
       "      <th>min</th>\n",
       "      <td>0.000000</td>\n",
       "    </tr>\n",
       "    <tr>\n",
       "      <th>25%</th>\n",
       "      <td>0.000000</td>\n",
       "    </tr>\n",
       "    <tr>\n",
       "      <th>50%</th>\n",
       "      <td>0.000000</td>\n",
       "    </tr>\n",
       "    <tr>\n",
       "      <th>75%</th>\n",
       "      <td>0.000000</td>\n",
       "    </tr>\n",
       "    <tr>\n",
       "      <th>max</th>\n",
       "      <td>1.000000</td>\n",
       "    </tr>\n",
       "  </tbody>\n",
       "</table>\n",
       "</div>"
      ],
      "text/plain": [
       "             babi\n",
       "count  186.000000\n",
       "mean     0.053763\n",
       "std      0.226159\n",
       "min      0.000000\n",
       "25%      0.000000\n",
       "50%      0.000000\n",
       "75%      0.000000\n",
       "max      1.000000"
      ]
     },
     "execution_count": 66,
     "metadata": {},
     "output_type": "execute_result"
    }
   ],
   "source": [
    "# creating a new TF-IDF matrix\n",
    "tfidf = TfidfVectorizer(stop_words=\"english\", ngram_range=(1,2), max_features=250, strip_accents=\"unicode\", min_df=10, max_df=200)\n",
    "tfidf_religion_array = tfidf.fit_transform(stemdf[\"stemmed_word\"])\n",
    "df_abstracts_tfidf = pd.DataFrame(tfidf_religion_array.toarray(), index=stemdf.index, columns=tfidf.get_feature_names())\n",
    "df_abstracts_tfidf.describe()"
   ]
  },
  {
   "cell_type": "code",
   "execution_count": null,
   "id": "9f177481",
   "metadata": {},
   "outputs": [],
   "source": []
  }
 ],
 "metadata": {
  "kernelspec": {
   "display_name": "Python 3 (ipykernel)",
   "language": "python",
   "name": "python3"
  },
  "language_info": {
   "codemirror_mode": {
    "name": "ipython",
    "version": 3
   },
   "file_extension": ".py",
   "mimetype": "text/x-python",
   "name": "python",
   "nbconvert_exporter": "python",
   "pygments_lexer": "ipython3",
   "version": "3.10.6"
  }
 },
 "nbformat": 4,
 "nbformat_minor": 5
}
