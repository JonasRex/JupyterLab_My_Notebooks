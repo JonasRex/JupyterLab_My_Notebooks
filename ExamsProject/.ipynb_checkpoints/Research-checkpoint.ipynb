{
 "cells": [
  {
   "cell_type": "markdown",
   "id": "9e2a7676",
   "metadata": {},
   "source": [
    "Article about clustering text: https://towardsdatascience.com/how-to-easily-cluster-textual-data-in-python-ab27040b07d8"
   ]
  },
  {
   "cell_type": "code",
   "execution_count": 2,
   "id": "95d06f8a",
   "metadata": {},
   "outputs": [],
   "source": [
    "# hej"
   ]
  },
  {
   "cell_type": "code",
   "execution_count": null,
   "id": "d2fe6b48",
   "metadata": {},
   "outputs": [],
   "source": []
  }
 ],
 "metadata": {
  "kernelspec": {
   "display_name": "Python 3 (ipykernel)",
   "language": "python",
   "name": "python3"
  },
  "language_info": {
   "codemirror_mode": {
    "name": "ipython",
    "version": 3
   },
   "file_extension": ".py",
   "mimetype": "text/x-python",
   "name": "python",
   "nbconvert_exporter": "python",
   "pygments_lexer": "ipython3",
   "version": "3.10.6"
  }
 },
 "nbformat": 4,
 "nbformat_minor": 5
}
