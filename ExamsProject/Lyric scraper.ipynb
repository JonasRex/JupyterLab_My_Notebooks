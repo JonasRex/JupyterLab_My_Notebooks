{
 "cells": [
  {
   "cell_type": "markdown",
   "id": "833f821a",
   "metadata": {},
   "source": [
    "## Web scrape all the lyrics"
   ]
  },
  {
   "cell_type": "markdown",
   "id": "ff0c95ad",
   "metadata": {},
   "source": [
    "## Textblob (For the lyrics)\n",
    "- https://www.youtube.com/watch?v=ea4IadDRwuc&list=PL_92WMXSLe_-RkWW5zAQZ-gMdVqZ7T-_F&index=3\n",
    "- https://textblob.readthedocs.io/en/dev/quickstart.html"
   ]
  },
  {
   "cell_type": "code",
   "execution_count": null,
   "id": "94dd138b",
   "metadata": {},
   "outputs": [],
   "source": []
  }
 ],
 "metadata": {
  "kernelspec": {
   "display_name": "Python 3 (ipykernel)",
   "language": "python",
   "name": "python3"
  },
  "language_info": {
   "codemirror_mode": {
    "name": "ipython",
    "version": 3
   },
   "file_extension": ".py",
   "mimetype": "text/x-python",
   "name": "python",
   "nbconvert_exporter": "python",
   "pygments_lexer": "ipython3",
   "version": "3.10.6"
  }
 },
 "nbformat": 4,
 "nbformat_minor": 5
}
